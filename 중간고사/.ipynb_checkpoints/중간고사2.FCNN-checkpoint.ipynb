{
 "cells": [
  {
   "cell_type": "markdown",
   "id": "da34ad0b-6fd0-4440-abd4-49b5dd51bd50",
   "metadata": {},
   "source": [
    "10/22 중간고사"
   ]
  },
  {
   "cell_type": "markdown",
   "id": "d7239af6-ffd2-4e0b-8f7a-1a5379b4ea0d",
   "metadata": {},
   "source": [
    "1. 깃허브 자신의 계정에 수업과 숙제를 올린 소스코드만 참조가능\n",
    "\n",
    "(그 외의 참조는 부정으로 간주 F처리)\n",
    "\n",
    "\n",
    "\n",
    "# 데이터 로드\n",
    "url = 'https://archive.ics.uci.edu/ml/machine-learning-databases/car/car.data'\n",
    "columns = ['buying', 'maint', 'doors', 'persons', 'lug_boot', 'safety', 'class']\n",
    "data = pd.read_csv(url, names=columns)\n",
    "\n",
    "# 데이터 확인\n",
    "print(data.head())\n",
    "\n",
    "2. 해당 소스를 이용하여 ML 분류 RF, LR, DT\n",
    "\n",
    "3. 해당 소스를 이용하여 FCNN\n",
    "\n",
    "4. 해당 소스를 이용하여 CNN\n",
    "\n",
    "5. 모든 소스에는 F1값 및 confusion matrix 표시"
   ]
  },
  {
   "cell_type": "code",
   "execution_count": 1,
   "id": "86fce1a2-4e91-4086-87e3-85ee30500b2a",
   "metadata": {},
   "outputs": [
    {
     "data": {
      "text/html": [
       "<div>\n",
       "<style scoped>\n",
       "    .dataframe tbody tr th:only-of-type {\n",
       "        vertical-align: middle;\n",
       "    }\n",
       "\n",
       "    .dataframe tbody tr th {\n",
       "        vertical-align: top;\n",
       "    }\n",
       "\n",
       "    .dataframe thead th {\n",
       "        text-align: right;\n",
       "    }\n",
       "</style>\n",
       "<table border=\"1\" class=\"dataframe\">\n",
       "  <thead>\n",
       "    <tr style=\"text-align: right;\">\n",
       "      <th></th>\n",
       "      <th>buying</th>\n",
       "      <th>maint</th>\n",
       "      <th>doors</th>\n",
       "      <th>persons</th>\n",
       "      <th>lug_boot</th>\n",
       "      <th>safety</th>\n",
       "      <th>class</th>\n",
       "    </tr>\n",
       "  </thead>\n",
       "  <tbody>\n",
       "    <tr>\n",
       "      <th>0</th>\n",
       "      <td>vhigh</td>\n",
       "      <td>vhigh</td>\n",
       "      <td>2</td>\n",
       "      <td>2</td>\n",
       "      <td>small</td>\n",
       "      <td>low</td>\n",
       "      <td>unacc</td>\n",
       "    </tr>\n",
       "    <tr>\n",
       "      <th>1</th>\n",
       "      <td>vhigh</td>\n",
       "      <td>vhigh</td>\n",
       "      <td>2</td>\n",
       "      <td>2</td>\n",
       "      <td>small</td>\n",
       "      <td>med</td>\n",
       "      <td>unacc</td>\n",
       "    </tr>\n",
       "    <tr>\n",
       "      <th>2</th>\n",
       "      <td>vhigh</td>\n",
       "      <td>vhigh</td>\n",
       "      <td>2</td>\n",
       "      <td>2</td>\n",
       "      <td>small</td>\n",
       "      <td>high</td>\n",
       "      <td>unacc</td>\n",
       "    </tr>\n",
       "    <tr>\n",
       "      <th>3</th>\n",
       "      <td>vhigh</td>\n",
       "      <td>vhigh</td>\n",
       "      <td>2</td>\n",
       "      <td>2</td>\n",
       "      <td>med</td>\n",
       "      <td>low</td>\n",
       "      <td>unacc</td>\n",
       "    </tr>\n",
       "    <tr>\n",
       "      <th>4</th>\n",
       "      <td>vhigh</td>\n",
       "      <td>vhigh</td>\n",
       "      <td>2</td>\n",
       "      <td>2</td>\n",
       "      <td>med</td>\n",
       "      <td>med</td>\n",
       "      <td>unacc</td>\n",
       "    </tr>\n",
       "    <tr>\n",
       "      <th>...</th>\n",
       "      <td>...</td>\n",
       "      <td>...</td>\n",
       "      <td>...</td>\n",
       "      <td>...</td>\n",
       "      <td>...</td>\n",
       "      <td>...</td>\n",
       "      <td>...</td>\n",
       "    </tr>\n",
       "    <tr>\n",
       "      <th>1723</th>\n",
       "      <td>low</td>\n",
       "      <td>low</td>\n",
       "      <td>5more</td>\n",
       "      <td>more</td>\n",
       "      <td>med</td>\n",
       "      <td>med</td>\n",
       "      <td>good</td>\n",
       "    </tr>\n",
       "    <tr>\n",
       "      <th>1724</th>\n",
       "      <td>low</td>\n",
       "      <td>low</td>\n",
       "      <td>5more</td>\n",
       "      <td>more</td>\n",
       "      <td>med</td>\n",
       "      <td>high</td>\n",
       "      <td>vgood</td>\n",
       "    </tr>\n",
       "    <tr>\n",
       "      <th>1725</th>\n",
       "      <td>low</td>\n",
       "      <td>low</td>\n",
       "      <td>5more</td>\n",
       "      <td>more</td>\n",
       "      <td>big</td>\n",
       "      <td>low</td>\n",
       "      <td>unacc</td>\n",
       "    </tr>\n",
       "    <tr>\n",
       "      <th>1726</th>\n",
       "      <td>low</td>\n",
       "      <td>low</td>\n",
       "      <td>5more</td>\n",
       "      <td>more</td>\n",
       "      <td>big</td>\n",
       "      <td>med</td>\n",
       "      <td>good</td>\n",
       "    </tr>\n",
       "    <tr>\n",
       "      <th>1727</th>\n",
       "      <td>low</td>\n",
       "      <td>low</td>\n",
       "      <td>5more</td>\n",
       "      <td>more</td>\n",
       "      <td>big</td>\n",
       "      <td>high</td>\n",
       "      <td>vgood</td>\n",
       "    </tr>\n",
       "  </tbody>\n",
       "</table>\n",
       "<p>1728 rows × 7 columns</p>\n",
       "</div>"
      ],
      "text/plain": [
       "     buying  maint  doors persons lug_boot safety  class\n",
       "0     vhigh  vhigh      2       2    small    low  unacc\n",
       "1     vhigh  vhigh      2       2    small    med  unacc\n",
       "2     vhigh  vhigh      2       2    small   high  unacc\n",
       "3     vhigh  vhigh      2       2      med    low  unacc\n",
       "4     vhigh  vhigh      2       2      med    med  unacc\n",
       "...     ...    ...    ...     ...      ...    ...    ...\n",
       "1723    low    low  5more    more      med    med   good\n",
       "1724    low    low  5more    more      med   high  vgood\n",
       "1725    low    low  5more    more      big    low  unacc\n",
       "1726    low    low  5more    more      big    med   good\n",
       "1727    low    low  5more    more      big   high  vgood\n",
       "\n",
       "[1728 rows x 7 columns]"
      ]
     },
     "execution_count": 1,
     "metadata": {},
     "output_type": "execute_result"
    }
   ],
   "source": [
    "import pandas as pd\n",
    "url = 'https://archive.ics.uci.edu/ml/machine-learning-databases/car/car.data'\n",
    "columns = ['buying', 'maint', 'doors', 'persons', 'lug_boot', 'safety', 'class']\n",
    "df = pd.read_csv(url, names=columns)\n",
    "df"
   ]
  },
  {
   "cell_type": "code",
   "execution_count": 2,
   "id": "ceba6f08-9799-46d8-a3af-29e0470528d2",
   "metadata": {},
   "outputs": [],
   "source": [
    "from sklearn.preprocessing import LabelEncoder\n",
    "\n",
    "labelencoder=LabelEncoder()\n",
    "df['class']=labelencoder.fit_transform(df['class'])"
   ]
  },
  {
   "cell_type": "code",
   "execution_count": 3,
   "id": "bfa942d9-3236-46d1-9db9-61107864cc22",
   "metadata": {},
   "outputs": [
    {
     "data": {
      "text/html": [
       "<div>\n",
       "<style scoped>\n",
       "    .dataframe tbody tr th:only-of-type {\n",
       "        vertical-align: middle;\n",
       "    }\n",
       "\n",
       "    .dataframe tbody tr th {\n",
       "        vertical-align: top;\n",
       "    }\n",
       "\n",
       "    .dataframe thead th {\n",
       "        text-align: right;\n",
       "    }\n",
       "</style>\n",
       "<table border=\"1\" class=\"dataframe\">\n",
       "  <thead>\n",
       "    <tr style=\"text-align: right;\">\n",
       "      <th></th>\n",
       "      <th>buying</th>\n",
       "      <th>maint</th>\n",
       "      <th>doors</th>\n",
       "      <th>persons</th>\n",
       "      <th>lug_boot</th>\n",
       "      <th>safety</th>\n",
       "    </tr>\n",
       "  </thead>\n",
       "  <tbody>\n",
       "    <tr>\n",
       "      <th>0</th>\n",
       "      <td>vhigh</td>\n",
       "      <td>vhigh</td>\n",
       "      <td>2</td>\n",
       "      <td>2</td>\n",
       "      <td>small</td>\n",
       "      <td>low</td>\n",
       "    </tr>\n",
       "    <tr>\n",
       "      <th>1</th>\n",
       "      <td>vhigh</td>\n",
       "      <td>vhigh</td>\n",
       "      <td>2</td>\n",
       "      <td>2</td>\n",
       "      <td>small</td>\n",
       "      <td>med</td>\n",
       "    </tr>\n",
       "    <tr>\n",
       "      <th>2</th>\n",
       "      <td>vhigh</td>\n",
       "      <td>vhigh</td>\n",
       "      <td>2</td>\n",
       "      <td>2</td>\n",
       "      <td>small</td>\n",
       "      <td>high</td>\n",
       "    </tr>\n",
       "    <tr>\n",
       "      <th>3</th>\n",
       "      <td>vhigh</td>\n",
       "      <td>vhigh</td>\n",
       "      <td>2</td>\n",
       "      <td>2</td>\n",
       "      <td>med</td>\n",
       "      <td>low</td>\n",
       "    </tr>\n",
       "    <tr>\n",
       "      <th>4</th>\n",
       "      <td>vhigh</td>\n",
       "      <td>vhigh</td>\n",
       "      <td>2</td>\n",
       "      <td>2</td>\n",
       "      <td>med</td>\n",
       "      <td>med</td>\n",
       "    </tr>\n",
       "  </tbody>\n",
       "</table>\n",
       "</div>"
      ],
      "text/plain": [
       "  buying  maint doors persons lug_boot safety\n",
       "0  vhigh  vhigh     2       2    small    low\n",
       "1  vhigh  vhigh     2       2    small    med\n",
       "2  vhigh  vhigh     2       2    small   high\n",
       "3  vhigh  vhigh     2       2      med    low\n",
       "4  vhigh  vhigh     2       2      med    med"
      ]
     },
     "execution_count": 3,
     "metadata": {},
     "output_type": "execute_result"
    }
   ],
   "source": [
    "X=df.drop('class',axis=1)\n",
    "X.head()"
   ]
  },
  {
   "cell_type": "code",
   "execution_count": 4,
   "id": "5d816d94-adab-4722-98ed-37152a5847fd",
   "metadata": {},
   "outputs": [
    {
     "data": {
      "text/plain": [
       "0       2\n",
       "1       2\n",
       "2       2\n",
       "3       2\n",
       "4       2\n",
       "       ..\n",
       "1723    1\n",
       "1724    3\n",
       "1725    2\n",
       "1726    1\n",
       "1727    3\n",
       "Name: class, Length: 1728, dtype: int32"
      ]
     },
     "execution_count": 4,
     "metadata": {},
     "output_type": "execute_result"
    }
   ],
   "source": [
    "y=df['class']\n",
    "y"
   ]
  },
  {
   "cell_type": "code",
   "execution_count": 5,
   "id": "99316094-d1bd-496e-b150-8c0f6fda2a56",
   "metadata": {},
   "outputs": [
    {
     "data": {
      "text/html": [
       "<div>\n",
       "<style scoped>\n",
       "    .dataframe tbody tr th:only-of-type {\n",
       "        vertical-align: middle;\n",
       "    }\n",
       "\n",
       "    .dataframe tbody tr th {\n",
       "        vertical-align: top;\n",
       "    }\n",
       "\n",
       "    .dataframe thead th {\n",
       "        text-align: right;\n",
       "    }\n",
       "</style>\n",
       "<table border=\"1\" class=\"dataframe\">\n",
       "  <thead>\n",
       "    <tr style=\"text-align: right;\">\n",
       "      <th></th>\n",
       "      <th>buying</th>\n",
       "      <th>maint</th>\n",
       "      <th>doors</th>\n",
       "      <th>persons</th>\n",
       "      <th>lug_boot</th>\n",
       "      <th>safety</th>\n",
       "    </tr>\n",
       "  </thead>\n",
       "  <tbody>\n",
       "    <tr>\n",
       "      <th>0</th>\n",
       "      <td>3</td>\n",
       "      <td>3</td>\n",
       "      <td>0</td>\n",
       "      <td>0</td>\n",
       "      <td>2</td>\n",
       "      <td>1</td>\n",
       "    </tr>\n",
       "    <tr>\n",
       "      <th>1</th>\n",
       "      <td>3</td>\n",
       "      <td>3</td>\n",
       "      <td>0</td>\n",
       "      <td>0</td>\n",
       "      <td>2</td>\n",
       "      <td>2</td>\n",
       "    </tr>\n",
       "    <tr>\n",
       "      <th>2</th>\n",
       "      <td>3</td>\n",
       "      <td>3</td>\n",
       "      <td>0</td>\n",
       "      <td>0</td>\n",
       "      <td>2</td>\n",
       "      <td>0</td>\n",
       "    </tr>\n",
       "    <tr>\n",
       "      <th>3</th>\n",
       "      <td>3</td>\n",
       "      <td>3</td>\n",
       "      <td>0</td>\n",
       "      <td>0</td>\n",
       "      <td>1</td>\n",
       "      <td>1</td>\n",
       "    </tr>\n",
       "    <tr>\n",
       "      <th>4</th>\n",
       "      <td>3</td>\n",
       "      <td>3</td>\n",
       "      <td>0</td>\n",
       "      <td>0</td>\n",
       "      <td>1</td>\n",
       "      <td>2</td>\n",
       "    </tr>\n",
       "    <tr>\n",
       "      <th>...</th>\n",
       "      <td>...</td>\n",
       "      <td>...</td>\n",
       "      <td>...</td>\n",
       "      <td>...</td>\n",
       "      <td>...</td>\n",
       "      <td>...</td>\n",
       "    </tr>\n",
       "    <tr>\n",
       "      <th>1723</th>\n",
       "      <td>1</td>\n",
       "      <td>1</td>\n",
       "      <td>3</td>\n",
       "      <td>2</td>\n",
       "      <td>1</td>\n",
       "      <td>2</td>\n",
       "    </tr>\n",
       "    <tr>\n",
       "      <th>1724</th>\n",
       "      <td>1</td>\n",
       "      <td>1</td>\n",
       "      <td>3</td>\n",
       "      <td>2</td>\n",
       "      <td>1</td>\n",
       "      <td>0</td>\n",
       "    </tr>\n",
       "    <tr>\n",
       "      <th>1725</th>\n",
       "      <td>1</td>\n",
       "      <td>1</td>\n",
       "      <td>3</td>\n",
       "      <td>2</td>\n",
       "      <td>0</td>\n",
       "      <td>1</td>\n",
       "    </tr>\n",
       "    <tr>\n",
       "      <th>1726</th>\n",
       "      <td>1</td>\n",
       "      <td>1</td>\n",
       "      <td>3</td>\n",
       "      <td>2</td>\n",
       "      <td>0</td>\n",
       "      <td>2</td>\n",
       "    </tr>\n",
       "    <tr>\n",
       "      <th>1727</th>\n",
       "      <td>1</td>\n",
       "      <td>1</td>\n",
       "      <td>3</td>\n",
       "      <td>2</td>\n",
       "      <td>0</td>\n",
       "      <td>0</td>\n",
       "    </tr>\n",
       "  </tbody>\n",
       "</table>\n",
       "<p>1728 rows × 6 columns</p>\n",
       "</div>"
      ],
      "text/plain": [
       "      buying  maint  doors  persons  lug_boot  safety\n",
       "0          3      3      0        0         2       1\n",
       "1          3      3      0        0         2       2\n",
       "2          3      3      0        0         2       0\n",
       "3          3      3      0        0         1       1\n",
       "4          3      3      0        0         1       2\n",
       "...      ...    ...    ...      ...       ...     ...\n",
       "1723       1      1      3        2         1       2\n",
       "1724       1      1      3        2         1       0\n",
       "1725       1      1      3        2         0       1\n",
       "1726       1      1      3        2         0       2\n",
       "1727       1      1      3        2         0       0\n",
       "\n",
       "[1728 rows x 6 columns]"
      ]
     },
     "execution_count": 5,
     "metadata": {},
     "output_type": "execute_result"
    }
   ],
   "source": [
    "from sklearn.preprocessing import LabelEncoder\n",
    "\n",
    "labelencoder=LabelEncoder()\n",
    "X['buying']=labelencoder.fit_transform(X['buying'])\n",
    "X['maint']=labelencoder.fit_transform(X['maint'])\n",
    "X['doors']=labelencoder.fit_transform(X['doors'])\n",
    "X['persons']=labelencoder.fit_transform(X['persons'])\n",
    "X['lug_boot']=labelencoder.fit_transform(X['lug_boot'])\n",
    "X['safety']=labelencoder.fit_transform(X['safety'])\n",
    "X"
   ]
  },
  {
   "cell_type": "code",
   "execution_count": 6,
   "id": "82ea542a-e464-46ad-b447-2028f0953199",
   "metadata": {},
   "outputs": [],
   "source": [
    "from sklearn.model_selection import train_test_split\n",
    "\n",
    "X_train, X_test, y_train, y_test = train_test_split(X, y,test_size=0.25,random_state=0)"
   ]
  },
  {
   "cell_type": "code",
   "execution_count": 7,
   "id": "7ce86ba6-472b-4d2d-98fe-780a84700aab",
   "metadata": {},
   "outputs": [],
   "source": [
    "from sklearn.preprocessing import StandardScaler\n",
    "\n",
    "sc=StandardScaler()\n",
    "x_train_scaled=sc.fit_transform(X_train)\n",
    "x_test_scaled=sc.transform(X_test) "
   ]
  },
  {
   "cell_type": "code",
   "execution_count": 8,
   "id": "a8ae334c-8c77-4e0c-ba6b-cc40f49b642b",
   "metadata": {},
   "outputs": [
    {
     "data": {
      "text/plain": [
       "array([[-1.33945466,  1.38833941,  1.3399952 , -1.22003611, -1.23282188,\n",
       "         1.24823964],\n",
       "       [-1.33945466, -1.31194254,  1.3399952 , -1.22003611,  1.22523528,\n",
       "         0.01333997],\n",
       "       [ 0.44281766, -1.31194254, -0.45219652,  1.22380747,  1.22523528,\n",
       "         0.01333997],\n",
       "       ...,\n",
       "       [-0.4483185 , -0.41184856, -0.45219652, -1.22003611, -1.23282188,\n",
       "         0.01333997],\n",
       "       [-1.33945466, -1.31194254, -1.34829239,  1.22380747,  1.22523528,\n",
       "         1.24823964],\n",
       "       [-1.33945466,  0.48824542, -0.45219652,  0.00188568,  1.22523528,\n",
       "         0.01333997]])"
      ]
     },
     "execution_count": 8,
     "metadata": {},
     "output_type": "execute_result"
    }
   ],
   "source": [
    "x_train_scaled"
   ]
  },
  {
   "cell_type": "code",
   "execution_count": 34,
   "id": "cc6b1bbc-d432-4799-8563-58263185386a",
   "metadata": {},
   "outputs": [
    {
     "data": {
      "text/plain": [
       "(1296, 6, 1)"
      ]
     },
     "execution_count": 34,
     "metadata": {},
     "output_type": "execute_result"
    }
   ],
   "source": [
    "import numpy as np\n",
    "x_train_scaled=np.expand_dims(x_train_scaled,axis=-1)\n",
    "x_train_scaled.shape"
   ]
  },
  {
   "cell_type": "code",
   "execution_count": 35,
   "id": "8dcec6e9-1fb6-4345-9659-d1e9ed6c9ab5",
   "metadata": {},
   "outputs": [
    {
     "data": {
      "text/plain": [
       "(1296,)"
      ]
     },
     "execution_count": 35,
     "metadata": {},
     "output_type": "execute_result"
    }
   ],
   "source": [
    "y_train.shape"
   ]
  },
  {
   "cell_type": "code",
   "execution_count": 36,
   "id": "593da996-4b44-49aa-a0a6-e6b901d1935d",
   "metadata": {},
   "outputs": [
    {
     "name": "stdout",
     "output_type": "stream",
     "text": [
      "Model: \"sequential_9\"\n",
      "_________________________________________________________________\n",
      " Layer (type)                Output Shape              Param #   \n",
      "=================================================================\n",
      " conv1d (Conv1D)             (None, 4, 32)             128       \n",
      "                                                                 \n",
      " max_pooling1d (MaxPooling1D  (None, 2, 32)            0         \n",
      " )                                                               \n",
      "                                                                 \n",
      " flatten (Flatten)           (None, 64)                0         \n",
      "                                                                 \n",
      " dense_36 (Dense)            (None, 128)               8320      \n",
      "                                                                 \n",
      " dense_37 (Dense)            (None, 11)                1419      \n",
      "                                                                 \n",
      "=================================================================\n",
      "Total params: 9,867\n",
      "Trainable params: 9,867\n",
      "Non-trainable params: 0\n",
      "_________________________________________________________________\n"
     ]
    }
   ],
   "source": [
    "from tensorflow.keras.models import Sequential\n",
    "from tensorflow.keras.layers import Conv1D, MaxPooling1D, Flatten, Dense, Dropout\n",
    "\n",
    "model = Sequential() # 각 레이어를 순차적으로 쌓는 방식의 모델 구성\n",
    "model.add(Conv1D(32,kernel_size=3,activation='relu',input_shape=(6,1))) #input_shape을 데이터 특성에 맞추기\n",
    "model.add(MaxPooling1D(pool_size=2))\n",
    "model.add(Flatten())\n",
    "model.add(Dense(128,activation='relu'))\n",
    "model.add(Dense(11,activation='softmax'))\n",
    "\n",
    "model.compile(optimizer='adam',loss='sparse_categorical_crossentropy',metrics=['accuracy'])\n",
    "\n",
    "model.summary()"
   ]
  },
  {
   "cell_type": "code",
   "execution_count": 37,
   "id": "6f9641ec-6096-4b9d-80a3-619a5fdf3c74",
   "metadata": {},
   "outputs": [],
   "source": [
    "# from keras.models import Sequential\n",
    "# from keras.layers import Dense\n",
    "# from keras.optimizers import SGD,Adam\n",
    "\n",
    "\n",
    "# model = Sequential()\n",
    "\n",
    "# model.add(Dense(10,input_shape=(6,),activation='relu'))\n",
    "# model.add(Dense(8,activation='relu'))\n",
    "# model.add(Dense(8,activation='relu'))\n",
    "# model.add(Dense(6,activation='softmax'))\n",
    "\n",
    "# model.compile(optimizer='adam',loss='sparse_categorical_crossentropy',metrics=['accuracy'])\n",
    "\n",
    "# model.summary()"
   ]
  },
  {
   "cell_type": "code",
   "execution_count": 38,
   "id": "0a7255fd-c179-4b30-b024-0a7320d5ddfa",
   "metadata": {},
   "outputs": [
    {
     "name": "stdout",
     "output_type": "stream",
     "text": [
      "Epoch 1/50\n",
      "41/41 [==============================] - 1s 12ms/step - loss: 1.2500 - accuracy: 0.6975 - val_loss: 0.8543 - val_accuracy: 0.6852\n",
      "Epoch 2/50\n",
      "41/41 [==============================] - 0s 5ms/step - loss: 0.7515 - accuracy: 0.7083 - val_loss: 0.7594 - val_accuracy: 0.6875\n",
      "Epoch 3/50\n",
      "41/41 [==============================] - 0s 4ms/step - loss: 0.6799 - accuracy: 0.7184 - val_loss: 0.7216 - val_accuracy: 0.6944\n",
      "Epoch 4/50\n",
      "41/41 [==============================] - 0s 4ms/step - loss: 0.6367 - accuracy: 0.7353 - val_loss: 0.6646 - val_accuracy: 0.7014\n",
      "Epoch 5/50\n",
      "41/41 [==============================] - 0s 4ms/step - loss: 0.5989 - accuracy: 0.7407 - val_loss: 0.6261 - val_accuracy: 0.7245\n",
      "Epoch 6/50\n",
      "41/41 [==============================] - 0s 4ms/step - loss: 0.5676 - accuracy: 0.7546 - val_loss: 0.5889 - val_accuracy: 0.7431\n",
      "Epoch 7/50\n",
      "41/41 [==============================] - 0s 4ms/step - loss: 0.5297 - accuracy: 0.7793 - val_loss: 0.5563 - val_accuracy: 0.7616\n",
      "Epoch 8/50\n",
      "41/41 [==============================] - 0s 4ms/step - loss: 0.4936 - accuracy: 0.7878 - val_loss: 0.5184 - val_accuracy: 0.7778\n",
      "Epoch 9/50\n",
      "41/41 [==============================] - 0s 5ms/step - loss: 0.4628 - accuracy: 0.8110 - val_loss: 0.4873 - val_accuracy: 0.7801\n",
      "Epoch 10/50\n",
      "41/41 [==============================] - 0s 4ms/step - loss: 0.4320 - accuracy: 0.8187 - val_loss: 0.4776 - val_accuracy: 0.7639\n",
      "Epoch 11/50\n",
      "41/41 [==============================] - 0s 4ms/step - loss: 0.4077 - accuracy: 0.8233 - val_loss: 0.4259 - val_accuracy: 0.8056\n",
      "Epoch 12/50\n",
      "41/41 [==============================] - 0s 7ms/step - loss: 0.3758 - accuracy: 0.8457 - val_loss: 0.4011 - val_accuracy: 0.8171\n",
      "Epoch 13/50\n",
      "41/41 [==============================] - 0s 5ms/step - loss: 0.3526 - accuracy: 0.8588 - val_loss: 0.3837 - val_accuracy: 0.8218\n",
      "Epoch 14/50\n",
      "41/41 [==============================] - 0s 5ms/step - loss: 0.3267 - accuracy: 0.8619 - val_loss: 0.3567 - val_accuracy: 0.8449\n",
      "Epoch 15/50\n",
      "41/41 [==============================] - 0s 5ms/step - loss: 0.3073 - accuracy: 0.8742 - val_loss: 0.3509 - val_accuracy: 0.8287\n",
      "Epoch 16/50\n",
      "41/41 [==============================] - 0s 5ms/step - loss: 0.2957 - accuracy: 0.8850 - val_loss: 0.3539 - val_accuracy: 0.8310\n",
      "Epoch 17/50\n",
      "41/41 [==============================] - 0s 4ms/step - loss: 0.2795 - accuracy: 0.8866 - val_loss: 0.3093 - val_accuracy: 0.8634\n",
      "Epoch 18/50\n",
      "41/41 [==============================] - 0s 4ms/step - loss: 0.2558 - accuracy: 0.9120 - val_loss: 0.2954 - val_accuracy: 0.8750\n",
      "Epoch 19/50\n",
      "41/41 [==============================] - 0s 5ms/step - loss: 0.2504 - accuracy: 0.9020 - val_loss: 0.2812 - val_accuracy: 0.8912\n",
      "Epoch 20/50\n",
      "41/41 [==============================] - 0s 4ms/step - loss: 0.2335 - accuracy: 0.9090 - val_loss: 0.2751 - val_accuracy: 0.8889\n",
      "Epoch 21/50\n",
      "41/41 [==============================] - 0s 5ms/step - loss: 0.2241 - accuracy: 0.9167 - val_loss: 0.2581 - val_accuracy: 0.9005\n",
      "Epoch 22/50\n",
      "41/41 [==============================] - 0s 5ms/step - loss: 0.2128 - accuracy: 0.9174 - val_loss: 0.2568 - val_accuracy: 0.8819\n",
      "Epoch 23/50\n",
      "41/41 [==============================] - 0s 5ms/step - loss: 0.2104 - accuracy: 0.9205 - val_loss: 0.2472 - val_accuracy: 0.8773\n",
      "Epoch 24/50\n",
      "41/41 [==============================] - 0s 5ms/step - loss: 0.1980 - accuracy: 0.9228 - val_loss: 0.2564 - val_accuracy: 0.8843\n",
      "Epoch 25/50\n",
      "41/41 [==============================] - 0s 4ms/step - loss: 0.1964 - accuracy: 0.9198 - val_loss: 0.2567 - val_accuracy: 0.8727\n",
      "Epoch 26/50\n",
      "41/41 [==============================] - 0s 5ms/step - loss: 0.1830 - accuracy: 0.9290 - val_loss: 0.2363 - val_accuracy: 0.8935\n",
      "Epoch 27/50\n",
      "41/41 [==============================] - 0s 4ms/step - loss: 0.1761 - accuracy: 0.9329 - val_loss: 0.2198 - val_accuracy: 0.9051\n",
      "Epoch 28/50\n",
      "41/41 [==============================] - 0s 4ms/step - loss: 0.1714 - accuracy: 0.9329 - val_loss: 0.2088 - val_accuracy: 0.9051\n",
      "Epoch 29/50\n",
      "41/41 [==============================] - 0s 5ms/step - loss: 0.1636 - accuracy: 0.9429 - val_loss: 0.2162 - val_accuracy: 0.9005\n",
      "Epoch 30/50\n",
      "41/41 [==============================] - 0s 5ms/step - loss: 0.1562 - accuracy: 0.9390 - val_loss: 0.2022 - val_accuracy: 0.9028\n",
      "Epoch 31/50\n",
      "41/41 [==============================] - 0s 5ms/step - loss: 0.1505 - accuracy: 0.9498 - val_loss: 0.2040 - val_accuracy: 0.8981\n",
      "Epoch 32/50\n",
      "41/41 [==============================] - 0s 5ms/step - loss: 0.1481 - accuracy: 0.9506 - val_loss: 0.2015 - val_accuracy: 0.9097\n",
      "Epoch 33/50\n",
      "41/41 [==============================] - 0s 5ms/step - loss: 0.1471 - accuracy: 0.9506 - val_loss: 0.1978 - val_accuracy: 0.9190\n",
      "Epoch 34/50\n",
      "41/41 [==============================] - 0s 5ms/step - loss: 0.1361 - accuracy: 0.9560 - val_loss: 0.1826 - val_accuracy: 0.9190\n",
      "Epoch 35/50\n",
      "41/41 [==============================] - 0s 4ms/step - loss: 0.1285 - accuracy: 0.9576 - val_loss: 0.1833 - val_accuracy: 0.9213\n",
      "Epoch 36/50\n",
      "41/41 [==============================] - 0s 5ms/step - loss: 0.1307 - accuracy: 0.9568 - val_loss: 0.1726 - val_accuracy: 0.9213\n",
      "Epoch 37/50\n",
      "41/41 [==============================] - 0s 4ms/step - loss: 0.1210 - accuracy: 0.9606 - val_loss: 0.1774 - val_accuracy: 0.9144\n",
      "Epoch 38/50\n",
      "41/41 [==============================] - 0s 4ms/step - loss: 0.1208 - accuracy: 0.9630 - val_loss: 0.1650 - val_accuracy: 0.9282\n",
      "Epoch 39/50\n",
      "41/41 [==============================] - 0s 4ms/step - loss: 0.1118 - accuracy: 0.9637 - val_loss: 0.1601 - val_accuracy: 0.9421\n",
      "Epoch 40/50\n",
      "41/41 [==============================] - 0s 4ms/step - loss: 0.1139 - accuracy: 0.9622 - val_loss: 0.1599 - val_accuracy: 0.9329\n",
      "Epoch 41/50\n",
      "41/41 [==============================] - 0s 4ms/step - loss: 0.1104 - accuracy: 0.9699 - val_loss: 0.1852 - val_accuracy: 0.9236\n",
      "Epoch 42/50\n",
      "41/41 [==============================] - 0s 4ms/step - loss: 0.1096 - accuracy: 0.9660 - val_loss: 0.1605 - val_accuracy: 0.9259\n",
      "Epoch 43/50\n",
      "41/41 [==============================] - 0s 4ms/step - loss: 0.0987 - accuracy: 0.9707 - val_loss: 0.1475 - val_accuracy: 0.9444\n",
      "Epoch 44/50\n",
      "41/41 [==============================] - 0s 4ms/step - loss: 0.0949 - accuracy: 0.9738 - val_loss: 0.1571 - val_accuracy: 0.9306\n",
      "Epoch 45/50\n",
      "41/41 [==============================] - 0s 4ms/step - loss: 0.0942 - accuracy: 0.9676 - val_loss: 0.1514 - val_accuracy: 0.9329\n",
      "Epoch 46/50\n",
      "41/41 [==============================] - 0s 4ms/step - loss: 0.0896 - accuracy: 0.9769 - val_loss: 0.1367 - val_accuracy: 0.9491\n",
      "Epoch 47/50\n",
      "41/41 [==============================] - 0s 4ms/step - loss: 0.0897 - accuracy: 0.9784 - val_loss: 0.1518 - val_accuracy: 0.9375\n",
      "Epoch 48/50\n",
      "41/41 [==============================] - 0s 4ms/step - loss: 0.0858 - accuracy: 0.9776 - val_loss: 0.1411 - val_accuracy: 0.9398\n",
      "Epoch 49/50\n",
      "41/41 [==============================] - 0s 4ms/step - loss: 0.0805 - accuracy: 0.9815 - val_loss: 0.1397 - val_accuracy: 0.9491\n",
      "Epoch 50/50\n",
      "41/41 [==============================] - 0s 4ms/step - loss: 0.0781 - accuracy: 0.9815 - val_loss: 0.1370 - val_accuracy: 0.9468\n"
     ]
    }
   ],
   "source": [
    "history = model.fit(x_train_scaled,y_train,epochs=50,validation_data=(x_test_scaled,y_test))"
   ]
  },
  {
   "cell_type": "code",
   "execution_count": 39,
   "id": "7ee29c04-0bdc-4107-b46e-d6e8f605a280",
   "metadata": {},
   "outputs": [
    {
     "data": {
      "text/plain": [
       "<matplotlib.legend.Legend at 0x230dd348cd0>"
      ]
     },
     "execution_count": 39,
     "metadata": {},
     "output_type": "execute_result"
    },
    {
     "data": {
      "image/png": "[encoded data removed]",
      "text/plain": [
       "<Figure size 640x480 with 1 Axes>"
      ]
     },
     "metadata": {},
     "output_type": "display_data"
    }
   ],
   "source": [
    "import matplotlib.pyplot as plt\n",
    "\n",
    "plt.plot(history.history[\"loss\"], label = \"train\")\n",
    "plt.plot(history.history[\"val_loss\"], label = \"test\")\n",
    "plt.legend()"
   ]
  },
  {
   "cell_type": "code",
   "execution_count": 40,
   "id": "f64bb7ce-cc7f-4963-adf5-956ac8664530",
   "metadata": {},
   "outputs": [
    {
     "data": {
      "text/plain": [
       "<matplotlib.legend.Legend at 0x230dd506e50>"
      ]
     },
     "execution_count": 40,
     "metadata": {},
     "output_type": "execute_result"
    },
    {
     "data": {
      "image/png": "[encoded data removed]",
      "text/plain": [
       "<Figure size 640x480 with 1 Axes>"
      ]
     },
     "metadata": {},
     "output_type": "display_data"
    }
   ],
   "source": [
    "plt.plot(history.history['accuracy'], label=\"train\")\n",
    "plt.plot(history.history[\"val_accuracy\"],label=\"test\")\n",
    "plt.legend()"
   ]
  },
  {
   "cell_type": "code",
   "execution_count": 41,
   "id": "10001503-cbd0-4251-a829-6fc89dc8853b",
   "metadata": {},
   "outputs": [
    {
     "name": "stdout",
     "output_type": "stream",
     "text": [
      "14/14 [==============================] - 0s 2ms/step - loss: 0.1370 - accuracy: 0.9468\n"
     ]
    },
    {
     "data": {
      "text/plain": [
       "[0.136974036693573, 0.9467592835426331]"
      ]
     },
     "execution_count": 41,
     "metadata": {},
     "output_type": "execute_result"
    }
   ],
   "source": [
    "model.evaluate(x_test_scaled,y_test)"
   ]
  },
  {
   "cell_type": "code",
   "execution_count": 42,
   "id": "1aa4cae8-0c13-48bf-a98c-6d9b73dce397",
   "metadata": {},
   "outputs": [
    {
     "name": "stdout",
     "output_type": "stream",
     "text": [
      "14/14 [==============================] - 0s 2ms/step\n",
      "Confusion Matrix\n"
     ]
    },
    {
     "data": {
      "image/png": "[encoded data removed]",
      "text/plain": [
       "<Figure size 800x600 with 2 Axes>"
      ]
     },
     "metadata": {},
     "output_type": "display_data"
    }
   ],
   "source": [
    "import matplotlib.pyplot as plt\n",
    "import seaborn as sns\n",
    "import numpy as np\n",
    "from sklearn.metrics import confusion_matrix\n",
    "\n",
    "from sklearn.metrics import confusion_matrix,classification_report,accuracy_score\n",
    "\n",
    "y_test_arg=y_test # y_test는 1차원 이므로 np.argmax()사용 필요 없다.\n",
    "Y_pred = np.argmax(model.predict(x_test_scaled),axis=1)\n",
    "print('Confusion Matrix')\n",
    "cm = confusion_matrix(y_test_arg, Y_pred)\n",
    "# 시각화\n",
    "plt.figure(figsize=(8, 6))  # 그래프 크기 조절 (너비 8, 높이 6)\n",
    "sns.heatmap(cm, annot=True, fmt=\"d\", cmap=\"Greens\")\n",
    "\n",
    "# 그래프 표시\n",
    "plt.show()"
   ]
  },
  {
   "cell_type": "code",
   "execution_count": null,
   "id": "8921b8e2-07b6-400b-9cda-7a0d1fb17b52",
   "metadata": {},
   "outputs": [],
   "source": []
  }
 ],
 "metadata": {
  "kernelspec": {
   "display_name": "Python 3 (ipykernel)",
   "language": "python",
   "name": "python3"
  },
  "language_info": {
   "codemirror_mode": {
    "name": "ipython",
    "version": 3
   },
   "file_extension": ".py",
   "mimetype": "text/x-python",
   "name": "python",
   "nbconvert_exporter": "python",
   "pygments_lexer": "ipython3",
   "version": "3.9.18"
  }
 },
 "nbformat": 4,
 "nbformat_minor": 5
}
