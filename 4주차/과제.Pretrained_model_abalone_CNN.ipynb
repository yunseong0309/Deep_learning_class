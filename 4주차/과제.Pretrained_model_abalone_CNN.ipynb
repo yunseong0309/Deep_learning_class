{
 "cells": [
  {
   "cell_type": "markdown",
   "id": "f9cf14a2-abae-4bca-8280-8f86ac260a3e",
   "metadata": {},
   "source": [
    "# 전복 분류 (CNN) & PreTrained Model"
   ]
  },
  {
   "cell_type": "markdown",
   "id": "e0e765ec-a466-4eb2-8e9a-01ad5d631b23",
   "metadata": {},
   "source": [
    "## 1. 데이터 전처리"
   ]
  },
  {
   "cell_type": "code",
   "execution_count": 1,
   "id": "4a70580b-975d-46ad-b0f6-343f86e5390e",
   "metadata": {},
   "outputs": [
    {
     "data": {
      "text/html": [
       "<div>\n",
       "<style scoped>\n",
       "    .dataframe tbody tr th:only-of-type {\n",
       "        vertical-align: middle;\n",
       "    }\n",
       "\n",
       "    .dataframe tbody tr th {\n",
       "        vertical-align: top;\n",
       "    }\n",
       "\n",
       "    .dataframe thead th {\n",
       "        text-align: right;\n",
       "    }\n",
       "</style>\n",
       "<table border=\"1\" class=\"dataframe\">\n",
       "  <thead>\n",
       "    <tr style=\"text-align: right;\">\n",
       "      <th></th>\n",
       "      <th>Sex</th>\n",
       "      <th>Length</th>\n",
       "      <th>Diameter</th>\n",
       "      <th>Height</th>\n",
       "      <th>Whole_weight</th>\n",
       "      <th>Shucked_weight</th>\n",
       "      <th>Viscera_weight</th>\n",
       "      <th>Shell_weight</th>\n",
       "      <th>Rings</th>\n",
       "    </tr>\n",
       "  </thead>\n",
       "  <tbody>\n",
       "    <tr>\n",
       "      <th>0</th>\n",
       "      <td>M</td>\n",
       "      <td>0.455</td>\n",
       "      <td>0.365</td>\n",
       "      <td>0.095</td>\n",
       "      <td>0.5140</td>\n",
       "      <td>0.2245</td>\n",
       "      <td>0.1010</td>\n",
       "      <td>0.1500</td>\n",
       "      <td>15</td>\n",
       "    </tr>\n",
       "    <tr>\n",
       "      <th>1</th>\n",
       "      <td>M</td>\n",
       "      <td>0.350</td>\n",
       "      <td>0.265</td>\n",
       "      <td>0.090</td>\n",
       "      <td>0.2255</td>\n",
       "      <td>0.0995</td>\n",
       "      <td>0.0485</td>\n",
       "      <td>0.0700</td>\n",
       "      <td>7</td>\n",
       "    </tr>\n",
       "    <tr>\n",
       "      <th>2</th>\n",
       "      <td>F</td>\n",
       "      <td>0.530</td>\n",
       "      <td>0.420</td>\n",
       "      <td>0.135</td>\n",
       "      <td>0.6770</td>\n",
       "      <td>0.2565</td>\n",
       "      <td>0.1415</td>\n",
       "      <td>0.2100</td>\n",
       "      <td>9</td>\n",
       "    </tr>\n",
       "    <tr>\n",
       "      <th>3</th>\n",
       "      <td>M</td>\n",
       "      <td>0.440</td>\n",
       "      <td>0.365</td>\n",
       "      <td>0.125</td>\n",
       "      <td>0.5160</td>\n",
       "      <td>0.2155</td>\n",
       "      <td>0.1140</td>\n",
       "      <td>0.1550</td>\n",
       "      <td>10</td>\n",
       "    </tr>\n",
       "    <tr>\n",
       "      <th>4</th>\n",
       "      <td>I</td>\n",
       "      <td>0.330</td>\n",
       "      <td>0.255</td>\n",
       "      <td>0.080</td>\n",
       "      <td>0.2050</td>\n",
       "      <td>0.0895</td>\n",
       "      <td>0.0395</td>\n",
       "      <td>0.0550</td>\n",
       "      <td>7</td>\n",
       "    </tr>\n",
       "    <tr>\n",
       "      <th>...</th>\n",
       "      <td>...</td>\n",
       "      <td>...</td>\n",
       "      <td>...</td>\n",
       "      <td>...</td>\n",
       "      <td>...</td>\n",
       "      <td>...</td>\n",
       "      <td>...</td>\n",
       "      <td>...</td>\n",
       "      <td>...</td>\n",
       "    </tr>\n",
       "    <tr>\n",
       "      <th>4172</th>\n",
       "      <td>F</td>\n",
       "      <td>0.565</td>\n",
       "      <td>0.450</td>\n",
       "      <td>0.165</td>\n",
       "      <td>0.8870</td>\n",
       "      <td>0.3700</td>\n",
       "      <td>0.2390</td>\n",
       "      <td>0.2490</td>\n",
       "      <td>11</td>\n",
       "    </tr>\n",
       "    <tr>\n",
       "      <th>4173</th>\n",
       "      <td>M</td>\n",
       "      <td>0.590</td>\n",
       "      <td>0.440</td>\n",
       "      <td>0.135</td>\n",
       "      <td>0.9660</td>\n",
       "      <td>0.4390</td>\n",
       "      <td>0.2145</td>\n",
       "      <td>0.2605</td>\n",
       "      <td>10</td>\n",
       "    </tr>\n",
       "    <tr>\n",
       "      <th>4174</th>\n",
       "      <td>M</td>\n",
       "      <td>0.600</td>\n",
       "      <td>0.475</td>\n",
       "      <td>0.205</td>\n",
       "      <td>1.1760</td>\n",
       "      <td>0.5255</td>\n",
       "      <td>0.2875</td>\n",
       "      <td>0.3080</td>\n",
       "      <td>9</td>\n",
       "    </tr>\n",
       "    <tr>\n",
       "      <th>4175</th>\n",
       "      <td>F</td>\n",
       "      <td>0.625</td>\n",
       "      <td>0.485</td>\n",
       "      <td>0.150</td>\n",
       "      <td>1.0945</td>\n",
       "      <td>0.5310</td>\n",
       "      <td>0.2610</td>\n",
       "      <td>0.2960</td>\n",
       "      <td>10</td>\n",
       "    </tr>\n",
       "    <tr>\n",
       "      <th>4176</th>\n",
       "      <td>M</td>\n",
       "      <td>0.710</td>\n",
       "      <td>0.555</td>\n",
       "      <td>0.195</td>\n",
       "      <td>1.9485</td>\n",
       "      <td>0.9455</td>\n",
       "      <td>0.3765</td>\n",
       "      <td>0.4950</td>\n",
       "      <td>12</td>\n",
       "    </tr>\n",
       "  </tbody>\n",
       "</table>\n",
       "<p>4177 rows × 9 columns</p>\n",
       "</div>"
      ],
      "text/plain": [
       "     Sex  Length  Diameter  Height  Whole_weight  Shucked_weight  \\\n",
       "0      M   0.455     0.365   0.095        0.5140          0.2245   \n",
       "1      M   0.350     0.265   0.090        0.2255          0.0995   \n",
       "2      F   0.530     0.420   0.135        0.6770          0.2565   \n",
       "3      M   0.440     0.365   0.125        0.5160          0.2155   \n",
       "4      I   0.330     0.255   0.080        0.2050          0.0895   \n",
       "...   ..     ...       ...     ...           ...             ...   \n",
       "4172   F   0.565     0.450   0.165        0.8870          0.3700   \n",
       "4173   M   0.590     0.440   0.135        0.9660          0.4390   \n",
       "4174   M   0.600     0.475   0.205        1.1760          0.5255   \n",
       "4175   F   0.625     0.485   0.150        1.0945          0.5310   \n",
       "4176   M   0.710     0.555   0.195        1.9485          0.9455   \n",
       "\n",
       "      Viscera_weight  Shell_weight  Rings  \n",
       "0             0.1010        0.1500     15  \n",
       "1             0.0485        0.0700      7  \n",
       "2             0.1415        0.2100      9  \n",
       "3             0.1140        0.1550     10  \n",
       "4             0.0395        0.0550      7  \n",
       "...              ...           ...    ...  \n",
       "4172          0.2390        0.2490     11  \n",
       "4173          0.2145        0.2605     10  \n",
       "4174          0.2875        0.3080      9  \n",
       "4175          0.2610        0.2960     10  \n",
       "4176          0.3765        0.4950     12  \n",
       "\n",
       "[4177 rows x 9 columns]"
      ]
     },
     "execution_count": 1,
     "metadata": {},
     "output_type": "execute_result"
    }
   ],
   "source": [
    "import pandas as pd\n",
    "import numpy as np\n",
    "\n",
    "df=pd.read_csv(\"abalone.csv\")\n",
    "df=df.drop('id',axis=1)\n",
    "df"
   ]
  },
  {
   "cell_type": "code",
   "execution_count": 2,
   "id": "8ad1193a-b344-4287-a75f-cf3aa24d112c",
   "metadata": {},
   "outputs": [
    {
     "name": "stdout",
     "output_type": "stream",
     "text": [
      "<class 'pandas.core.frame.DataFrame'>\n",
      "RangeIndex: 4177 entries, 0 to 4176\n",
      "Data columns (total 9 columns):\n",
      " #   Column          Non-Null Count  Dtype  \n",
      "---  ------          --------------  -----  \n",
      " 0   Sex             4177 non-null   object \n",
      " 1   Length          4177 non-null   float64\n",
      " 2   Diameter        4177 non-null   float64\n",
      " 3   Height          4177 non-null   float64\n",
      " 4   Whole_weight    4177 non-null   float64\n",
      " 5   Shucked_weight  4177 non-null   float64\n",
      " 6   Viscera_weight  4177 non-null   float64\n",
      " 7   Shell_weight    4177 non-null   float64\n",
      " 8   Rings           4177 non-null   int64  \n",
      "dtypes: float64(7), int64(1), object(1)\n",
      "memory usage: 293.8+ KB\n"
     ]
    }
   ],
   "source": [
    "df.info()\n",
    "# 이상치 없음 확인"
   ]
  },
  {
   "cell_type": "code",
   "execution_count": 3,
   "id": "22f60336-f944-48de-92ae-d97964127ec7",
   "metadata": {},
   "outputs": [
    {
     "data": {
      "text/plain": [
       "array([15,  7,  9, 10,  8, 20, 16, 19, 14, 11, 12, 18, 13,  5,  4,  6, 21,\n",
       "       17, 22,  1,  3, 26, 23, 29,  2, 27, 25, 24], dtype=int64)"
      ]
     },
     "execution_count": 3,
     "metadata": {},
     "output_type": "execute_result"
    }
   ],
   "source": [
    "df['Rings'].unique()\n",
    "# 1살 부터 "
   ]
  },
  {
   "cell_type": "code",
   "execution_count": 4,
   "id": "9b3ba743-fab8-491f-b48b-c05a1a9b86d2",
   "metadata": {},
   "outputs": [
    {
     "data": {
      "text/plain": [
       "Rings\n",
       "9     689\n",
       "10    634\n",
       "8     568\n",
       "11    487\n",
       "7     391\n",
       "12    267\n",
       "6     259\n",
       "13    203\n",
       "14    126\n",
       "5     115\n",
       "15    103\n",
       "16     67\n",
       "17     58\n",
       "4      57\n",
       "18     42\n",
       "19     32\n",
       "20     26\n",
       "3      15\n",
       "21     14\n",
       "23      9\n",
       "22      6\n",
       "27      2\n",
       "24      2\n",
       "1       1\n",
       "26      1\n",
       "29      1\n",
       "2       1\n",
       "25      1\n",
       "Name: count, dtype: int64"
      ]
     },
     "execution_count": 4,
     "metadata": {},
     "output_type": "execute_result"
    }
   ],
   "source": [
    "df['Rings'].value_counts()"
   ]
  },
  {
   "cell_type": "markdown",
   "id": "0daa5bd3-aa81-4502-9f9b-73b388c91b13",
   "metadata": {},
   "source": [
    "#### 100개 미만 데이터를 행에서 제거"
   ]
  },
  {
   "cell_type": "code",
   "execution_count": 5,
   "id": "b90eab91-e18c-42e7-bb11-603af978b627",
   "metadata": {},
   "outputs": [],
   "source": [
    "# 각 값의 개수를 계산\n",
    "value_counts = df['Rings'].value_counts()\n",
    "\n",
    "# 100개 이상인 값 필터링\n",
    "to_keep = value_counts[value_counts >= 100].index\n",
    "\n",
    "# 원본 DataFrame에서 해당 값을 가진 행만 남김\n",
    "df = df[df['Rings'].isin(to_keep)]"
   ]
  },
  {
   "cell_type": "code",
   "execution_count": 6,
   "id": "fae9df53-467f-4dcc-86b3-1f032cce937b",
   "metadata": {},
   "outputs": [
    {
     "data": {
      "text/plain": [
       "array([15,  7,  9, 10,  8, 14, 11, 12, 13,  5,  6], dtype=int64)"
      ]
     },
     "execution_count": 6,
     "metadata": {},
     "output_type": "execute_result"
    }
   ],
   "source": [
    "df['Rings'].unique()"
   ]
  },
  {
   "cell_type": "code",
   "execution_count": 7,
   "id": "03970145-9079-42ac-b1b0-ec20d8318687",
   "metadata": {},
   "outputs": [
    {
     "data": {
      "text/plain": [
       "Rings\n",
       "9     689\n",
       "10    634\n",
       "8     568\n",
       "11    487\n",
       "7     391\n",
       "12    267\n",
       "6     259\n",
       "13    203\n",
       "14    126\n",
       "5     115\n",
       "15    103\n",
       "Name: count, dtype: int64"
      ]
     },
     "execution_count": 7,
     "metadata": {},
     "output_type": "execute_result"
    }
   ],
   "source": [
    "df['Rings'].value_counts()"
   ]
  },
  {
   "cell_type": "markdown",
   "id": "f2142782-ffcc-4d2d-96cf-bf2778e51ada",
   "metadata": {},
   "source": [
    "#### 전복을 SEX가 아닌 Rings로 분류 하겠음(다중분류)"
   ]
  },
  {
   "cell_type": "code",
   "execution_count": 8,
   "id": "0c2c5b5b-0f00-40f0-9420-b2ffdade61f5",
   "metadata": {},
   "outputs": [
    {
     "name": "stderr",
     "output_type": "stream",
     "text": [
      "C:\\Users\\tbxjq\\AppData\\Local\\Temp\\ipykernel_14008\\3461211492.py:5: SettingWithCopyWarning: \n",
      "A value is trying to be set on a copy of a slice from a DataFrame.\n",
      "Try using .loc[row_indexer,col_indexer] = value instead\n",
      "\n",
      "See the caveats in the documentation: https://pandas.pydata.org/pandas-docs/stable/user_guide/indexing.html#returning-a-view-versus-a-copy\n",
      "  df['Rings']=label_encoder.fit_transform(df['Rings'])\n"
     ]
    },
    {
     "data": {
      "text/html": [
       "<div>\n",
       "<style scoped>\n",
       "    .dataframe tbody tr th:only-of-type {\n",
       "        vertical-align: middle;\n",
       "    }\n",
       "\n",
       "    .dataframe tbody tr th {\n",
       "        vertical-align: top;\n",
       "    }\n",
       "\n",
       "    .dataframe thead th {\n",
       "        text-align: right;\n",
       "    }\n",
       "</style>\n",
       "<table border=\"1\" class=\"dataframe\">\n",
       "  <thead>\n",
       "    <tr style=\"text-align: right;\">\n",
       "      <th></th>\n",
       "      <th>Sex</th>\n",
       "      <th>Length</th>\n",
       "      <th>Diameter</th>\n",
       "      <th>Height</th>\n",
       "      <th>Whole_weight</th>\n",
       "      <th>Shucked_weight</th>\n",
       "      <th>Viscera_weight</th>\n",
       "      <th>Shell_weight</th>\n",
       "      <th>Rings</th>\n",
       "    </tr>\n",
       "  </thead>\n",
       "  <tbody>\n",
       "    <tr>\n",
       "      <th>0</th>\n",
       "      <td>M</td>\n",
       "      <td>0.455</td>\n",
       "      <td>0.365</td>\n",
       "      <td>0.095</td>\n",
       "      <td>0.5140</td>\n",
       "      <td>0.2245</td>\n",
       "      <td>0.1010</td>\n",
       "      <td>0.1500</td>\n",
       "      <td>10</td>\n",
       "    </tr>\n",
       "    <tr>\n",
       "      <th>1</th>\n",
       "      <td>M</td>\n",
       "      <td>0.350</td>\n",
       "      <td>0.265</td>\n",
       "      <td>0.090</td>\n",
       "      <td>0.2255</td>\n",
       "      <td>0.0995</td>\n",
       "      <td>0.0485</td>\n",
       "      <td>0.0700</td>\n",
       "      <td>2</td>\n",
       "    </tr>\n",
       "    <tr>\n",
       "      <th>2</th>\n",
       "      <td>F</td>\n",
       "      <td>0.530</td>\n",
       "      <td>0.420</td>\n",
       "      <td>0.135</td>\n",
       "      <td>0.6770</td>\n",
       "      <td>0.2565</td>\n",
       "      <td>0.1415</td>\n",
       "      <td>0.2100</td>\n",
       "      <td>4</td>\n",
       "    </tr>\n",
       "    <tr>\n",
       "      <th>3</th>\n",
       "      <td>M</td>\n",
       "      <td>0.440</td>\n",
       "      <td>0.365</td>\n",
       "      <td>0.125</td>\n",
       "      <td>0.5160</td>\n",
       "      <td>0.2155</td>\n",
       "      <td>0.1140</td>\n",
       "      <td>0.1550</td>\n",
       "      <td>5</td>\n",
       "    </tr>\n",
       "    <tr>\n",
       "      <th>4</th>\n",
       "      <td>I</td>\n",
       "      <td>0.330</td>\n",
       "      <td>0.255</td>\n",
       "      <td>0.080</td>\n",
       "      <td>0.2050</td>\n",
       "      <td>0.0895</td>\n",
       "      <td>0.0395</td>\n",
       "      <td>0.0550</td>\n",
       "      <td>2</td>\n",
       "    </tr>\n",
       "    <tr>\n",
       "      <th>...</th>\n",
       "      <td>...</td>\n",
       "      <td>...</td>\n",
       "      <td>...</td>\n",
       "      <td>...</td>\n",
       "      <td>...</td>\n",
       "      <td>...</td>\n",
       "      <td>...</td>\n",
       "      <td>...</td>\n",
       "      <td>...</td>\n",
       "    </tr>\n",
       "    <tr>\n",
       "      <th>4172</th>\n",
       "      <td>F</td>\n",
       "      <td>0.565</td>\n",
       "      <td>0.450</td>\n",
       "      <td>0.165</td>\n",
       "      <td>0.8870</td>\n",
       "      <td>0.3700</td>\n",
       "      <td>0.2390</td>\n",
       "      <td>0.2490</td>\n",
       "      <td>6</td>\n",
       "    </tr>\n",
       "    <tr>\n",
       "      <th>4173</th>\n",
       "      <td>M</td>\n",
       "      <td>0.590</td>\n",
       "      <td>0.440</td>\n",
       "      <td>0.135</td>\n",
       "      <td>0.9660</td>\n",
       "      <td>0.4390</td>\n",
       "      <td>0.2145</td>\n",
       "      <td>0.2605</td>\n",
       "      <td>5</td>\n",
       "    </tr>\n",
       "    <tr>\n",
       "      <th>4174</th>\n",
       "      <td>M</td>\n",
       "      <td>0.600</td>\n",
       "      <td>0.475</td>\n",
       "      <td>0.205</td>\n",
       "      <td>1.1760</td>\n",
       "      <td>0.5255</td>\n",
       "      <td>0.2875</td>\n",
       "      <td>0.3080</td>\n",
       "      <td>4</td>\n",
       "    </tr>\n",
       "    <tr>\n",
       "      <th>4175</th>\n",
       "      <td>F</td>\n",
       "      <td>0.625</td>\n",
       "      <td>0.485</td>\n",
       "      <td>0.150</td>\n",
       "      <td>1.0945</td>\n",
       "      <td>0.5310</td>\n",
       "      <td>0.2610</td>\n",
       "      <td>0.2960</td>\n",
       "      <td>5</td>\n",
       "    </tr>\n",
       "    <tr>\n",
       "      <th>4176</th>\n",
       "      <td>M</td>\n",
       "      <td>0.710</td>\n",
       "      <td>0.555</td>\n",
       "      <td>0.195</td>\n",
       "      <td>1.9485</td>\n",
       "      <td>0.9455</td>\n",
       "      <td>0.3765</td>\n",
       "      <td>0.4950</td>\n",
       "      <td>7</td>\n",
       "    </tr>\n",
       "  </tbody>\n",
       "</table>\n",
       "<p>3842 rows × 9 columns</p>\n",
       "</div>"
      ],
      "text/plain": [
       "     Sex  Length  Diameter  Height  Whole_weight  Shucked_weight  \\\n",
       "0      M   0.455     0.365   0.095        0.5140          0.2245   \n",
       "1      M   0.350     0.265   0.090        0.2255          0.0995   \n",
       "2      F   0.530     0.420   0.135        0.6770          0.2565   \n",
       "3      M   0.440     0.365   0.125        0.5160          0.2155   \n",
       "4      I   0.330     0.255   0.080        0.2050          0.0895   \n",
       "...   ..     ...       ...     ...           ...             ...   \n",
       "4172   F   0.565     0.450   0.165        0.8870          0.3700   \n",
       "4173   M   0.590     0.440   0.135        0.9660          0.4390   \n",
       "4174   M   0.600     0.475   0.205        1.1760          0.5255   \n",
       "4175   F   0.625     0.485   0.150        1.0945          0.5310   \n",
       "4176   M   0.710     0.555   0.195        1.9485          0.9455   \n",
       "\n",
       "      Viscera_weight  Shell_weight  Rings  \n",
       "0             0.1010        0.1500     10  \n",
       "1             0.0485        0.0700      2  \n",
       "2             0.1415        0.2100      4  \n",
       "3             0.1140        0.1550      5  \n",
       "4             0.0395        0.0550      2  \n",
       "...              ...           ...    ...  \n",
       "4172          0.2390        0.2490      6  \n",
       "4173          0.2145        0.2605      5  \n",
       "4174          0.2875        0.3080      4  \n",
       "4175          0.2610        0.2960      5  \n",
       "4176          0.3765        0.4950      7  \n",
       "\n",
       "[3842 rows x 9 columns]"
      ]
     },
     "execution_count": 8,
     "metadata": {},
     "output_type": "execute_result"
    }
   ],
   "source": [
    "# label Encoder로 rings 변환(다중 클래스)\n",
    "from sklearn.preprocessing import LabelEncoder\n",
    "\n",
    "label_encoder=LabelEncoder()\n",
    "df['Rings']=label_encoder.fit_transform(df['Rings'])\n",
    "df"
   ]
  },
  {
   "cell_type": "code",
   "execution_count": 9,
   "id": "060eba57-ff43-4823-910d-cd29a742f4bb",
   "metadata": {},
   "outputs": [
    {
     "data": {
      "text/plain": [
       "array([10,  2,  4,  5,  3,  9,  6,  7,  8,  0,  1], dtype=int64)"
      ]
     },
     "execution_count": 9,
     "metadata": {},
     "output_type": "execute_result"
    }
   ],
   "source": [
    "df['Rings'].unique()\n",
    "# encoded 확인"
   ]
  },
  {
   "cell_type": "code",
   "execution_count": 10,
   "id": "1e417318-4701-4edb-b1e1-56dd5e980b3a",
   "metadata": {},
   "outputs": [
    {
     "data": {
      "text/html": [
       "<div>\n",
       "<style scoped>\n",
       "    .dataframe tbody tr th:only-of-type {\n",
       "        vertical-align: middle;\n",
       "    }\n",
       "\n",
       "    .dataframe tbody tr th {\n",
       "        vertical-align: top;\n",
       "    }\n",
       "\n",
       "    .dataframe thead th {\n",
       "        text-align: right;\n",
       "    }\n",
       "</style>\n",
       "<table border=\"1\" class=\"dataframe\">\n",
       "  <thead>\n",
       "    <tr style=\"text-align: right;\">\n",
       "      <th></th>\n",
       "      <th>Length</th>\n",
       "      <th>Diameter</th>\n",
       "      <th>Height</th>\n",
       "      <th>Whole_weight</th>\n",
       "      <th>Shucked_weight</th>\n",
       "      <th>Viscera_weight</th>\n",
       "      <th>Shell_weight</th>\n",
       "      <th>Rings</th>\n",
       "      <th>Sex_F</th>\n",
       "      <th>Sex_I</th>\n",
       "      <th>Sex_M</th>\n",
       "    </tr>\n",
       "  </thead>\n",
       "  <tbody>\n",
       "    <tr>\n",
       "      <th>0</th>\n",
       "      <td>0.455</td>\n",
       "      <td>0.365</td>\n",
       "      <td>0.095</td>\n",
       "      <td>0.5140</td>\n",
       "      <td>0.2245</td>\n",
       "      <td>0.1010</td>\n",
       "      <td>0.1500</td>\n",
       "      <td>10</td>\n",
       "      <td>False</td>\n",
       "      <td>False</td>\n",
       "      <td>True</td>\n",
       "    </tr>\n",
       "    <tr>\n",
       "      <th>1</th>\n",
       "      <td>0.350</td>\n",
       "      <td>0.265</td>\n",
       "      <td>0.090</td>\n",
       "      <td>0.2255</td>\n",
       "      <td>0.0995</td>\n",
       "      <td>0.0485</td>\n",
       "      <td>0.0700</td>\n",
       "      <td>2</td>\n",
       "      <td>False</td>\n",
       "      <td>False</td>\n",
       "      <td>True</td>\n",
       "    </tr>\n",
       "    <tr>\n",
       "      <th>2</th>\n",
       "      <td>0.530</td>\n",
       "      <td>0.420</td>\n",
       "      <td>0.135</td>\n",
       "      <td>0.6770</td>\n",
       "      <td>0.2565</td>\n",
       "      <td>0.1415</td>\n",
       "      <td>0.2100</td>\n",
       "      <td>4</td>\n",
       "      <td>True</td>\n",
       "      <td>False</td>\n",
       "      <td>False</td>\n",
       "    </tr>\n",
       "    <tr>\n",
       "      <th>3</th>\n",
       "      <td>0.440</td>\n",
       "      <td>0.365</td>\n",
       "      <td>0.125</td>\n",
       "      <td>0.5160</td>\n",
       "      <td>0.2155</td>\n",
       "      <td>0.1140</td>\n",
       "      <td>0.1550</td>\n",
       "      <td>5</td>\n",
       "      <td>False</td>\n",
       "      <td>False</td>\n",
       "      <td>True</td>\n",
       "    </tr>\n",
       "    <tr>\n",
       "      <th>4</th>\n",
       "      <td>0.330</td>\n",
       "      <td>0.255</td>\n",
       "      <td>0.080</td>\n",
       "      <td>0.2050</td>\n",
       "      <td>0.0895</td>\n",
       "      <td>0.0395</td>\n",
       "      <td>0.0550</td>\n",
       "      <td>2</td>\n",
       "      <td>False</td>\n",
       "      <td>True</td>\n",
       "      <td>False</td>\n",
       "    </tr>\n",
       "    <tr>\n",
       "      <th>...</th>\n",
       "      <td>...</td>\n",
       "      <td>...</td>\n",
       "      <td>...</td>\n",
       "      <td>...</td>\n",
       "      <td>...</td>\n",
       "      <td>...</td>\n",
       "      <td>...</td>\n",
       "      <td>...</td>\n",
       "      <td>...</td>\n",
       "      <td>...</td>\n",
       "      <td>...</td>\n",
       "    </tr>\n",
       "    <tr>\n",
       "      <th>4172</th>\n",
       "      <td>0.565</td>\n",
       "      <td>0.450</td>\n",
       "      <td>0.165</td>\n",
       "      <td>0.8870</td>\n",
       "      <td>0.3700</td>\n",
       "      <td>0.2390</td>\n",
       "      <td>0.2490</td>\n",
       "      <td>6</td>\n",
       "      <td>True</td>\n",
       "      <td>False</td>\n",
       "      <td>False</td>\n",
       "    </tr>\n",
       "    <tr>\n",
       "      <th>4173</th>\n",
       "      <td>0.590</td>\n",
       "      <td>0.440</td>\n",
       "      <td>0.135</td>\n",
       "      <td>0.9660</td>\n",
       "      <td>0.4390</td>\n",
       "      <td>0.2145</td>\n",
       "      <td>0.2605</td>\n",
       "      <td>5</td>\n",
       "      <td>False</td>\n",
       "      <td>False</td>\n",
       "      <td>True</td>\n",
       "    </tr>\n",
       "    <tr>\n",
       "      <th>4174</th>\n",
       "      <td>0.600</td>\n",
       "      <td>0.475</td>\n",
       "      <td>0.205</td>\n",
       "      <td>1.1760</td>\n",
       "      <td>0.5255</td>\n",
       "      <td>0.2875</td>\n",
       "      <td>0.3080</td>\n",
       "      <td>4</td>\n",
       "      <td>False</td>\n",
       "      <td>False</td>\n",
       "      <td>True</td>\n",
       "    </tr>\n",
       "    <tr>\n",
       "      <th>4175</th>\n",
       "      <td>0.625</td>\n",
       "      <td>0.485</td>\n",
       "      <td>0.150</td>\n",
       "      <td>1.0945</td>\n",
       "      <td>0.5310</td>\n",
       "      <td>0.2610</td>\n",
       "      <td>0.2960</td>\n",
       "      <td>5</td>\n",
       "      <td>True</td>\n",
       "      <td>False</td>\n",
       "      <td>False</td>\n",
       "    </tr>\n",
       "    <tr>\n",
       "      <th>4176</th>\n",
       "      <td>0.710</td>\n",
       "      <td>0.555</td>\n",
       "      <td>0.195</td>\n",
       "      <td>1.9485</td>\n",
       "      <td>0.9455</td>\n",
       "      <td>0.3765</td>\n",
       "      <td>0.4950</td>\n",
       "      <td>7</td>\n",
       "      <td>False</td>\n",
       "      <td>False</td>\n",
       "      <td>True</td>\n",
       "    </tr>\n",
       "  </tbody>\n",
       "</table>\n",
       "<p>3842 rows × 11 columns</p>\n",
       "</div>"
      ],
      "text/plain": [
       "      Length  Diameter  Height  Whole_weight  Shucked_weight  Viscera_weight  \\\n",
       "0      0.455     0.365   0.095        0.5140          0.2245          0.1010   \n",
       "1      0.350     0.265   0.090        0.2255          0.0995          0.0485   \n",
       "2      0.530     0.420   0.135        0.6770          0.2565          0.1415   \n",
       "3      0.440     0.365   0.125        0.5160          0.2155          0.1140   \n",
       "4      0.330     0.255   0.080        0.2050          0.0895          0.0395   \n",
       "...      ...       ...     ...           ...             ...             ...   \n",
       "4172   0.565     0.450   0.165        0.8870          0.3700          0.2390   \n",
       "4173   0.590     0.440   0.135        0.9660          0.4390          0.2145   \n",
       "4174   0.600     0.475   0.205        1.1760          0.5255          0.2875   \n",
       "4175   0.625     0.485   0.150        1.0945          0.5310          0.2610   \n",
       "4176   0.710     0.555   0.195        1.9485          0.9455          0.3765   \n",
       "\n",
       "      Shell_weight  Rings  Sex_F  Sex_I  Sex_M  \n",
       "0           0.1500     10  False  False   True  \n",
       "1           0.0700      2  False  False   True  \n",
       "2           0.2100      4   True  False  False  \n",
       "3           0.1550      5  False  False   True  \n",
       "4           0.0550      2  False   True  False  \n",
       "...            ...    ...    ...    ...    ...  \n",
       "4172        0.2490      6   True  False  False  \n",
       "4173        0.2605      5  False  False   True  \n",
       "4174        0.3080      4  False  False   True  \n",
       "4175        0.2960      5   True  False  False  \n",
       "4176        0.4950      7  False  False   True  \n",
       "\n",
       "[3842 rows x 11 columns]"
      ]
     },
     "execution_count": 10,
     "metadata": {},
     "output_type": "execute_result"
    }
   ],
   "source": [
    "# SEX는 순서나 크기가 없는 데이터이기 때문에 원 핫 인코딩 적용\n",
    "df = pd.get_dummies(df, columns = ['Sex'])\n",
    "\n",
    "df"
   ]
  },
  {
   "cell_type": "code",
   "execution_count": 11,
   "id": "6a121e3c-bf93-49fd-a6cf-0b4c87d43078",
   "metadata": {},
   "outputs": [
    {
     "data": {
      "text/plain": [
       "(3842, 11)"
      ]
     },
     "execution_count": 11,
     "metadata": {},
     "output_type": "execute_result"
    }
   ],
   "source": [
    "df.shape"
   ]
  },
  {
   "cell_type": "markdown",
   "id": "cc3db611-a2f0-4158-b482-1b8801c699aa",
   "metadata": {},
   "source": [
    "## 2. train,test 나누기"
   ]
  },
  {
   "cell_type": "code",
   "execution_count": 12,
   "id": "df468c49-5228-4b20-8084-c568815b3133",
   "metadata": {},
   "outputs": [],
   "source": [
    "X=df.drop('Rings', axis=1)\n",
    "Y=df['Rings']"
   ]
  },
  {
   "cell_type": "code",
   "execution_count": 13,
   "id": "1008e0ea-de93-40dd-a7cb-3f1c78b82a85",
   "metadata": {},
   "outputs": [
    {
     "data": {
      "text/html": [
       "<div>\n",
       "<style scoped>\n",
       "    .dataframe tbody tr th:only-of-type {\n",
       "        vertical-align: middle;\n",
       "    }\n",
       "\n",
       "    .dataframe tbody tr th {\n",
       "        vertical-align: top;\n",
       "    }\n",
       "\n",
       "    .dataframe thead th {\n",
       "        text-align: right;\n",
       "    }\n",
       "</style>\n",
       "<table border=\"1\" class=\"dataframe\">\n",
       "  <thead>\n",
       "    <tr style=\"text-align: right;\">\n",
       "      <th></th>\n",
       "      <th>Length</th>\n",
       "      <th>Diameter</th>\n",
       "      <th>Height</th>\n",
       "      <th>Whole_weight</th>\n",
       "      <th>Shucked_weight</th>\n",
       "      <th>Viscera_weight</th>\n",
       "      <th>Shell_weight</th>\n",
       "      <th>Sex_F</th>\n",
       "      <th>Sex_I</th>\n",
       "      <th>Sex_M</th>\n",
       "    </tr>\n",
       "  </thead>\n",
       "  <tbody>\n",
       "    <tr>\n",
       "      <th>0</th>\n",
       "      <td>0.455</td>\n",
       "      <td>0.365</td>\n",
       "      <td>0.095</td>\n",
       "      <td>0.5140</td>\n",
       "      <td>0.2245</td>\n",
       "      <td>0.1010</td>\n",
       "      <td>0.150</td>\n",
       "      <td>False</td>\n",
       "      <td>False</td>\n",
       "      <td>True</td>\n",
       "    </tr>\n",
       "    <tr>\n",
       "      <th>1</th>\n",
       "      <td>0.350</td>\n",
       "      <td>0.265</td>\n",
       "      <td>0.090</td>\n",
       "      <td>0.2255</td>\n",
       "      <td>0.0995</td>\n",
       "      <td>0.0485</td>\n",
       "      <td>0.070</td>\n",
       "      <td>False</td>\n",
       "      <td>False</td>\n",
       "      <td>True</td>\n",
       "    </tr>\n",
       "    <tr>\n",
       "      <th>2</th>\n",
       "      <td>0.530</td>\n",
       "      <td>0.420</td>\n",
       "      <td>0.135</td>\n",
       "      <td>0.6770</td>\n",
       "      <td>0.2565</td>\n",
       "      <td>0.1415</td>\n",
       "      <td>0.210</td>\n",
       "      <td>True</td>\n",
       "      <td>False</td>\n",
       "      <td>False</td>\n",
       "    </tr>\n",
       "    <tr>\n",
       "      <th>3</th>\n",
       "      <td>0.440</td>\n",
       "      <td>0.365</td>\n",
       "      <td>0.125</td>\n",
       "      <td>0.5160</td>\n",
       "      <td>0.2155</td>\n",
       "      <td>0.1140</td>\n",
       "      <td>0.155</td>\n",
       "      <td>False</td>\n",
       "      <td>False</td>\n",
       "      <td>True</td>\n",
       "    </tr>\n",
       "    <tr>\n",
       "      <th>4</th>\n",
       "      <td>0.330</td>\n",
       "      <td>0.255</td>\n",
       "      <td>0.080</td>\n",
       "      <td>0.2050</td>\n",
       "      <td>0.0895</td>\n",
       "      <td>0.0395</td>\n",
       "      <td>0.055</td>\n",
       "      <td>False</td>\n",
       "      <td>True</td>\n",
       "      <td>False</td>\n",
       "    </tr>\n",
       "  </tbody>\n",
       "</table>\n",
       "</div>"
      ],
      "text/plain": [
       "   Length  Diameter  Height  Whole_weight  Shucked_weight  Viscera_weight  \\\n",
       "0   0.455     0.365   0.095        0.5140          0.2245          0.1010   \n",
       "1   0.350     0.265   0.090        0.2255          0.0995          0.0485   \n",
       "2   0.530     0.420   0.135        0.6770          0.2565          0.1415   \n",
       "3   0.440     0.365   0.125        0.5160          0.2155          0.1140   \n",
       "4   0.330     0.255   0.080        0.2050          0.0895          0.0395   \n",
       "\n",
       "   Shell_weight  Sex_F  Sex_I  Sex_M  \n",
       "0         0.150  False  False   True  \n",
       "1         0.070  False  False   True  \n",
       "2         0.210   True  False  False  \n",
       "3         0.155  False  False   True  \n",
       "4         0.055  False   True  False  "
      ]
     },
     "execution_count": 13,
     "metadata": {},
     "output_type": "execute_result"
    }
   ],
   "source": [
    "X.head()"
   ]
  },
  {
   "cell_type": "code",
   "execution_count": 14,
   "id": "b6aa6a72-acdd-4e57-a95e-11db124027b5",
   "metadata": {},
   "outputs": [
    {
     "data": {
      "text/plain": [
       "Rings\n",
       "4     689\n",
       "5     634\n",
       "3     568\n",
       "6     487\n",
       "2     391\n",
       "7     267\n",
       "1     259\n",
       "8     203\n",
       "9     126\n",
       "0     115\n",
       "10    103\n",
       "Name: count, dtype: int64"
      ]
     },
     "execution_count": 14,
     "metadata": {},
     "output_type": "execute_result"
    }
   ],
   "source": [
    "Y.value_counts()"
   ]
  },
  {
   "cell_type": "code",
   "execution_count": 15,
   "id": "ebf475e5-5072-464c-a836-72df5754659b",
   "metadata": {},
   "outputs": [],
   "source": [
    "from sklearn.model_selection import train_test_split\n",
    "\n",
    "X_train,X_test,Y_train,Y_test=train_test_split(X,Y,test_size=0.2,random_state=2024)"
   ]
  },
  {
   "cell_type": "code",
   "execution_count": 16,
   "id": "6eeb68bf-bf3c-48b0-9ecd-fa6768bcd53a",
   "metadata": {},
   "outputs": [],
   "source": [
    "\n",
    "from sklearn.preprocessing import StandardScaler\n",
    "ss=StandardScaler()\n",
    "ss.fit(X_train)\n",
    "X_train_scaled=ss.transform(X_train)\n",
    "X_test_scaled=ss.transform(X_test)"
   ]
  },
  {
   "cell_type": "code",
   "execution_count": 17,
   "id": "deb3baae-b5f4-46c4-9ace-f84ad0859a1d",
   "metadata": {},
   "outputs": [
    {
     "data": {
      "text/plain": [
       "(3073, 10)"
      ]
     },
     "execution_count": 17,
     "metadata": {},
     "output_type": "execute_result"
    }
   ],
   "source": [
    "X_train_scaled.shape"
   ]
  },
  {
   "cell_type": "markdown",
   "id": "5dfde87f-f3e4-4b54-a4b8-4aa2a4c4bc51",
   "metadata": {},
   "source": [
    "## 3. CNN 정의"
   ]
  },
  {
   "cell_type": "code",
   "execution_count": 18,
   "id": "54ad3abb-ee26-4664-9b58-3e918afb0266",
   "metadata": {},
   "outputs": [
    {
     "name": "stdout",
     "output_type": "stream",
     "text": [
      "Model: \"sequential\"\n",
      "_________________________________________________________________\n",
      " Layer (type)                Output Shape              Param #   \n",
      "=================================================================\n",
      " conv1d (Conv1D)             (None, 8, 32)             128       \n",
      "                                                                 \n",
      " max_pooling1d (MaxPooling1D  (None, 4, 32)            0         \n",
      " )                                                               \n",
      "                                                                 \n",
      " flatten (Flatten)           (None, 128)               0         \n",
      "                                                                 \n",
      " dense (Dense)               (None, 128)               16512     \n",
      "                                                                 \n",
      " dense_1 (Dense)             (None, 11)                1419      \n",
      "                                                                 \n",
      "=================================================================\n",
      "Total params: 18,059\n",
      "Trainable params: 18,059\n",
      "Non-trainable params: 0\n",
      "_________________________________________________________________\n"
     ]
    }
   ],
   "source": [
    "from tensorflow.keras.models import Sequential\n",
    "from tensorflow.keras.layers import Conv1D, MaxPooling1D, Flatten, Dense, Dropout\n",
    "\n",
    "model = Sequential() # 각 레이어를 순차적으로 쌓는 방식의 모델 구성\n",
    "# label이 rings1개이기 때문에 conv1d사용\n",
    "model.add(Conv1D(32,kernel_size=3,activation='relu',input_shape=(10,1))) #input_shape을 데이터 특성에 맞추기\n",
    "model.add(MaxPooling1D(pool_size=2))\n",
    "model.add(Flatten())\n",
    "model.add(Dense(128,activation='relu'))\n",
    "model.add(Dense(11,activation='softmax'))\n",
    "\n",
    "model.compile(optimizer='adam',loss='sparse_categorical_crossentropy',metrics=['accuracy'])\n",
    "\n",
    "model.summary()\n"
   ]
  },
  {
   "cell_type": "code",
   "execution_count": 19,
   "id": "3c09ab76-09f1-4fa9-bf82-c22883d7bb46",
   "metadata": {},
   "outputs": [
    {
     "name": "stdout",
     "output_type": "stream",
     "text": [
      "Epoch 1/100\n",
      "97/97 [==============================] - 1s 7ms/step - loss: 2.0444 - accuracy: 0.2483 - val_loss: 1.8762 - val_accuracy: 0.2965\n",
      "Epoch 2/100\n",
      "97/97 [==============================] - 0s 4ms/step - loss: 1.8929 - accuracy: 0.2782 - val_loss: 1.8453 - val_accuracy: 0.2861\n",
      "Epoch 3/100\n",
      "97/97 [==============================] - 0s 3ms/step - loss: 1.8546 - accuracy: 0.2808 - val_loss: 1.8264 - val_accuracy: 0.2861\n",
      "Epoch 4/100\n",
      "97/97 [==============================] - 0s 3ms/step - loss: 1.8300 - accuracy: 0.2867 - val_loss: 1.8110 - val_accuracy: 0.2913\n",
      "Epoch 5/100\n",
      "97/97 [==============================] - 0s 4ms/step - loss: 1.8159 - accuracy: 0.2890 - val_loss: 1.8124 - val_accuracy: 0.2705\n",
      "Epoch 6/100\n",
      "97/97 [==============================] - 0s 4ms/step - loss: 1.7986 - accuracy: 0.2945 - val_loss: 1.7812 - val_accuracy: 0.2900\n",
      "Epoch 7/100\n",
      "97/97 [==============================] - 0s 3ms/step - loss: 1.7765 - accuracy: 0.2991 - val_loss: 1.7836 - val_accuracy: 0.2900\n",
      "Epoch 8/100\n",
      "97/97 [==============================] - 0s 4ms/step - loss: 1.7733 - accuracy: 0.3004 - val_loss: 1.7779 - val_accuracy: 0.2913\n",
      "Epoch 9/100\n",
      "97/97 [==============================] - 0s 3ms/step - loss: 1.7627 - accuracy: 0.2984 - val_loss: 1.7698 - val_accuracy: 0.2874\n",
      "Epoch 10/100\n",
      "97/97 [==============================] - 0s 4ms/step - loss: 1.7609 - accuracy: 0.2903 - val_loss: 1.7803 - val_accuracy: 0.2770\n",
      "Epoch 11/100\n",
      "97/97 [==============================] - 0s 4ms/step - loss: 1.7483 - accuracy: 0.3036 - val_loss: 1.7661 - val_accuracy: 0.2965\n",
      "Epoch 12/100\n",
      "97/97 [==============================] - 0s 4ms/step - loss: 1.7419 - accuracy: 0.3088 - val_loss: 1.7602 - val_accuracy: 0.2952\n",
      "Epoch 13/100\n",
      "97/97 [==============================] - 0s 3ms/step - loss: 1.7471 - accuracy: 0.3065 - val_loss: 1.7661 - val_accuracy: 0.2874\n",
      "Epoch 14/100\n",
      "97/97 [==============================] - 0s 4ms/step - loss: 1.7351 - accuracy: 0.3049 - val_loss: 1.7619 - val_accuracy: 0.2965\n",
      "Epoch 15/100\n",
      "97/97 [==============================] - 0s 4ms/step - loss: 1.7344 - accuracy: 0.3111 - val_loss: 1.7646 - val_accuracy: 0.2822\n",
      "Epoch 16/100\n",
      "97/97 [==============================] - 0s 4ms/step - loss: 1.7317 - accuracy: 0.3160 - val_loss: 1.7489 - val_accuracy: 0.3017\n",
      "Epoch 17/100\n",
      "97/97 [==============================] - 0s 3ms/step - loss: 1.7242 - accuracy: 0.3150 - val_loss: 1.7803 - val_accuracy: 0.2744\n",
      "Epoch 18/100\n",
      "97/97 [==============================] - 0s 3ms/step - loss: 1.7298 - accuracy: 0.3134 - val_loss: 1.7690 - val_accuracy: 0.3004\n",
      "Epoch 19/100\n",
      "97/97 [==============================] - 0s 3ms/step - loss: 1.7250 - accuracy: 0.3114 - val_loss: 1.7554 - val_accuracy: 0.2835\n",
      "Epoch 20/100\n",
      "97/97 [==============================] - 0s 3ms/step - loss: 1.7256 - accuracy: 0.3163 - val_loss: 1.7622 - val_accuracy: 0.2731\n",
      "Epoch 21/100\n",
      "97/97 [==============================] - 0s 3ms/step - loss: 1.7253 - accuracy: 0.3196 - val_loss: 1.7618 - val_accuracy: 0.2887\n",
      "Epoch 22/100\n",
      "97/97 [==============================] - 0s 4ms/step - loss: 1.7158 - accuracy: 0.3170 - val_loss: 1.7536 - val_accuracy: 0.3004\n",
      "Epoch 23/100\n",
      "97/97 [==============================] - 0s 4ms/step - loss: 1.7037 - accuracy: 0.3244 - val_loss: 1.7619 - val_accuracy: 0.2874\n",
      "Epoch 24/100\n",
      "97/97 [==============================] - 0s 3ms/step - loss: 1.7120 - accuracy: 0.3176 - val_loss: 1.7671 - val_accuracy: 0.2991\n",
      "Epoch 25/100\n",
      "97/97 [==============================] - 0s 4ms/step - loss: 1.7080 - accuracy: 0.3170 - val_loss: 1.7545 - val_accuracy: 0.2926\n",
      "Epoch 26/100\n",
      "97/97 [==============================] - 0s 4ms/step - loss: 1.7035 - accuracy: 0.3309 - val_loss: 1.7611 - val_accuracy: 0.2770\n",
      "Epoch 27/100\n",
      "97/97 [==============================] - 0s 4ms/step - loss: 1.7098 - accuracy: 0.3228 - val_loss: 1.7550 - val_accuracy: 0.2744\n",
      "Epoch 28/100\n",
      "97/97 [==============================] - 0s 3ms/step - loss: 1.6992 - accuracy: 0.3277 - val_loss: 1.7539 - val_accuracy: 0.2874\n",
      "Epoch 29/100\n",
      "97/97 [==============================] - 0s 3ms/step - loss: 1.6953 - accuracy: 0.3283 - val_loss: 1.7587 - val_accuracy: 0.3017\n",
      "Epoch 30/100\n",
      "97/97 [==============================] - 0s 3ms/step - loss: 1.6995 - accuracy: 0.3238 - val_loss: 1.7520 - val_accuracy: 0.3043\n",
      "Epoch 31/100\n",
      "97/97 [==============================] - 0s 3ms/step - loss: 1.6953 - accuracy: 0.3293 - val_loss: 1.7567 - val_accuracy: 0.2952\n",
      "Epoch 32/100\n",
      "97/97 [==============================] - 0s 3ms/step - loss: 1.6911 - accuracy: 0.3309 - val_loss: 1.7558 - val_accuracy: 0.2874\n",
      "Epoch 33/100\n",
      "97/97 [==============================] - 0s 3ms/step - loss: 1.6924 - accuracy: 0.3313 - val_loss: 1.7681 - val_accuracy: 0.2809\n",
      "Epoch 34/100\n",
      "97/97 [==============================] - 0s 3ms/step - loss: 1.6861 - accuracy: 0.3306 - val_loss: 1.7684 - val_accuracy: 0.2848\n",
      "Epoch 35/100\n",
      "97/97 [==============================] - 0s 4ms/step - loss: 1.7034 - accuracy: 0.3222 - val_loss: 1.7595 - val_accuracy: 0.2692\n",
      "Epoch 36/100\n",
      "97/97 [==============================] - 0s 4ms/step - loss: 1.6911 - accuracy: 0.3274 - val_loss: 1.7600 - val_accuracy: 0.2705\n",
      "Epoch 37/100\n",
      "97/97 [==============================] - 0s 3ms/step - loss: 1.6809 - accuracy: 0.3378 - val_loss: 1.7642 - val_accuracy: 0.2874\n",
      "Epoch 38/100\n",
      "97/97 [==============================] - 0s 4ms/step - loss: 1.6832 - accuracy: 0.3332 - val_loss: 1.7713 - val_accuracy: 0.2809\n",
      "Epoch 39/100\n",
      "97/97 [==============================] - 0s 4ms/step - loss: 1.6789 - accuracy: 0.3394 - val_loss: 1.7653 - val_accuracy: 0.2809\n",
      "Epoch 40/100\n",
      "97/97 [==============================] - 0s 4ms/step - loss: 1.6813 - accuracy: 0.3319 - val_loss: 1.7629 - val_accuracy: 0.2796\n",
      "Epoch 41/100\n",
      "97/97 [==============================] - 0s 3ms/step - loss: 1.6780 - accuracy: 0.3365 - val_loss: 1.7573 - val_accuracy: 0.2848\n",
      "Epoch 42/100\n",
      "97/97 [==============================] - 0s 4ms/step - loss: 1.6781 - accuracy: 0.3332 - val_loss: 1.7629 - val_accuracy: 0.2861\n",
      "Epoch 43/100\n",
      "97/97 [==============================] - 0s 4ms/step - loss: 1.6732 - accuracy: 0.3349 - val_loss: 1.7644 - val_accuracy: 0.2900\n",
      "Epoch 44/100\n",
      "97/97 [==============================] - 0s 4ms/step - loss: 1.6716 - accuracy: 0.3283 - val_loss: 1.7595 - val_accuracy: 0.2900\n",
      "Epoch 45/100\n",
      "97/97 [==============================] - 0s 4ms/step - loss: 1.6697 - accuracy: 0.3397 - val_loss: 1.7540 - val_accuracy: 0.2796\n",
      "Epoch 46/100\n",
      "97/97 [==============================] - 0s 4ms/step - loss: 1.6727 - accuracy: 0.3479 - val_loss: 1.7617 - val_accuracy: 0.2835\n",
      "Epoch 47/100\n",
      "97/97 [==============================] - 0s 4ms/step - loss: 1.6676 - accuracy: 0.3349 - val_loss: 1.7575 - val_accuracy: 0.2848\n",
      "Epoch 48/100\n",
      "97/97 [==============================] - 0s 4ms/step - loss: 1.6614 - accuracy: 0.3436 - val_loss: 1.7645 - val_accuracy: 0.2900\n",
      "Epoch 49/100\n",
      "97/97 [==============================] - 0s 4ms/step - loss: 1.6660 - accuracy: 0.3384 - val_loss: 1.7715 - val_accuracy: 0.2926\n",
      "Epoch 50/100\n",
      "97/97 [==============================] - 0s 3ms/step - loss: 1.6643 - accuracy: 0.3303 - val_loss: 1.7640 - val_accuracy: 0.2952\n",
      "Epoch 51/100\n",
      "97/97 [==============================] - 0s 3ms/step - loss: 1.6667 - accuracy: 0.3358 - val_loss: 1.7535 - val_accuracy: 0.2926\n",
      "Epoch 52/100\n",
      "97/97 [==============================] - 0s 3ms/step - loss: 1.6677 - accuracy: 0.3404 - val_loss: 1.7665 - val_accuracy: 0.2926\n",
      "Epoch 53/100\n",
      "97/97 [==============================] - 0s 3ms/step - loss: 1.6567 - accuracy: 0.3410 - val_loss: 1.7671 - val_accuracy: 0.2783\n",
      "Epoch 54/100\n",
      "97/97 [==============================] - 0s 4ms/step - loss: 1.6611 - accuracy: 0.3368 - val_loss: 1.7635 - val_accuracy: 0.2861\n",
      "Epoch 55/100\n",
      "97/97 [==============================] - 0s 4ms/step - loss: 1.6577 - accuracy: 0.3410 - val_loss: 1.7632 - val_accuracy: 0.2744\n",
      "Epoch 56/100\n",
      "97/97 [==============================] - 0s 4ms/step - loss: 1.6541 - accuracy: 0.3440 - val_loss: 1.7808 - val_accuracy: 0.2809\n",
      "Epoch 57/100\n",
      "97/97 [==============================] - 0s 3ms/step - loss: 1.6591 - accuracy: 0.3257 - val_loss: 1.7636 - val_accuracy: 0.2848\n",
      "Epoch 58/100\n",
      "97/97 [==============================] - 0s 3ms/step - loss: 1.6510 - accuracy: 0.3358 - val_loss: 1.7751 - val_accuracy: 0.2965\n",
      "Epoch 59/100\n",
      "97/97 [==============================] - 0s 3ms/step - loss: 1.6477 - accuracy: 0.3423 - val_loss: 1.7687 - val_accuracy: 0.2835\n",
      "Epoch 60/100\n",
      "97/97 [==============================] - 0s 3ms/step - loss: 1.6517 - accuracy: 0.3329 - val_loss: 1.7669 - val_accuracy: 0.2887\n",
      "Epoch 61/100\n",
      "97/97 [==============================] - 0s 3ms/step - loss: 1.6489 - accuracy: 0.3514 - val_loss: 1.7852 - val_accuracy: 0.2705\n",
      "Epoch 62/100\n",
      "97/97 [==============================] - 0s 3ms/step - loss: 1.6441 - accuracy: 0.3524 - val_loss: 1.7658 - val_accuracy: 0.2796\n",
      "Epoch 63/100\n",
      "97/97 [==============================] - 0s 5ms/step - loss: 1.6444 - accuracy: 0.3472 - val_loss: 1.7752 - val_accuracy: 0.2861\n",
      "Epoch 64/100\n",
      "97/97 [==============================] - 0s 3ms/step - loss: 1.6384 - accuracy: 0.3430 - val_loss: 1.7916 - val_accuracy: 0.2679\n",
      "Epoch 65/100\n",
      "97/97 [==============================] - 0s 3ms/step - loss: 1.6388 - accuracy: 0.3488 - val_loss: 1.7725 - val_accuracy: 0.2757\n",
      "Epoch 66/100\n",
      "97/97 [==============================] - 0s 4ms/step - loss: 1.6371 - accuracy: 0.3446 - val_loss: 1.7979 - val_accuracy: 0.2926\n",
      "Epoch 67/100\n",
      "97/97 [==============================] - 0s 3ms/step - loss: 1.6360 - accuracy: 0.3511 - val_loss: 1.7721 - val_accuracy: 0.2796\n",
      "Epoch 68/100\n",
      "97/97 [==============================] - 0s 3ms/step - loss: 1.6388 - accuracy: 0.3537 - val_loss: 1.7884 - val_accuracy: 0.2848\n",
      "Epoch 69/100\n",
      "97/97 [==============================] - 0s 3ms/step - loss: 1.6325 - accuracy: 0.3482 - val_loss: 1.7857 - val_accuracy: 0.2952\n",
      "Epoch 70/100\n",
      "97/97 [==============================] - 0s 4ms/step - loss: 1.6344 - accuracy: 0.3492 - val_loss: 1.7788 - val_accuracy: 0.2809\n",
      "Epoch 71/100\n",
      "97/97 [==============================] - 0s 3ms/step - loss: 1.6310 - accuracy: 0.3541 - val_loss: 1.7925 - val_accuracy: 0.2822\n",
      "Epoch 72/100\n",
      "97/97 [==============================] - 0s 3ms/step - loss: 1.6282 - accuracy: 0.3537 - val_loss: 1.7898 - val_accuracy: 0.2744\n",
      "Epoch 73/100\n",
      "97/97 [==============================] - 0s 3ms/step - loss: 1.6302 - accuracy: 0.3505 - val_loss: 1.7861 - val_accuracy: 0.2796\n",
      "Epoch 74/100\n",
      "97/97 [==============================] - 0s 3ms/step - loss: 1.6241 - accuracy: 0.3580 - val_loss: 1.7757 - val_accuracy: 0.2835\n",
      "Epoch 75/100\n",
      "97/97 [==============================] - 0s 3ms/step - loss: 1.6261 - accuracy: 0.3508 - val_loss: 1.7941 - val_accuracy: 0.2796\n",
      "Epoch 76/100\n",
      "97/97 [==============================] - 0s 4ms/step - loss: 1.6314 - accuracy: 0.3498 - val_loss: 1.7943 - val_accuracy: 0.2822\n",
      "Epoch 77/100\n",
      "97/97 [==============================] - 0s 4ms/step - loss: 1.6337 - accuracy: 0.3508 - val_loss: 1.7869 - val_accuracy: 0.2718\n",
      "Epoch 78/100\n",
      "97/97 [==============================] - 0s 3ms/step - loss: 1.6279 - accuracy: 0.3508 - val_loss: 1.7882 - val_accuracy: 0.2809\n",
      "Epoch 79/100\n",
      "97/97 [==============================] - 0s 3ms/step - loss: 1.6247 - accuracy: 0.3541 - val_loss: 1.7928 - val_accuracy: 0.2874\n",
      "Epoch 80/100\n",
      "97/97 [==============================] - 0s 3ms/step - loss: 1.6253 - accuracy: 0.3488 - val_loss: 1.7952 - val_accuracy: 0.2770\n",
      "Epoch 81/100\n",
      "97/97 [==============================] - 0s 3ms/step - loss: 1.6153 - accuracy: 0.3521 - val_loss: 1.7933 - val_accuracy: 0.2757\n",
      "Epoch 82/100\n",
      "97/97 [==============================] - 0s 3ms/step - loss: 1.6136 - accuracy: 0.3593 - val_loss: 1.7977 - val_accuracy: 0.2718\n",
      "Epoch 83/100\n",
      "97/97 [==============================] - 0s 3ms/step - loss: 1.6144 - accuracy: 0.3544 - val_loss: 1.8016 - val_accuracy: 0.2835\n",
      "Epoch 84/100\n",
      "97/97 [==============================] - 0s 3ms/step - loss: 1.6130 - accuracy: 0.3524 - val_loss: 1.8051 - val_accuracy: 0.2770\n",
      "Epoch 85/100\n",
      "97/97 [==============================] - 0s 4ms/step - loss: 1.6127 - accuracy: 0.3596 - val_loss: 1.8009 - val_accuracy: 0.2770\n",
      "Epoch 86/100\n",
      "97/97 [==============================] - 0s 4ms/step - loss: 1.6067 - accuracy: 0.3606 - val_loss: 1.8079 - val_accuracy: 0.2848\n",
      "Epoch 87/100\n",
      "97/97 [==============================] - 0s 4ms/step - loss: 1.6055 - accuracy: 0.3638 - val_loss: 1.8154 - val_accuracy: 0.2757\n",
      "Epoch 88/100\n",
      "97/97 [==============================] - 0s 4ms/step - loss: 1.6114 - accuracy: 0.3586 - val_loss: 1.7940 - val_accuracy: 0.2718\n",
      "Epoch 89/100\n",
      "97/97 [==============================] - 0s 4ms/step - loss: 1.6096 - accuracy: 0.3567 - val_loss: 1.7989 - val_accuracy: 0.2848\n",
      "Epoch 90/100\n",
      "97/97 [==============================] - 0s 4ms/step - loss: 1.6019 - accuracy: 0.3606 - val_loss: 1.8022 - val_accuracy: 0.2653\n",
      "Epoch 91/100\n",
      "97/97 [==============================] - 0s 4ms/step - loss: 1.6127 - accuracy: 0.3583 - val_loss: 1.8128 - val_accuracy: 0.2796\n",
      "Epoch 92/100\n",
      "97/97 [==============================] - 0s 4ms/step - loss: 1.6004 - accuracy: 0.3677 - val_loss: 1.8114 - val_accuracy: 0.2822\n",
      "Epoch 93/100\n",
      "97/97 [==============================] - 0s 4ms/step - loss: 1.5998 - accuracy: 0.3632 - val_loss: 1.8079 - val_accuracy: 0.2783\n",
      "Epoch 94/100\n",
      "97/97 [==============================] - 0s 4ms/step - loss: 1.6016 - accuracy: 0.3615 - val_loss: 1.8163 - val_accuracy: 0.2757\n",
      "Epoch 95/100\n",
      "97/97 [==============================] - 1s 6ms/step - loss: 1.5979 - accuracy: 0.3580 - val_loss: 1.8221 - val_accuracy: 0.2679\n",
      "Epoch 96/100\n",
      "97/97 [==============================] - 0s 4ms/step - loss: 1.5991 - accuracy: 0.3658 - val_loss: 1.8187 - val_accuracy: 0.2692\n",
      "Epoch 97/100\n",
      "97/97 [==============================] - 0s 3ms/step - loss: 1.5935 - accuracy: 0.3658 - val_loss: 1.8148 - val_accuracy: 0.2874\n",
      "Epoch 98/100\n",
      "97/97 [==============================] - 0s 3ms/step - loss: 1.5935 - accuracy: 0.3615 - val_loss: 1.8137 - val_accuracy: 0.2796\n",
      "Epoch 99/100\n",
      "97/97 [==============================] - 0s 4ms/step - loss: 1.5992 - accuracy: 0.3593 - val_loss: 1.8099 - val_accuracy: 0.2796\n",
      "Epoch 100/100\n",
      "97/97 [==============================] - 0s 3ms/step - loss: 1.5856 - accuracy: 0.3775 - val_loss: 1.8188 - val_accuracy: 0.2783\n"
     ]
    }
   ],
   "source": [
    "\n",
    "history = model.fit(X_train_scaled,Y_train,epochs=100,validation_data=(X_test_scaled,Y_test))"
   ]
  },
  {
   "cell_type": "markdown",
   "id": "4a408543-2dd9-4b7b-9a6d-ac50223e4b8d",
   "metadata": {},
   "source": [
    "# Rings label이 11개라서 정확도가 낮음 -> Rings를 low,middle,high 3개의 범주로 묶고 다시 해봄"
   ]
  },
  {
   "cell_type": "markdown",
   "id": "c7c5985f-b2da-494c-9f40-8b77b42173eb",
   "metadata": {},
   "source": [
    "## 1. 데이터 전처리"
   ]
  },
  {
   "cell_type": "code",
   "execution_count": 20,
   "id": "c9a890c5-5862-4ace-a8a5-80c104f20191",
   "metadata": {},
   "outputs": [],
   "source": [
    "import pandas as pd\n",
    "import numpy as np\n",
    "\n",
    "df_n=pd.read_csv(\"abalone.csv\")\n",
    "df_n=df_n.drop('id',axis=1)\n"
   ]
  },
  {
   "cell_type": "code",
   "execution_count": 21,
   "id": "dd2c7d36-0550-46e5-8b1c-1da6535f17bf",
   "metadata": {},
   "outputs": [
    {
     "name": "stdout",
     "output_type": "stream",
     "text": [
      "Min ; 1, Max : 29, mean : 9.933684462532918\n"
     ]
    }
   ],
   "source": [
    "# 데이터의 최대 최소 평균 값을 찾아서 데이터가 고르게 나눠질 수 있도록 범위를 조절\n",
    "\n",
    "min=df_n['Rings'].min()\n",
    "max=df_n['Rings'].max()\n",
    "mean = df_n['Rings'].mean()\n",
    "\n",
    "print(f\"Min ; {min}, Max : {max}, mean : {mean}\")"
   ]
  },
  {
   "cell_type": "markdown",
   "id": "a56a3b7c-cd71-4b4a-8fbf-24d15d4efddf",
   "metadata": {},
   "source": [
    "**범주형 데이터를 카테고리화 하기**"
   ]
  },
  {
   "cell_type": "code",
   "execution_count": 22,
   "id": "10796ec3-2e65-4230-bb4b-3fb74abd116e",
   "metadata": {},
   "outputs": [
    {
     "data": {
      "text/html": [
       "<div>\n",
       "<style scoped>\n",
       "    .dataframe tbody tr th:only-of-type {\n",
       "        vertical-align: middle;\n",
       "    }\n",
       "\n",
       "    .dataframe tbody tr th {\n",
       "        vertical-align: top;\n",
       "    }\n",
       "\n",
       "    .dataframe thead th {\n",
       "        text-align: right;\n",
       "    }\n",
       "</style>\n",
       "<table border=\"1\" class=\"dataframe\">\n",
       "  <thead>\n",
       "    <tr style=\"text-align: right;\">\n",
       "      <th></th>\n",
       "      <th>Sex</th>\n",
       "      <th>Length</th>\n",
       "      <th>Diameter</th>\n",
       "      <th>Height</th>\n",
       "      <th>Whole_weight</th>\n",
       "      <th>Shucked_weight</th>\n",
       "      <th>Viscera_weight</th>\n",
       "      <th>Shell_weight</th>\n",
       "      <th>Rings</th>\n",
       "      <th>Level</th>\n",
       "    </tr>\n",
       "  </thead>\n",
       "  <tbody>\n",
       "    <tr>\n",
       "      <th>0</th>\n",
       "      <td>M</td>\n",
       "      <td>0.455</td>\n",
       "      <td>0.365</td>\n",
       "      <td>0.095</td>\n",
       "      <td>0.5140</td>\n",
       "      <td>0.2245</td>\n",
       "      <td>0.1010</td>\n",
       "      <td>0.1500</td>\n",
       "      <td>15</td>\n",
       "      <td>High</td>\n",
       "    </tr>\n",
       "    <tr>\n",
       "      <th>1</th>\n",
       "      <td>M</td>\n",
       "      <td>0.350</td>\n",
       "      <td>0.265</td>\n",
       "      <td>0.090</td>\n",
       "      <td>0.2255</td>\n",
       "      <td>0.0995</td>\n",
       "      <td>0.0485</td>\n",
       "      <td>0.0700</td>\n",
       "      <td>7</td>\n",
       "      <td>Low</td>\n",
       "    </tr>\n",
       "    <tr>\n",
       "      <th>2</th>\n",
       "      <td>F</td>\n",
       "      <td>0.530</td>\n",
       "      <td>0.420</td>\n",
       "      <td>0.135</td>\n",
       "      <td>0.6770</td>\n",
       "      <td>0.2565</td>\n",
       "      <td>0.1415</td>\n",
       "      <td>0.2100</td>\n",
       "      <td>9</td>\n",
       "      <td>Middle</td>\n",
       "    </tr>\n",
       "    <tr>\n",
       "      <th>3</th>\n",
       "      <td>M</td>\n",
       "      <td>0.440</td>\n",
       "      <td>0.365</td>\n",
       "      <td>0.125</td>\n",
       "      <td>0.5160</td>\n",
       "      <td>0.2155</td>\n",
       "      <td>0.1140</td>\n",
       "      <td>0.1550</td>\n",
       "      <td>10</td>\n",
       "      <td>Middle</td>\n",
       "    </tr>\n",
       "    <tr>\n",
       "      <th>4</th>\n",
       "      <td>I</td>\n",
       "      <td>0.330</td>\n",
       "      <td>0.255</td>\n",
       "      <td>0.080</td>\n",
       "      <td>0.2050</td>\n",
       "      <td>0.0895</td>\n",
       "      <td>0.0395</td>\n",
       "      <td>0.0550</td>\n",
       "      <td>7</td>\n",
       "      <td>Low</td>\n",
       "    </tr>\n",
       "    <tr>\n",
       "      <th>...</th>\n",
       "      <td>...</td>\n",
       "      <td>...</td>\n",
       "      <td>...</td>\n",
       "      <td>...</td>\n",
       "      <td>...</td>\n",
       "      <td>...</td>\n",
       "      <td>...</td>\n",
       "      <td>...</td>\n",
       "      <td>...</td>\n",
       "      <td>...</td>\n",
       "    </tr>\n",
       "    <tr>\n",
       "      <th>4172</th>\n",
       "      <td>F</td>\n",
       "      <td>0.565</td>\n",
       "      <td>0.450</td>\n",
       "      <td>0.165</td>\n",
       "      <td>0.8870</td>\n",
       "      <td>0.3700</td>\n",
       "      <td>0.2390</td>\n",
       "      <td>0.2490</td>\n",
       "      <td>11</td>\n",
       "      <td>Middle</td>\n",
       "    </tr>\n",
       "    <tr>\n",
       "      <th>4173</th>\n",
       "      <td>M</td>\n",
       "      <td>0.590</td>\n",
       "      <td>0.440</td>\n",
       "      <td>0.135</td>\n",
       "      <td>0.9660</td>\n",
       "      <td>0.4390</td>\n",
       "      <td>0.2145</td>\n",
       "      <td>0.2605</td>\n",
       "      <td>10</td>\n",
       "      <td>Middle</td>\n",
       "    </tr>\n",
       "    <tr>\n",
       "      <th>4174</th>\n",
       "      <td>M</td>\n",
       "      <td>0.600</td>\n",
       "      <td>0.475</td>\n",
       "      <td>0.205</td>\n",
       "      <td>1.1760</td>\n",
       "      <td>0.5255</td>\n",
       "      <td>0.2875</td>\n",
       "      <td>0.3080</td>\n",
       "      <td>9</td>\n",
       "      <td>Middle</td>\n",
       "    </tr>\n",
       "    <tr>\n",
       "      <th>4175</th>\n",
       "      <td>F</td>\n",
       "      <td>0.625</td>\n",
       "      <td>0.485</td>\n",
       "      <td>0.150</td>\n",
       "      <td>1.0945</td>\n",
       "      <td>0.5310</td>\n",
       "      <td>0.2610</td>\n",
       "      <td>0.2960</td>\n",
       "      <td>10</td>\n",
       "      <td>Middle</td>\n",
       "    </tr>\n",
       "    <tr>\n",
       "      <th>4176</th>\n",
       "      <td>M</td>\n",
       "      <td>0.710</td>\n",
       "      <td>0.555</td>\n",
       "      <td>0.195</td>\n",
       "      <td>1.9485</td>\n",
       "      <td>0.9455</td>\n",
       "      <td>0.3765</td>\n",
       "      <td>0.4950</td>\n",
       "      <td>12</td>\n",
       "      <td>Middle</td>\n",
       "    </tr>\n",
       "  </tbody>\n",
       "</table>\n",
       "<p>4177 rows × 10 columns</p>\n",
       "</div>"
      ],
      "text/plain": [
       "     Sex  Length  Diameter  Height  Whole_weight  Shucked_weight  \\\n",
       "0      M   0.455     0.365   0.095        0.5140          0.2245   \n",
       "1      M   0.350     0.265   0.090        0.2255          0.0995   \n",
       "2      F   0.530     0.420   0.135        0.6770          0.2565   \n",
       "3      M   0.440     0.365   0.125        0.5160          0.2155   \n",
       "4      I   0.330     0.255   0.080        0.2050          0.0895   \n",
       "...   ..     ...       ...     ...           ...             ...   \n",
       "4172   F   0.565     0.450   0.165        0.8870          0.3700   \n",
       "4173   M   0.590     0.440   0.135        0.9660          0.4390   \n",
       "4174   M   0.600     0.475   0.205        1.1760          0.5255   \n",
       "4175   F   0.625     0.485   0.150        1.0945          0.5310   \n",
       "4176   M   0.710     0.555   0.195        1.9485          0.9455   \n",
       "\n",
       "      Viscera_weight  Shell_weight  Rings   Level  \n",
       "0             0.1010        0.1500     15    High  \n",
       "1             0.0485        0.0700      7     Low  \n",
       "2             0.1415        0.2100      9  Middle  \n",
       "3             0.1140        0.1550     10  Middle  \n",
       "4             0.0395        0.0550      7     Low  \n",
       "...              ...           ...    ...     ...  \n",
       "4172          0.2390        0.2490     11  Middle  \n",
       "4173          0.2145        0.2605     10  Middle  \n",
       "4174          0.2875        0.3080      9  Middle  \n",
       "4175          0.2610        0.2960     10  Middle  \n",
       "4176          0.3765        0.4950     12  Middle  \n",
       "\n",
       "[4177 rows x 10 columns]"
      ]
     },
     "execution_count": 22,
     "metadata": {},
     "output_type": "execute_result"
    }
   ],
   "source": [
    "\n",
    "# Rings를 카테고리로 나누기\n",
    "df_n['Level'] = pd.cut(df_n['Rings'], bins=[0, 7, 12, 30], labels=['Low', 'Middle', 'High'])\n",
    "df_n"
   ]
  },
  {
   "cell_type": "code",
   "execution_count": 23,
   "id": "451596ac-d8da-4ade-a56f-f6a084acfe81",
   "metadata": {},
   "outputs": [
    {
     "data": {
      "text/plain": [
       "Level\n",
       "Middle    2645\n",
       "Low        839\n",
       "High       693\n",
       "Name: count, dtype: int64"
      ]
     },
     "execution_count": 23,
     "metadata": {},
     "output_type": "execute_result"
    }
   ],
   "source": [
    "df_n['Level'].value_counts()"
   ]
  },
  {
   "cell_type": "code",
   "execution_count": 24,
   "id": "51c32c5c-605a-4a26-8019-de53ea04643f",
   "metadata": {},
   "outputs": [
    {
     "data": {
      "text/plain": [
       "pandas.core.frame.DataFrame"
      ]
     },
     "execution_count": 24,
     "metadata": {},
     "output_type": "execute_result"
    }
   ],
   "source": [
    "type(df_n)"
   ]
  },
  {
   "cell_type": "code",
   "execution_count": 25,
   "id": "c2f2ed59-d930-44bb-bf23-303e42061731",
   "metadata": {},
   "outputs": [],
   "source": [
    "input = df_n.drop(['Level','Rings'],axis=1)\n",
    "target = df_n['Level']"
   ]
  },
  {
   "cell_type": "code",
   "execution_count": 26,
   "id": "94fa3bc2-ed6e-4eeb-8420-43ebf1e23d7d",
   "metadata": {},
   "outputs": [
    {
     "data": {
      "text/plain": [
       "pandas.core.series.Series"
      ]
     },
     "execution_count": 26,
     "metadata": {},
     "output_type": "execute_result"
    }
   ],
   "source": [
    "type(target)"
   ]
  },
  {
   "cell_type": "markdown",
   "id": "654eaa47-eea4-4fbb-aeb4-b5eb0eb7124b",
   "metadata": {},
   "source": [
    "**LabelEncoder**"
   ]
  },
  {
   "cell_type": "code",
   "execution_count": 27,
   "id": "7db56202-5667-4e47-94e5-a19864899dc2",
   "metadata": {},
   "outputs": [],
   "source": [
    "# 커테고리가 순서나 크기가 있는 데이터이기 때문에 labelencoder 적용\n",
    "from sklearn.preprocessing import LabelEncoder\n",
    "\n",
    "le = LabelEncoder()\n",
    "target = le.fit_transform(target)"
   ]
  },
  {
   "cell_type": "code",
   "execution_count": 28,
   "id": "d89ab22a-5ce0-4bdd-8bd1-7f93f90a8ad7",
   "metadata": {},
   "outputs": [
    {
     "name": "stdout",
     "output_type": "stream",
     "text": [
      "(4177,)\n",
      "<class 'numpy.ndarray'>\n"
     ]
    }
   ],
   "source": [
    "print(target.shape)\n",
    "print(type(target)) # sklearn의 클래스가 판다스 데이터 프레임을 자동으로 넘파이 배열로 변환"
   ]
  },
  {
   "cell_type": "markdown",
   "id": "037227a3-4b4e-4926-b311-c5a23c55f032",
   "metadata": {},
   "source": [
    "**OneHot Encoder**"
   ]
  },
  {
   "cell_type": "code",
   "execution_count": 29,
   "id": "44328529-56be-4d27-be14-81fbf8cd4c25",
   "metadata": {
    "scrolled": true
   },
   "outputs": [
    {
     "data": {
      "text/html": [
       "<div>\n",
       "<style scoped>\n",
       "    .dataframe tbody tr th:only-of-type {\n",
       "        vertical-align: middle;\n",
       "    }\n",
       "\n",
       "    .dataframe tbody tr th {\n",
       "        vertical-align: top;\n",
       "    }\n",
       "\n",
       "    .dataframe thead th {\n",
       "        text-align: right;\n",
       "    }\n",
       "</style>\n",
       "<table border=\"1\" class=\"dataframe\">\n",
       "  <thead>\n",
       "    <tr style=\"text-align: right;\">\n",
       "      <th></th>\n",
       "      <th>Length</th>\n",
       "      <th>Diameter</th>\n",
       "      <th>Height</th>\n",
       "      <th>Whole_weight</th>\n",
       "      <th>Shucked_weight</th>\n",
       "      <th>Viscera_weight</th>\n",
       "      <th>Shell_weight</th>\n",
       "      <th>Sex_F</th>\n",
       "      <th>Sex_I</th>\n",
       "      <th>Sex_M</th>\n",
       "    </tr>\n",
       "  </thead>\n",
       "  <tbody>\n",
       "    <tr>\n",
       "      <th>0</th>\n",
       "      <td>0.455</td>\n",
       "      <td>0.365</td>\n",
       "      <td>0.095</td>\n",
       "      <td>0.5140</td>\n",
       "      <td>0.2245</td>\n",
       "      <td>0.1010</td>\n",
       "      <td>0.1500</td>\n",
       "      <td>False</td>\n",
       "      <td>False</td>\n",
       "      <td>True</td>\n",
       "    </tr>\n",
       "    <tr>\n",
       "      <th>1</th>\n",
       "      <td>0.350</td>\n",
       "      <td>0.265</td>\n",
       "      <td>0.090</td>\n",
       "      <td>0.2255</td>\n",
       "      <td>0.0995</td>\n",
       "      <td>0.0485</td>\n",
       "      <td>0.0700</td>\n",
       "      <td>False</td>\n",
       "      <td>False</td>\n",
       "      <td>True</td>\n",
       "    </tr>\n",
       "    <tr>\n",
       "      <th>2</th>\n",
       "      <td>0.530</td>\n",
       "      <td>0.420</td>\n",
       "      <td>0.135</td>\n",
       "      <td>0.6770</td>\n",
       "      <td>0.2565</td>\n",
       "      <td>0.1415</td>\n",
       "      <td>0.2100</td>\n",
       "      <td>True</td>\n",
       "      <td>False</td>\n",
       "      <td>False</td>\n",
       "    </tr>\n",
       "    <tr>\n",
       "      <th>3</th>\n",
       "      <td>0.440</td>\n",
       "      <td>0.365</td>\n",
       "      <td>0.125</td>\n",
       "      <td>0.5160</td>\n",
       "      <td>0.2155</td>\n",
       "      <td>0.1140</td>\n",
       "      <td>0.1550</td>\n",
       "      <td>False</td>\n",
       "      <td>False</td>\n",
       "      <td>True</td>\n",
       "    </tr>\n",
       "    <tr>\n",
       "      <th>4</th>\n",
       "      <td>0.330</td>\n",
       "      <td>0.255</td>\n",
       "      <td>0.080</td>\n",
       "      <td>0.2050</td>\n",
       "      <td>0.0895</td>\n",
       "      <td>0.0395</td>\n",
       "      <td>0.0550</td>\n",
       "      <td>False</td>\n",
       "      <td>True</td>\n",
       "      <td>False</td>\n",
       "    </tr>\n",
       "    <tr>\n",
       "      <th>...</th>\n",
       "      <td>...</td>\n",
       "      <td>...</td>\n",
       "      <td>...</td>\n",
       "      <td>...</td>\n",
       "      <td>...</td>\n",
       "      <td>...</td>\n",
       "      <td>...</td>\n",
       "      <td>...</td>\n",
       "      <td>...</td>\n",
       "      <td>...</td>\n",
       "    </tr>\n",
       "    <tr>\n",
       "      <th>4172</th>\n",
       "      <td>0.565</td>\n",
       "      <td>0.450</td>\n",
       "      <td>0.165</td>\n",
       "      <td>0.8870</td>\n",
       "      <td>0.3700</td>\n",
       "      <td>0.2390</td>\n",
       "      <td>0.2490</td>\n",
       "      <td>True</td>\n",
       "      <td>False</td>\n",
       "      <td>False</td>\n",
       "    </tr>\n",
       "    <tr>\n",
       "      <th>4173</th>\n",
       "      <td>0.590</td>\n",
       "      <td>0.440</td>\n",
       "      <td>0.135</td>\n",
       "      <td>0.9660</td>\n",
       "      <td>0.4390</td>\n",
       "      <td>0.2145</td>\n",
       "      <td>0.2605</td>\n",
       "      <td>False</td>\n",
       "      <td>False</td>\n",
       "      <td>True</td>\n",
       "    </tr>\n",
       "    <tr>\n",
       "      <th>4174</th>\n",
       "      <td>0.600</td>\n",
       "      <td>0.475</td>\n",
       "      <td>0.205</td>\n",
       "      <td>1.1760</td>\n",
       "      <td>0.5255</td>\n",
       "      <td>0.2875</td>\n",
       "      <td>0.3080</td>\n",
       "      <td>False</td>\n",
       "      <td>False</td>\n",
       "      <td>True</td>\n",
       "    </tr>\n",
       "    <tr>\n",
       "      <th>4175</th>\n",
       "      <td>0.625</td>\n",
       "      <td>0.485</td>\n",
       "      <td>0.150</td>\n",
       "      <td>1.0945</td>\n",
       "      <td>0.5310</td>\n",
       "      <td>0.2610</td>\n",
       "      <td>0.2960</td>\n",
       "      <td>True</td>\n",
       "      <td>False</td>\n",
       "      <td>False</td>\n",
       "    </tr>\n",
       "    <tr>\n",
       "      <th>4176</th>\n",
       "      <td>0.710</td>\n",
       "      <td>0.555</td>\n",
       "      <td>0.195</td>\n",
       "      <td>1.9485</td>\n",
       "      <td>0.9455</td>\n",
       "      <td>0.3765</td>\n",
       "      <td>0.4950</td>\n",
       "      <td>False</td>\n",
       "      <td>False</td>\n",
       "      <td>True</td>\n",
       "    </tr>\n",
       "  </tbody>\n",
       "</table>\n",
       "<p>4177 rows × 10 columns</p>\n",
       "</div>"
      ],
      "text/plain": [
       "      Length  Diameter  Height  Whole_weight  Shucked_weight  Viscera_weight  \\\n",
       "0      0.455     0.365   0.095        0.5140          0.2245          0.1010   \n",
       "1      0.350     0.265   0.090        0.2255          0.0995          0.0485   \n",
       "2      0.530     0.420   0.135        0.6770          0.2565          0.1415   \n",
       "3      0.440     0.365   0.125        0.5160          0.2155          0.1140   \n",
       "4      0.330     0.255   0.080        0.2050          0.0895          0.0395   \n",
       "...      ...       ...     ...           ...             ...             ...   \n",
       "4172   0.565     0.450   0.165        0.8870          0.3700          0.2390   \n",
       "4173   0.590     0.440   0.135        0.9660          0.4390          0.2145   \n",
       "4174   0.600     0.475   0.205        1.1760          0.5255          0.2875   \n",
       "4175   0.625     0.485   0.150        1.0945          0.5310          0.2610   \n",
       "4176   0.710     0.555   0.195        1.9485          0.9455          0.3765   \n",
       "\n",
       "      Shell_weight  Sex_F  Sex_I  Sex_M  \n",
       "0           0.1500  False  False   True  \n",
       "1           0.0700  False  False   True  \n",
       "2           0.2100   True  False  False  \n",
       "3           0.1550  False  False   True  \n",
       "4           0.0550  False   True  False  \n",
       "...            ...    ...    ...    ...  \n",
       "4172        0.2490   True  False  False  \n",
       "4173        0.2605  False  False   True  \n",
       "4174        0.3080  False  False   True  \n",
       "4175        0.2960   True  False  False  \n",
       "4176        0.4950  False  False   True  \n",
       "\n",
       "[4177 rows x 10 columns]"
      ]
     },
     "execution_count": 29,
     "metadata": {},
     "output_type": "execute_result"
    }
   ],
   "source": [
    "# SEX는 순서나 크기가 없는 데이터이기 때문에 원 핫 인코딩 적용\n",
    "input = pd.get_dummies(input, columns = ['Sex'])\n",
    "input"
   ]
  },
  {
   "cell_type": "code",
   "execution_count": 30,
   "id": "fc780c48-1bd4-4a6b-adc5-8579a193d43d",
   "metadata": {},
   "outputs": [],
   "source": [
    "# CNN의 conv1d에 입력데이터 형태는 3차원 이어야 한다 (특성 수 1추가)\n",
    "# input = input.reshape((input.shape[0], input.shape[1], 1)) reshape은 넘파이 배열에만 적용 가능\n",
    "#input= np.expand_dims(input,axis=-1) # input 데이터를 3차원 만들고 train_test_split을 사영하면 오류(2차원이어야 함)\n",
    "#input.shape"
   ]
  },
  {
   "cell_type": "code",
   "execution_count": 31,
   "id": "5c8f14bf-c93b-4d04-9c2c-67235538e2bd",
   "metadata": {},
   "outputs": [],
   "source": [
    "from sklearn.model_selection import train_test_split\n",
    "x_train,x_test, y_train, y_test = train_test_split (input,target, test_size=0.2,stratify=target)"
   ]
  },
  {
   "cell_type": "code",
   "execution_count": 32,
   "id": "c80b0273-1add-48d4-8c5a-72afa0af9228",
   "metadata": {},
   "outputs": [],
   "source": [
    "from sklearn.preprocessing import StandardScaler\n",
    "sc=StandardScaler()\n",
    "x_train_scaled=sc.fit_transform(x_train)\n",
    "x_test_scaled=sc.transform(x_test) # 주의 fit_transform이 아닌 transform만 한다."
   ]
  },
  {
   "cell_type": "code",
   "execution_count": 33,
   "id": "39199e8d-05ad-45d3-9938-b7802a7bd69d",
   "metadata": {},
   "outputs": [
    {
     "data": {
      "text/plain": [
       "(3341, 10, 1)"
      ]
     },
     "execution_count": 33,
     "metadata": {},
     "output_type": "execute_result"
    }
   ],
   "source": [
    "x_train_scaled=np.expand_dims(x_train_scaled,axis=-1)\n",
    "x_train_scaled.shape"
   ]
  },
  {
   "cell_type": "code",
   "execution_count": 34,
   "id": "93a0542b-5ba7-4086-970d-72a0ff2702bd",
   "metadata": {},
   "outputs": [
    {
     "data": {
      "text/plain": [
       "(836, 10, 1)"
      ]
     },
     "execution_count": 34,
     "metadata": {},
     "output_type": "execute_result"
    }
   ],
   "source": [
    "x_test_scaled=np.expand_dims(x_test_scaled,axis=-1)\n",
    "x_test_scaled.shape"
   ]
  },
  {
   "cell_type": "markdown",
   "id": "4d3435b9-f919-494e-91f2-ac618c2c330a",
   "metadata": {},
   "source": [
    "## 2. CNN모델 구성"
   ]
  },
  {
   "cell_type": "code",
   "execution_count": 35,
   "id": "50f241e9-3f34-4791-bd63-cab67b4010a7",
   "metadata": {},
   "outputs": [
    {
     "name": "stdout",
     "output_type": "stream",
     "text": [
      "Model: \"sequential_1\"\n",
      "_________________________________________________________________\n",
      " Layer (type)                Output Shape              Param #   \n",
      "=================================================================\n",
      " conv1d_1 (Conv1D)           (None, 8, 32)             128       \n",
      "                                                                 \n",
      " max_pooling1d_1 (MaxPooling  (None, 4, 32)            0         \n",
      " 1D)                                                             \n",
      "                                                                 \n",
      " flatten_1 (Flatten)         (None, 128)               0         \n",
      "                                                                 \n",
      " dense_2 (Dense)             (None, 128)               16512     \n",
      "                                                                 \n",
      " dense_3 (Dense)             (None, 3)                 387       \n",
      "                                                                 \n",
      "=================================================================\n",
      "Total params: 17,027\n",
      "Trainable params: 17,027\n",
      "Non-trainable params: 0\n",
      "_________________________________________________________________\n"
     ]
    }
   ],
   "source": [
    "from tensorflow.keras.models import Sequential\n",
    "from tensorflow.keras.layers import Conv1D, MaxPooling1D, Flatten, Dense, Dropout\n",
    "\n",
    "model = Sequential() # 아래 층을 순차적으로 쌓기\n",
    "model.add(Conv1D(32,kernel_size=3,activation='relu',input_shape=(10,1)))#1차원 데이터 처리\n",
    "model.add(MaxPooling1D(pool_size=2))\n",
    "model.add(Flatten())\n",
    "model.add(Dense(128,activation='relu'))\n",
    "model.add(Dense(3,activation='softmax'))\n",
    "\n",
    "model.summary()"
   ]
  },
  {
   "cell_type": "code",
   "execution_count": 36,
   "id": "01ee5fc4-a36f-443c-984e-9a20d8e3559d",
   "metadata": {},
   "outputs": [],
   "source": [
    "model.compile(optimizer='adam',loss='sparse_categorical_crossentropy',metrics=['accuracy'])\n",
    "# 정수형 라벨이기 때문에 sparse 사용\n",
    "# 원 핫 인코딩된 라벨이면 그냥 categorical_crossentropy 사용\n"
   ]
  },
  {
   "cell_type": "code",
   "execution_count": 37,
   "id": "b28d5456-88ed-45f6-a206-8804bc636322",
   "metadata": {},
   "outputs": [
    {
     "name": "stdout",
     "output_type": "stream",
     "text": [
      "Epoch 1/100\n",
      "105/105 [==============================] - 1s 6ms/step - loss: 0.6721 - accuracy: 0.7207 - val_loss: 0.6016 - val_accuracy: 0.7333\n",
      "Epoch 2/100\n",
      "105/105 [==============================] - 0s 4ms/step - loss: 0.5804 - accuracy: 0.7522 - val_loss: 0.5736 - val_accuracy: 0.7536\n",
      "Epoch 3/100\n",
      "105/105 [==============================] - 0s 3ms/step - loss: 0.5615 - accuracy: 0.7591 - val_loss: 0.5712 - val_accuracy: 0.7512\n",
      "Epoch 4/100\n",
      "105/105 [==============================] - 0s 3ms/step - loss: 0.5462 - accuracy: 0.7743 - val_loss: 0.5699 - val_accuracy: 0.7596\n",
      "Epoch 5/100\n",
      "105/105 [==============================] - 0s 3ms/step - loss: 0.5423 - accuracy: 0.7749 - val_loss: 0.5564 - val_accuracy: 0.7644\n",
      "Epoch 6/100\n",
      "105/105 [==============================] - 0s 3ms/step - loss: 0.5348 - accuracy: 0.7773 - val_loss: 0.5464 - val_accuracy: 0.7775\n",
      "Epoch 7/100\n",
      "105/105 [==============================] - 0s 3ms/step - loss: 0.5288 - accuracy: 0.7767 - val_loss: 0.5323 - val_accuracy: 0.7763\n",
      "Epoch 8/100\n",
      "105/105 [==============================] - 0s 3ms/step - loss: 0.5243 - accuracy: 0.7767 - val_loss: 0.5385 - val_accuracy: 0.7847\n",
      "Epoch 9/100\n",
      "105/105 [==============================] - 0s 4ms/step - loss: 0.5270 - accuracy: 0.7794 - val_loss: 0.5357 - val_accuracy: 0.7751\n",
      "Epoch 10/100\n",
      "105/105 [==============================] - 0s 3ms/step - loss: 0.5223 - accuracy: 0.7803 - val_loss: 0.5251 - val_accuracy: 0.7967\n",
      "Epoch 11/100\n",
      "105/105 [==============================] - 0s 4ms/step - loss: 0.5227 - accuracy: 0.7785 - val_loss: 0.5236 - val_accuracy: 0.7907\n",
      "Epoch 12/100\n",
      "105/105 [==============================] - 0s 4ms/step - loss: 0.5148 - accuracy: 0.7806 - val_loss: 0.5362 - val_accuracy: 0.7775\n",
      "Epoch 13/100\n",
      "105/105 [==============================] - 0s 3ms/step - loss: 0.5146 - accuracy: 0.7773 - val_loss: 0.5299 - val_accuracy: 0.7835\n",
      "Epoch 14/100\n",
      "105/105 [==============================] - 0s 3ms/step - loss: 0.5139 - accuracy: 0.7848 - val_loss: 0.5302 - val_accuracy: 0.7955\n",
      "Epoch 15/100\n",
      "105/105 [==============================] - 0s 3ms/step - loss: 0.5165 - accuracy: 0.7737 - val_loss: 0.5481 - val_accuracy: 0.7727\n",
      "Epoch 16/100\n",
      "105/105 [==============================] - 0s 3ms/step - loss: 0.5154 - accuracy: 0.7830 - val_loss: 0.5384 - val_accuracy: 0.7883\n",
      "Epoch 17/100\n",
      "105/105 [==============================] - 0s 4ms/step - loss: 0.5121 - accuracy: 0.7806 - val_loss: 0.5224 - val_accuracy: 0.7907\n",
      "Epoch 18/100\n",
      "105/105 [==============================] - 0s 4ms/step - loss: 0.5132 - accuracy: 0.7806 - val_loss: 0.5255 - val_accuracy: 0.7895\n",
      "Epoch 19/100\n",
      "105/105 [==============================] - 0s 4ms/step - loss: 0.5096 - accuracy: 0.7830 - val_loss: 0.5267 - val_accuracy: 0.7919\n",
      "Epoch 20/100\n",
      "105/105 [==============================] - 0s 5ms/step - loss: 0.5074 - accuracy: 0.7854 - val_loss: 0.5315 - val_accuracy: 0.7931\n",
      "Epoch 21/100\n",
      "105/105 [==============================] - 1s 5ms/step - loss: 0.5082 - accuracy: 0.7842 - val_loss: 0.5596 - val_accuracy: 0.7751\n",
      "Epoch 22/100\n",
      "105/105 [==============================] - 1s 5ms/step - loss: 0.5092 - accuracy: 0.7815 - val_loss: 0.5173 - val_accuracy: 0.8098\n",
      "Epoch 23/100\n",
      "105/105 [==============================] - 1s 5ms/step - loss: 0.5041 - accuracy: 0.7824 - val_loss: 0.5323 - val_accuracy: 0.7847\n",
      "Epoch 24/100\n",
      "105/105 [==============================] - 1s 5ms/step - loss: 0.5053 - accuracy: 0.7845 - val_loss: 0.5116 - val_accuracy: 0.8050\n",
      "Epoch 25/100\n",
      "105/105 [==============================] - 0s 5ms/step - loss: 0.5067 - accuracy: 0.7881 - val_loss: 0.5455 - val_accuracy: 0.7811\n",
      "Epoch 26/100\n",
      "105/105 [==============================] - 1s 5ms/step - loss: 0.5067 - accuracy: 0.7866 - val_loss: 0.5216 - val_accuracy: 0.7943\n",
      "Epoch 27/100\n",
      "105/105 [==============================] - 1s 6ms/step - loss: 0.5030 - accuracy: 0.7899 - val_loss: 0.5314 - val_accuracy: 0.7978\n",
      "Epoch 28/100\n",
      "105/105 [==============================] - 1s 5ms/step - loss: 0.5034 - accuracy: 0.7854 - val_loss: 0.5295 - val_accuracy: 0.7919\n",
      "Epoch 29/100\n",
      "105/105 [==============================] - 0s 5ms/step - loss: 0.5002 - accuracy: 0.7881 - val_loss: 0.5207 - val_accuracy: 0.7955\n",
      "Epoch 30/100\n",
      "105/105 [==============================] - 0s 5ms/step - loss: 0.4967 - accuracy: 0.7869 - val_loss: 0.5184 - val_accuracy: 0.7967\n",
      "Epoch 31/100\n",
      "105/105 [==============================] - 1s 5ms/step - loss: 0.4981 - accuracy: 0.7887 - val_loss: 0.5235 - val_accuracy: 0.8002\n",
      "Epoch 32/100\n",
      "105/105 [==============================] - 0s 4ms/step - loss: 0.4954 - accuracy: 0.7872 - val_loss: 0.5266 - val_accuracy: 0.8002\n",
      "Epoch 33/100\n",
      "105/105 [==============================] - 0s 4ms/step - loss: 0.4986 - accuracy: 0.7851 - val_loss: 0.5153 - val_accuracy: 0.8062\n",
      "Epoch 34/100\n",
      "105/105 [==============================] - 0s 4ms/step - loss: 0.4966 - accuracy: 0.7884 - val_loss: 0.5186 - val_accuracy: 0.8002\n",
      "Epoch 35/100\n",
      "105/105 [==============================] - 1s 6ms/step - loss: 0.4949 - accuracy: 0.7863 - val_loss: 0.5347 - val_accuracy: 0.8014\n",
      "Epoch 36/100\n",
      "105/105 [==============================] - 0s 5ms/step - loss: 0.4965 - accuracy: 0.7905 - val_loss: 0.5190 - val_accuracy: 0.8002\n",
      "Epoch 37/100\n",
      "105/105 [==============================] - 0s 4ms/step - loss: 0.4938 - accuracy: 0.7890 - val_loss: 0.5174 - val_accuracy: 0.8050\n",
      "Epoch 38/100\n",
      "105/105 [==============================] - 0s 4ms/step - loss: 0.4902 - accuracy: 0.7881 - val_loss: 0.5179 - val_accuracy: 0.7978\n",
      "Epoch 39/100\n",
      "105/105 [==============================] - 0s 4ms/step - loss: 0.4938 - accuracy: 0.7842 - val_loss: 0.5184 - val_accuracy: 0.8050\n",
      "Epoch 40/100\n",
      "105/105 [==============================] - 0s 4ms/step - loss: 0.4918 - accuracy: 0.7911 - val_loss: 0.5369 - val_accuracy: 0.7955\n",
      "Epoch 41/100\n",
      "105/105 [==============================] - 0s 4ms/step - loss: 0.4933 - accuracy: 0.7893 - val_loss: 0.5188 - val_accuracy: 0.8038\n",
      "Epoch 42/100\n",
      "105/105 [==============================] - 0s 4ms/step - loss: 0.4886 - accuracy: 0.7911 - val_loss: 0.5252 - val_accuracy: 0.7955\n",
      "Epoch 43/100\n",
      "105/105 [==============================] - 0s 4ms/step - loss: 0.4919 - accuracy: 0.7908 - val_loss: 0.5221 - val_accuracy: 0.8002\n",
      "Epoch 44/100\n",
      "105/105 [==============================] - 0s 5ms/step - loss: 0.4865 - accuracy: 0.7893 - val_loss: 0.5244 - val_accuracy: 0.8062\n",
      "Epoch 45/100\n",
      "105/105 [==============================] - 0s 4ms/step - loss: 0.4901 - accuracy: 0.7920 - val_loss: 0.5142 - val_accuracy: 0.8050\n",
      "Epoch 46/100\n",
      "105/105 [==============================] - 0s 4ms/step - loss: 0.4869 - accuracy: 0.7935 - val_loss: 0.5188 - val_accuracy: 0.7990\n",
      "Epoch 47/100\n",
      "105/105 [==============================] - 0s 4ms/step - loss: 0.4878 - accuracy: 0.7893 - val_loss: 0.5146 - val_accuracy: 0.8038\n",
      "Epoch 48/100\n",
      "105/105 [==============================] - 0s 4ms/step - loss: 0.4873 - accuracy: 0.7896 - val_loss: 0.5180 - val_accuracy: 0.8062\n",
      "Epoch 49/100\n",
      "105/105 [==============================] - 0s 4ms/step - loss: 0.4863 - accuracy: 0.7929 - val_loss: 0.5171 - val_accuracy: 0.8050\n",
      "Epoch 50/100\n",
      "105/105 [==============================] - 0s 4ms/step - loss: 0.4900 - accuracy: 0.7875 - val_loss: 0.5177 - val_accuracy: 0.8026\n",
      "Epoch 51/100\n",
      "105/105 [==============================] - 0s 4ms/step - loss: 0.4883 - accuracy: 0.7899 - val_loss: 0.5188 - val_accuracy: 0.8002\n",
      "Epoch 52/100\n",
      "105/105 [==============================] - 0s 5ms/step - loss: 0.4844 - accuracy: 0.7893 - val_loss: 0.5106 - val_accuracy: 0.8014\n",
      "Epoch 53/100\n",
      "105/105 [==============================] - 0s 4ms/step - loss: 0.4875 - accuracy: 0.7908 - val_loss: 0.5189 - val_accuracy: 0.7978\n",
      "Epoch 54/100\n",
      "105/105 [==============================] - 0s 4ms/step - loss: 0.4835 - accuracy: 0.7881 - val_loss: 0.5147 - val_accuracy: 0.7978\n",
      "Epoch 55/100\n",
      "105/105 [==============================] - 0s 4ms/step - loss: 0.4833 - accuracy: 0.7896 - val_loss: 0.5126 - val_accuracy: 0.8026\n",
      "Epoch 56/100\n",
      "105/105 [==============================] - 0s 4ms/step - loss: 0.4814 - accuracy: 0.7950 - val_loss: 0.5175 - val_accuracy: 0.8038\n",
      "Epoch 57/100\n",
      "105/105 [==============================] - 0s 4ms/step - loss: 0.4818 - accuracy: 0.7911 - val_loss: 0.5285 - val_accuracy: 0.7978\n",
      "Epoch 58/100\n",
      "105/105 [==============================] - 0s 4ms/step - loss: 0.4815 - accuracy: 0.7902 - val_loss: 0.5290 - val_accuracy: 0.8002\n",
      "Epoch 59/100\n",
      "105/105 [==============================] - 0s 4ms/step - loss: 0.4815 - accuracy: 0.7866 - val_loss: 0.5078 - val_accuracy: 0.8074\n",
      "Epoch 60/100\n",
      "105/105 [==============================] - 1s 5ms/step - loss: 0.4796 - accuracy: 0.7956 - val_loss: 0.5182 - val_accuracy: 0.8026\n",
      "Epoch 61/100\n",
      "105/105 [==============================] - 1s 5ms/step - loss: 0.4799 - accuracy: 0.7947 - val_loss: 0.5155 - val_accuracy: 0.8026\n",
      "Epoch 62/100\n",
      "105/105 [==============================] - 0s 4ms/step - loss: 0.4816 - accuracy: 0.7950 - val_loss: 0.5156 - val_accuracy: 0.8014\n",
      "Epoch 63/100\n",
      "105/105 [==============================] - 1s 5ms/step - loss: 0.4808 - accuracy: 0.7902 - val_loss: 0.5504 - val_accuracy: 0.7835\n",
      "Epoch 64/100\n",
      "105/105 [==============================] - 1s 5ms/step - loss: 0.4801 - accuracy: 0.7890 - val_loss: 0.5168 - val_accuracy: 0.8026\n",
      "Epoch 65/100\n",
      "105/105 [==============================] - 1s 7ms/step - loss: 0.4777 - accuracy: 0.7929 - val_loss: 0.5133 - val_accuracy: 0.7978\n",
      "Epoch 66/100\n",
      "105/105 [==============================] - 0s 4ms/step - loss: 0.4779 - accuracy: 0.7932 - val_loss: 0.5179 - val_accuracy: 0.8038\n",
      "Epoch 67/100\n",
      "105/105 [==============================] - 0s 4ms/step - loss: 0.4767 - accuracy: 0.7932 - val_loss: 0.5194 - val_accuracy: 0.8050\n",
      "Epoch 68/100\n",
      "105/105 [==============================] - 0s 4ms/step - loss: 0.4792 - accuracy: 0.7893 - val_loss: 0.5161 - val_accuracy: 0.8098\n",
      "Epoch 69/100\n",
      "105/105 [==============================] - 0s 4ms/step - loss: 0.4767 - accuracy: 0.7971 - val_loss: 0.5321 - val_accuracy: 0.8074\n",
      "Epoch 70/100\n",
      "105/105 [==============================] - 0s 4ms/step - loss: 0.4726 - accuracy: 0.7962 - val_loss: 0.5247 - val_accuracy: 0.7943\n",
      "Epoch 71/100\n",
      "105/105 [==============================] - 0s 4ms/step - loss: 0.4742 - accuracy: 0.7953 - val_loss: 0.5125 - val_accuracy: 0.8038\n",
      "Epoch 72/100\n",
      "105/105 [==============================] - 0s 4ms/step - loss: 0.4734 - accuracy: 0.7950 - val_loss: 0.5342 - val_accuracy: 0.7967\n",
      "Epoch 73/100\n",
      "105/105 [==============================] - 0s 4ms/step - loss: 0.4719 - accuracy: 0.7959 - val_loss: 0.5144 - val_accuracy: 0.7955\n",
      "Epoch 74/100\n",
      "105/105 [==============================] - 0s 4ms/step - loss: 0.4735 - accuracy: 0.8013 - val_loss: 0.5293 - val_accuracy: 0.8062\n",
      "Epoch 75/100\n",
      "105/105 [==============================] - 0s 4ms/step - loss: 0.4706 - accuracy: 0.7980 - val_loss: 0.5221 - val_accuracy: 0.8026\n",
      "Epoch 76/100\n",
      "105/105 [==============================] - 1s 6ms/step - loss: 0.4737 - accuracy: 0.7986 - val_loss: 0.5224 - val_accuracy: 0.7978\n",
      "Epoch 77/100\n",
      "105/105 [==============================] - 0s 4ms/step - loss: 0.4712 - accuracy: 0.7977 - val_loss: 0.5199 - val_accuracy: 0.7967\n",
      "Epoch 78/100\n",
      "105/105 [==============================] - 0s 4ms/step - loss: 0.4676 - accuracy: 0.7965 - val_loss: 0.5143 - val_accuracy: 0.8026\n",
      "Epoch 79/100\n",
      "105/105 [==============================] - 0s 4ms/step - loss: 0.4697 - accuracy: 0.7968 - val_loss: 0.5415 - val_accuracy: 0.7943\n",
      "Epoch 80/100\n",
      "105/105 [==============================] - 0s 4ms/step - loss: 0.4697 - accuracy: 0.7989 - val_loss: 0.5210 - val_accuracy: 0.7978\n",
      "Epoch 81/100\n",
      "105/105 [==============================] - 0s 4ms/step - loss: 0.4679 - accuracy: 0.7989 - val_loss: 0.5308 - val_accuracy: 0.8026\n",
      "Epoch 82/100\n",
      "105/105 [==============================] - 0s 4ms/step - loss: 0.4679 - accuracy: 0.7998 - val_loss: 0.5273 - val_accuracy: 0.8038\n",
      "Epoch 83/100\n",
      "105/105 [==============================] - 0s 4ms/step - loss: 0.4688 - accuracy: 0.7980 - val_loss: 0.5284 - val_accuracy: 0.7919\n",
      "Epoch 84/100\n",
      "105/105 [==============================] - 0s 4ms/step - loss: 0.4655 - accuracy: 0.7986 - val_loss: 0.5181 - val_accuracy: 0.8050\n",
      "Epoch 85/100\n",
      "105/105 [==============================] - 0s 4ms/step - loss: 0.4643 - accuracy: 0.8031 - val_loss: 0.5244 - val_accuracy: 0.8038\n",
      "Epoch 86/100\n",
      "105/105 [==============================] - 0s 4ms/step - loss: 0.4649 - accuracy: 0.7983 - val_loss: 0.5168 - val_accuracy: 0.7943\n",
      "Epoch 87/100\n",
      "105/105 [==============================] - 0s 4ms/step - loss: 0.4656 - accuracy: 0.7992 - val_loss: 0.5200 - val_accuracy: 0.7895\n",
      "Epoch 88/100\n",
      "105/105 [==============================] - 0s 4ms/step - loss: 0.4649 - accuracy: 0.8013 - val_loss: 0.5234 - val_accuracy: 0.8062\n",
      "Epoch 89/100\n",
      "105/105 [==============================] - 1s 6ms/step - loss: 0.4650 - accuracy: 0.7983 - val_loss: 0.5156 - val_accuracy: 0.8038\n",
      "Epoch 90/100\n",
      "105/105 [==============================] - 0s 3ms/step - loss: 0.4635 - accuracy: 0.7974 - val_loss: 0.5269 - val_accuracy: 0.8002\n",
      "Epoch 91/100\n",
      "105/105 [==============================] - 0s 3ms/step - loss: 0.4649 - accuracy: 0.8028 - val_loss: 0.5122 - val_accuracy: 0.7990\n",
      "Epoch 92/100\n",
      "105/105 [==============================] - 1s 5ms/step - loss: 0.4625 - accuracy: 0.7974 - val_loss: 0.5201 - val_accuracy: 0.7978\n",
      "Epoch 93/100\n",
      "105/105 [==============================] - 1s 6ms/step - loss: 0.4646 - accuracy: 0.7989 - val_loss: 0.5268 - val_accuracy: 0.8002\n",
      "Epoch 94/100\n",
      "105/105 [==============================] - 0s 4ms/step - loss: 0.4664 - accuracy: 0.7980 - val_loss: 0.5278 - val_accuracy: 0.7967\n",
      "Epoch 95/100\n",
      "105/105 [==============================] - 1s 6ms/step - loss: 0.4633 - accuracy: 0.8054 - val_loss: 0.5360 - val_accuracy: 0.7978\n",
      "Epoch 96/100\n",
      "105/105 [==============================] - 0s 5ms/step - loss: 0.4587 - accuracy: 0.8057 - val_loss: 0.5281 - val_accuracy: 0.8026\n",
      "Epoch 97/100\n",
      "105/105 [==============================] - 0s 4ms/step - loss: 0.4594 - accuracy: 0.8019 - val_loss: 0.5173 - val_accuracy: 0.8038\n",
      "Epoch 98/100\n",
      "105/105 [==============================] - 1s 6ms/step - loss: 0.4590 - accuracy: 0.8019 - val_loss: 0.5241 - val_accuracy: 0.8026\n",
      "Epoch 99/100\n",
      "105/105 [==============================] - 1s 6ms/step - loss: 0.4632 - accuracy: 0.7947 - val_loss: 0.5189 - val_accuracy: 0.8038\n",
      "Epoch 100/100\n",
      "105/105 [==============================] - 1s 7ms/step - loss: 0.4621 - accuracy: 0.8051 - val_loss: 0.5488 - val_accuracy: 0.7799\n"
     ]
    }
   ],
   "source": [
    "history = model.fit(x_train_scaled,y_train,epochs=100,validation_data=(x_test_scaled,y_test))"
   ]
  },
  {
   "cell_type": "code",
   "execution_count": 38,
   "id": "c23678b0-5940-4be6-ad14-1413e46d6d72",
   "metadata": {},
   "outputs": [
    {
     "data": {
      "text/plain": [
       "dict_keys(['loss', 'accuracy', 'val_loss', 'val_accuracy'])"
      ]
     },
     "execution_count": 38,
     "metadata": {},
     "output_type": "execute_result"
    }
   ],
   "source": [
    "history.history.keys()"
   ]
  },
  {
   "cell_type": "code",
   "execution_count": 39,
   "id": "df7e4596-1307-40e6-b961-9b6d7f5c60d8",
   "metadata": {},
   "outputs": [
    {
     "data": {
      "text/plain": [
       "<matplotlib.legend.Legend at 0x2600cd705b0>"
      ]
     },
     "execution_count": 39,
     "metadata": {},
     "output_type": "execute_result"
    },
    {
     "data": {
      "image/png": "[encoded data removed]",
      "text/plain": [
       "<Figure size 640x480 with 1 Axes>"
      ]
     },
     "metadata": {},
     "output_type": "display_data"
    }
   ],
   "source": [
    "import matplotlib.pyplot as plt\n",
    "\n",
    "plt.plot(history.history[\"loss\"], label = \"train\")\n",
    "plt.plot(history.history[\"val_loss\"], label = \"test\")\n",
    "plt.legend()"
   ]
  },
  {
   "cell_type": "code",
   "execution_count": 40,
   "id": "4b44e971-40b0-454f-bdfe-d139adf0efc5",
   "metadata": {
    "scrolled": true
   },
   "outputs": [
    {
     "data": {
      "text/plain": [
       "<matplotlib.legend.Legend at 0x2600d65e3a0>"
      ]
     },
     "execution_count": 40,
     "metadata": {},
     "output_type": "execute_result"
    },
    {
     "data": {
      "image/png": "[encoded data removed]",
      "text/plain": [
       "<Figure size 640x480 with 1 Axes>"
      ]
     },
     "metadata": {},
     "output_type": "display_data"
    }
   ],
   "source": [
    "plt.plot(history.history['accuracy'], label=\"train\")\n",
    "plt.plot(history.history[\"val_accuracy\"],label=\"test\")\n",
    "plt.legend()"
   ]
  },
  {
   "cell_type": "code",
   "execution_count": 41,
   "id": "240f5fd7-3b83-481a-a666-099437e6d106",
   "metadata": {},
   "outputs": [
    {
     "name": "stdout",
     "output_type": "stream",
     "text": [
      "27/27 [==============================] - 0s 2ms/step - loss: 0.5488 - accuracy: 0.7799\n"
     ]
    },
    {
     "data": {
      "text/plain": [
       "[0.5488104820251465, 0.779904305934906]"
      ]
     },
     "execution_count": 41,
     "metadata": {},
     "output_type": "execute_result"
    }
   ],
   "source": [
    "model.evaluate(x_test_scaled,y_test)\n"
   ]
  },
  {
   "cell_type": "code",
   "execution_count": 42,
   "id": "11bf5a9d-e298-4658-a91f-667f74172a1a",
   "metadata": {
    "scrolled": true
   },
   "outputs": [
    {
     "name": "stdout",
     "output_type": "stream",
     "text": [
      "105/105 [==============================] - 0s 2ms/step - loss: 0.4693 - accuracy: 0.7986\n"
     ]
    },
    {
     "data": {
      "text/plain": [
       "[0.46933168172836304, 0.7985633015632629]"
      ]
     },
     "execution_count": 42,
     "metadata": {},
     "output_type": "execute_result"
    }
   ],
   "source": [
    "model.evaluate(x_train_scaled,y_train)"
   ]
  },
  {
   "cell_type": "code",
   "execution_count": 43,
   "id": "c9ed4a7a-30a6-4201-ac58-3abe5abb11e3",
   "metadata": {},
   "outputs": [
    {
     "name": "stdout",
     "output_type": "stream",
     "text": [
      "27/27 [==============================] - 0s 2ms/step\n",
      "Confusion Matrix\n"
     ]
    },
    {
     "data": {
      "image/png": "[encoded data removed]",
      "text/plain": [
       "<Figure size 800x600 with 2 Axes>"
      ]
     },
     "metadata": {},
     "output_type": "display_data"
    }
   ],
   "source": [
    "import matplotlib.pyplot as plt\n",
    "import seaborn as sns\n",
    "import numpy as np\n",
    "from sklearn.metrics import confusion_matrix\n",
    "\n",
    "from sklearn.metrics import confusion_matrix,classification_report,accuracy_score\n",
    "\n",
    "y_test_arg=y_test # y_test는 1차원 이므로 np.argmax()사용 필요 없다.\n",
    "Y_pred = np.argmax(model.predict(x_test_scaled),axis=1)\n",
    "print('Confusion Matrix')\n",
    "cm = confusion_matrix(y_test_arg, Y_pred)\n",
    "# 시각화\n",
    "plt.figure(figsize=(8, 6))  # 그래프 크기 조절 (너비 8, 높이 6)\n",
    "sns.heatmap(cm, annot=True, fmt=\"d\", cmap=\"Greens\")\n",
    "\n",
    "# 그래프 표시\n",
    "plt.show()"
   ]
  },
  {
   "cell_type": "markdown",
   "id": "e38a7bfc-6bad-4be2-be31-349a20ec51f5",
   "metadata": {},
   "source": [
    "**정확도가 오름 -> 이 모델로 사전 학습 실시**"
   ]
  },
  {
   "cell_type": "markdown",
   "id": "9ed9bad2-fc71-49d1-8b0e-787c687c633d",
   "metadata": {},
   "source": [
    "## 3. 모델 저장"
   ]
  },
  {
   "cell_type": "code",
   "execution_count": 79,
   "id": "79d73e4a-a3f4-45be-a0c9-4fa0b5139a49",
   "metadata": {},
   "outputs": [
    {
     "name": "stdout",
     "output_type": "stream",
     "text": [
      "27/27 [==============================] - 0s 2ms/step - loss: 0.5488 - accuracy: 0.7799\n",
      "model saved at  C:\\Users\\tbxjq\\Desktop\\가천대학교\\3학년 2학기\\딥러닝 응용\\Deep_learning_class\\4주차\\abalone_cnn.h5\n",
      "Accuracy >77.990431\n",
      "Base Loss >0.55\n"
     ]
    }
   ],
   "source": [
    "import tensorflow as tf\n",
    "\n",
    "base_loss,base_accuracy=model.evaluate(x_test_scaled, y_test)\n",
    "\n",
    "model_file='C:\\\\Users\\\\tbxjq\\\\Desktop\\\\가천대학교\\\\3학년 2학기\\\\딥러닝 응용\\\\Deep_learning_class\\\\4주차\\\\abalone_cnn.h5'\n",
    "\n",
    "tf.keras.models.save_model(model, model_file, include_optimizer=False)\n",
    "print('model saved at ', model_file)\n",
    "#score,keras_file=evaluate_model(trainX,trainy,testX,testy)\n",
    "score=base_accuracy*100\n",
    "print('Accuracy >{:f}'.format(score))\n",
    "print('Base Loss >{:.2f}'.format(base_loss))"
   ]
  },
  {
   "cell_type": "markdown",
   "id": "5e74d942-7c16-463d-8a43-ba6312cbc230",
   "metadata": {},
   "source": [
    "## 4. Pretrained Model로 부른 후 새로운 층과 출력층 추가"
   ]
  },
  {
   "cell_type": "code",
   "execution_count": 104,
   "id": "dcf37407-a589-4455-8567-f55c2d603789",
   "metadata": {},
   "outputs": [
    {
     "name": "stdout",
     "output_type": "stream",
     "text": [
      "WARNING:tensorflow:No training configuration found in the save file, so the model was *not* compiled. Compile it manually.\n"
     ]
    }
   ],
   "source": [
    "from tensorflow.keras.models import load_model\n",
    "\n",
    "base_model = load_model(model_file)"
   ]
  },
  {
   "cell_type": "code",
   "execution_count": 105,
   "id": "134290be-01d2-4784-9a99-967e5d52e125",
   "metadata": {},
   "outputs": [
    {
     "name": "stdout",
     "output_type": "stream",
     "text": [
      "27/27 [==============================] - 0s 2ms/step - loss: 0.5488 - accuracy: 0.7799\n"
     ]
    },
    {
     "data": {
      "text/plain": [
       "[0.5488104820251465, 0.779904305934906]"
      ]
     },
     "execution_count": 105,
     "metadata": {},
     "output_type": "execute_result"
    }
   ],
   "source": [
    "base_model.compile(optimizer='adam', metrics=['accuracy'], loss='sparse_categorical_crossentropy')\n",
    "base_model.evaluate(x_test_scaled, y_test)"
   ]
  },
  {
   "cell_type": "code",
   "execution_count": 106,
   "id": "f89dac8a-0254-41b5-bb16-03917b5235b1",
   "metadata": {},
   "outputs": [
    {
     "name": "stdout",
     "output_type": "stream",
     "text": [
      "Number of layers in the base model:  5\n"
     ]
    }
   ],
   "source": [
    "print(\"Number of layers in the base model: \", len(base_model.layers))"
   ]
  },
  {
   "cell_type": "code",
   "execution_count": 107,
   "id": "d5da32e8-a6c7-4f6f-b945-1f5e34acd90a",
   "metadata": {},
   "outputs": [],
   "source": [
    "from tensorflow.keras import layers, models\n",
    "\n",
    "def remove_last_layers(model, num_layers_to_remove):\n",
    "    # 모델의 레이어를 하나씩 슬라이스해서 앞의 레이어만 가져옴\n",
    "    model_layers = model.layers[:-num_layers_to_remove]  # 마지막 레이어부터 지정된 갯수만큼 제외\n",
    "    new_model = models.Sequential(model_layers)  # 새로운 모델에 해당 레이어들만 추가\n",
    "    return new_model"
   ]
  },
  {
   "cell_type": "code",
   "execution_count": 108,
   "id": "c99a2a57-10b9-4cd0-8abb-5acbe73e9147",
   "metadata": {},
   "outputs": [],
   "source": [
    "# 출력층부터 1개의 레이어를 삭제\n",
    "new_model = remove_last_layers(base_model, 3)"
   ]
  },
  {
   "cell_type": "code",
   "execution_count": 109,
   "id": "c5462d88-32c9-46fe-b8bb-5e293c21eb3e",
   "metadata": {},
   "outputs": [
    {
     "name": "stdout",
     "output_type": "stream",
     "text": [
      "Model: \"sequential_12\"\n",
      "_________________________________________________________________\n",
      " Layer (type)                Output Shape              Param #   \n",
      "=================================================================\n",
      " conv1d_1 (Conv1D)           (None, 8, 32)             128       \n",
      "                                                                 \n",
      " max_pooling1d_1 (MaxPooling  (None, 4, 32)            0         \n",
      " 1D)                                                             \n",
      "                                                                 \n",
      "=================================================================\n",
      "Total params: 128\n",
      "Trainable params: 128\n",
      "Non-trainable params: 0\n",
      "_________________________________________________________________\n"
     ]
    }
   ],
   "source": [
    "new_model.summary()"
   ]
  },
  {
   "cell_type": "code",
   "execution_count": 110,
   "id": "d0998d50-dc4d-4e37-84a9-d6d6666589bc",
   "metadata": {},
   "outputs": [],
   "source": [
    "# 새로운 층으로 Conv1D 층과 Dense층 추가하고 출력층 추가\n",
    "\n",
    "new_model.add(Conv1D(64,kernel_size=3,activation='relu'))\n",
    "new_model.add(MaxPooling1D(pool_size=2))\n",
    "new_model.add(Flatten())\n",
    "new_model.add(Dense(64,activation='relu'))\n",
    "new_model.add(Dense(3,activation='softmax'))"
   ]
  },
  {
   "cell_type": "code",
   "execution_count": 111,
   "id": "2103da8c-665b-4c87-b75c-60d1ff1eda2a",
   "metadata": {},
   "outputs": [
    {
     "name": "stdout",
     "output_type": "stream",
     "text": [
      "Model: \"sequential_12\"\n",
      "_________________________________________________________________\n",
      " Layer (type)                Output Shape              Param #   \n",
      "=================================================================\n",
      " conv1d_1 (Conv1D)           (None, 8, 32)             128       \n",
      "                                                                 \n",
      " max_pooling1d_1 (MaxPooling  (None, 4, 32)            0         \n",
      " 1D)                                                             \n",
      "                                                                 \n",
      " conv1d_11 (Conv1D)          (None, 2, 64)             6208      \n",
      "                                                                 \n",
      " max_pooling1d_4 (MaxPooling  (None, 1, 64)            0         \n",
      " 1D)                                                             \n",
      "                                                                 \n",
      " flatten_4 (Flatten)         (None, 64)                0         \n",
      "                                                                 \n",
      " dense_8 (Dense)             (None, 64)                4160      \n",
      "                                                                 \n",
      " dense_9 (Dense)             (None, 3)                 195       \n",
      "                                                                 \n",
      "=================================================================\n",
      "Total params: 10,691\n",
      "Trainable params: 10,691\n",
      "Non-trainable params: 0\n",
      "_________________________________________________________________\n"
     ]
    }
   ],
   "source": [
    "new_model.compile(optimizer='adam',loss='sparse_categorical_crossentropy',metrics=['accuracy'])\n",
    "new_model.summary()"
   ]
  },
  {
   "cell_type": "code",
   "execution_count": 112,
   "id": "fc9a0f39-95d6-4949-9f4d-3d2a4e7a30ea",
   "metadata": {},
   "outputs": [
    {
     "name": "stdout",
     "output_type": "stream",
     "text": [
      "Epoch 1/50\n",
      "105/105 [==============================] - 2s 7ms/step - loss: 0.6859 - accuracy: 0.7151 - val_loss: 0.5992 - val_accuracy: 0.7488\n",
      "Epoch 2/50\n",
      "105/105 [==============================] - 0s 4ms/step - loss: 0.5856 - accuracy: 0.7540 - val_loss: 0.5726 - val_accuracy: 0.7596\n",
      "Epoch 3/50\n",
      "105/105 [==============================] - 0s 4ms/step - loss: 0.5518 - accuracy: 0.7713 - val_loss: 0.5648 - val_accuracy: 0.7703\n",
      "Epoch 4/50\n",
      "105/105 [==============================] - 0s 4ms/step - loss: 0.5392 - accuracy: 0.7815 - val_loss: 0.5369 - val_accuracy: 0.7847\n",
      "Epoch 5/50\n",
      "105/105 [==============================] - 0s 4ms/step - loss: 0.5353 - accuracy: 0.7707 - val_loss: 0.5680 - val_accuracy: 0.7644\n",
      "Epoch 6/50\n",
      "105/105 [==============================] - 0s 4ms/step - loss: 0.5264 - accuracy: 0.7764 - val_loss: 0.5494 - val_accuracy: 0.7811\n",
      "Epoch 7/50\n",
      "105/105 [==============================] - 0s 4ms/step - loss: 0.5290 - accuracy: 0.7767 - val_loss: 0.5399 - val_accuracy: 0.7943\n",
      "Epoch 8/50\n",
      "105/105 [==============================] - 0s 4ms/step - loss: 0.5183 - accuracy: 0.7839 - val_loss: 0.5265 - val_accuracy: 0.7883\n",
      "Epoch 9/50\n",
      "105/105 [==============================] - 0s 5ms/step - loss: 0.5164 - accuracy: 0.7803 - val_loss: 0.5282 - val_accuracy: 0.7871\n",
      "Epoch 10/50\n",
      "105/105 [==============================] - 0s 4ms/step - loss: 0.5158 - accuracy: 0.7812 - val_loss: 0.5322 - val_accuracy: 0.7931\n",
      "Epoch 11/50\n",
      "105/105 [==============================] - 0s 4ms/step - loss: 0.5093 - accuracy: 0.7869 - val_loss: 0.5241 - val_accuracy: 0.8026\n",
      "Epoch 12/50\n",
      "105/105 [==============================] - 1s 5ms/step - loss: 0.5118 - accuracy: 0.7839 - val_loss: 0.5243 - val_accuracy: 0.7967\n",
      "Epoch 13/50\n",
      "105/105 [==============================] - 1s 5ms/step - loss: 0.5104 - accuracy: 0.7860 - val_loss: 0.5206 - val_accuracy: 0.8002\n",
      "Epoch 14/50\n",
      "105/105 [==============================] - 0s 4ms/step - loss: 0.5120 - accuracy: 0.7806 - val_loss: 0.5182 - val_accuracy: 0.7978\n",
      "Epoch 15/50\n",
      "105/105 [==============================] - 0s 4ms/step - loss: 0.5012 - accuracy: 0.7869 - val_loss: 0.5176 - val_accuracy: 0.8086\n",
      "Epoch 16/50\n",
      "105/105 [==============================] - 1s 5ms/step - loss: 0.5034 - accuracy: 0.7875 - val_loss: 0.5317 - val_accuracy: 0.7978\n",
      "Epoch 17/50\n",
      "105/105 [==============================] - 1s 5ms/step - loss: 0.5009 - accuracy: 0.7833 - val_loss: 0.5427 - val_accuracy: 0.7763\n",
      "Epoch 18/50\n",
      "105/105 [==============================] - 1s 7ms/step - loss: 0.5013 - accuracy: 0.7890 - val_loss: 0.5419 - val_accuracy: 0.7883\n",
      "Epoch 19/50\n",
      "105/105 [==============================] - 0s 5ms/step - loss: 0.5025 - accuracy: 0.7866 - val_loss: 0.5104 - val_accuracy: 0.8038\n",
      "Epoch 20/50\n",
      "105/105 [==============================] - 0s 4ms/step - loss: 0.4940 - accuracy: 0.7893 - val_loss: 0.5383 - val_accuracy: 0.7931\n",
      "Epoch 21/50\n",
      "105/105 [==============================] - 0s 5ms/step - loss: 0.4914 - accuracy: 0.7914 - val_loss: 0.5333 - val_accuracy: 0.7990\n",
      "Epoch 22/50\n",
      "105/105 [==============================] - 0s 4ms/step - loss: 0.4929 - accuracy: 0.7878 - val_loss: 0.5300 - val_accuracy: 0.7931\n",
      "Epoch 23/50\n",
      "105/105 [==============================] - 0s 4ms/step - loss: 0.4947 - accuracy: 0.7905 - val_loss: 0.5164 - val_accuracy: 0.8050\n",
      "Epoch 24/50\n",
      "105/105 [==============================] - 0s 5ms/step - loss: 0.4877 - accuracy: 0.7917 - val_loss: 0.5165 - val_accuracy: 0.8014\n",
      "Epoch 25/50\n",
      "105/105 [==============================] - 0s 4ms/step - loss: 0.4863 - accuracy: 0.7926 - val_loss: 0.5199 - val_accuracy: 0.7978\n",
      "Epoch 26/50\n",
      "105/105 [==============================] - 0s 4ms/step - loss: 0.4840 - accuracy: 0.7920 - val_loss: 0.5448 - val_accuracy: 0.7835\n",
      "Epoch 27/50\n",
      "105/105 [==============================] - 0s 4ms/step - loss: 0.4848 - accuracy: 0.7890 - val_loss: 0.5152 - val_accuracy: 0.7978\n",
      "Epoch 28/50\n",
      "105/105 [==============================] - 0s 4ms/step - loss: 0.4829 - accuracy: 0.7923 - val_loss: 0.5119 - val_accuracy: 0.7955\n",
      "Epoch 29/50\n",
      "105/105 [==============================] - 0s 4ms/step - loss: 0.4826 - accuracy: 0.7923 - val_loss: 0.5202 - val_accuracy: 0.7955\n",
      "Epoch 30/50\n",
      "105/105 [==============================] - 0s 4ms/step - loss: 0.4871 - accuracy: 0.7902 - val_loss: 0.5193 - val_accuracy: 0.7967\n",
      "Epoch 31/50\n",
      "105/105 [==============================] - 0s 4ms/step - loss: 0.4832 - accuracy: 0.7965 - val_loss: 0.5253 - val_accuracy: 0.8038\n",
      "Epoch 32/50\n",
      "105/105 [==============================] - 0s 5ms/step - loss: 0.4796 - accuracy: 0.7971 - val_loss: 0.5167 - val_accuracy: 0.7978\n",
      "Epoch 33/50\n",
      "105/105 [==============================] - 0s 4ms/step - loss: 0.4785 - accuracy: 0.7959 - val_loss: 0.5324 - val_accuracy: 0.7978\n",
      "Epoch 34/50\n",
      "105/105 [==============================] - 0s 4ms/step - loss: 0.4740 - accuracy: 0.7971 - val_loss: 0.5178 - val_accuracy: 0.7978\n",
      "Epoch 35/50\n",
      "105/105 [==============================] - 0s 4ms/step - loss: 0.4772 - accuracy: 0.7923 - val_loss: 0.5460 - val_accuracy: 0.7823\n",
      "Epoch 36/50\n",
      "105/105 [==============================] - 0s 4ms/step - loss: 0.4727 - accuracy: 0.8013 - val_loss: 0.5331 - val_accuracy: 0.7955\n",
      "Epoch 37/50\n",
      "105/105 [==============================] - 0s 4ms/step - loss: 0.4771 - accuracy: 0.7941 - val_loss: 0.5283 - val_accuracy: 0.7883\n",
      "Epoch 38/50\n",
      "105/105 [==============================] - 0s 4ms/step - loss: 0.4687 - accuracy: 0.7959 - val_loss: 0.5862 - val_accuracy: 0.7823\n",
      "Epoch 39/50\n",
      "105/105 [==============================] - 0s 4ms/step - loss: 0.4739 - accuracy: 0.7932 - val_loss: 0.5070 - val_accuracy: 0.7978\n",
      "Epoch 40/50\n",
      "105/105 [==============================] - 0s 4ms/step - loss: 0.4694 - accuracy: 0.8016 - val_loss: 0.5330 - val_accuracy: 0.7955\n",
      "Epoch 41/50\n",
      "105/105 [==============================] - 0s 4ms/step - loss: 0.4706 - accuracy: 0.7932 - val_loss: 0.5138 - val_accuracy: 0.8074\n",
      "Epoch 42/50\n",
      "105/105 [==============================] - 0s 5ms/step - loss: 0.4674 - accuracy: 0.7956 - val_loss: 0.5349 - val_accuracy: 0.7943\n",
      "Epoch 43/50\n",
      "105/105 [==============================] - 0s 4ms/step - loss: 0.4649 - accuracy: 0.7986 - val_loss: 0.5184 - val_accuracy: 0.7967\n",
      "Epoch 44/50\n",
      "105/105 [==============================] - 0s 4ms/step - loss: 0.4632 - accuracy: 0.8028 - val_loss: 0.5503 - val_accuracy: 0.7895\n",
      "Epoch 45/50\n",
      "105/105 [==============================] - 0s 4ms/step - loss: 0.4642 - accuracy: 0.7995 - val_loss: 0.5231 - val_accuracy: 0.7978\n",
      "Epoch 46/50\n",
      "105/105 [==============================] - 0s 4ms/step - loss: 0.4605 - accuracy: 0.8031 - val_loss: 0.5229 - val_accuracy: 0.8002\n",
      "Epoch 47/50\n",
      "105/105 [==============================] - 0s 4ms/step - loss: 0.4614 - accuracy: 0.8022 - val_loss: 0.5102 - val_accuracy: 0.8050\n",
      "Epoch 48/50\n",
      "105/105 [==============================] - 1s 5ms/step - loss: 0.4666 - accuracy: 0.7989 - val_loss: 0.5205 - val_accuracy: 0.8026\n",
      "Epoch 49/50\n",
      "105/105 [==============================] - 1s 5ms/step - loss: 0.4559 - accuracy: 0.8078 - val_loss: 0.5165 - val_accuracy: 0.7978\n",
      "Epoch 50/50\n",
      "105/105 [==============================] - 1s 6ms/step - loss: 0.4595 - accuracy: 0.8043 - val_loss: 0.5133 - val_accuracy: 0.8026\n"
     ]
    }
   ],
   "source": [
    "history2 = new_model.fit(x_train_scaled,y_train,epochs=50,validation_data=(x_test_scaled,y_test))"
   ]
  },
  {
   "cell_type": "code",
   "execution_count": 113,
   "id": "600008df-4d26-4ee6-b46e-39a97e2c95f0",
   "metadata": {},
   "outputs": [
    {
     "name": "stdout",
     "output_type": "stream",
     "text": [
      "105/105 [==============================] - 0s 2ms/step - loss: 0.4452 - accuracy: 0.8102\n"
     ]
    },
    {
     "data": {
      "text/plain": [
       "[0.4452435076236725, 0.8102364540100098]"
      ]
     },
     "execution_count": 113,
     "metadata": {},
     "output_type": "execute_result"
    }
   ],
   "source": [
    "new_model.evaluate(x_train_scaled,y_train)"
   ]
  },
  {
   "cell_type": "code",
   "execution_count": 114,
   "id": "1281c112-0526-462c-8a08-5dc4e347d37d",
   "metadata": {},
   "outputs": [
    {
     "name": "stdout",
     "output_type": "stream",
     "text": [
      "27/27 [==============================] - 0s 2ms/step - loss: 0.5133 - accuracy: 0.8026\n"
     ]
    },
    {
     "data": {
      "text/plain": [
       "[0.5132885575294495, 0.8026315569877625]"
      ]
     },
     "execution_count": 114,
     "metadata": {},
     "output_type": "execute_result"
    }
   ],
   "source": [
    "new_model.evaluate(x_test_scaled,y_test)"
   ]
  },
  {
   "cell_type": "code",
   "execution_count": 115,
   "id": "1aabcbdc-e0e2-4f5b-8dd1-1500aabf5aef",
   "metadata": {},
   "outputs": [
    {
     "data": {
      "text/plain": [
       "<matplotlib.legend.Legend at 0x26007abff70>"
      ]
     },
     "execution_count": 115,
     "metadata": {},
     "output_type": "execute_result"
    },
    {
     "data": {
      "image/png": "[encoded data removed]",
      "text/plain": [
       "<Figure size 640x480 with 1 Axes>"
      ]
     },
     "metadata": {},
     "output_type": "display_data"
    }
   ],
   "source": [
    "plt.plot(history2.history[\"loss\"], label = \"train\")\n",
    "plt.plot(history2.history[\"val_loss\"], label = \"test\")\n",
    "plt.legend()"
   ]
  },
  {
   "cell_type": "code",
   "execution_count": 116,
   "id": "f7bac540-8fa1-4001-83d6-57bb1bcbe9bf",
   "metadata": {},
   "outputs": [
    {
     "data": {
      "text/plain": [
       "<matplotlib.legend.Legend at 0x2600edd8fd0>"
      ]
     },
     "execution_count": 116,
     "metadata": {},
     "output_type": "execute_result"
    },
    {
     "data": {
      "image/png": "[encoded data removed]",
      "text/plain": [
       "<Figure size 640x480 with 1 Axes>"
      ]
     },
     "metadata": {},
     "output_type": "display_data"
    }
   ],
   "source": [
    "plt.plot(history2.history[\"accuracy\"],label=\"train\")\n",
    "plt.plot(history2.history[\"val_accuracy\"],label=\"test\")\n",
    "plt.legend()"
   ]
  },
  {
   "cell_type": "markdown",
   "id": "66ac4ad6-1c04-498a-b7c6-e32b6fa1741a",
   "metadata": {},
   "source": [
    "## 5. Fine Tunning "
   ]
  },
  {
   "cell_type": "code",
   "execution_count": 117,
   "id": "5df7516b-bd44-4e70-a931-8f36d78f7acd",
   "metadata": {},
   "outputs": [
    {
     "data": {
      "text/html": [
       "<div>\n",
       "<style scoped>\n",
       "    .dataframe tbody tr th:only-of-type {\n",
       "        vertical-align: middle;\n",
       "    }\n",
       "\n",
       "    .dataframe tbody tr th {\n",
       "        vertical-align: top;\n",
       "    }\n",
       "\n",
       "    .dataframe thead th {\n",
       "        text-align: right;\n",
       "    }\n",
       "</style>\n",
       "<table border=\"1\" class=\"dataframe\">\n",
       "  <thead>\n",
       "    <tr style=\"text-align: right;\">\n",
       "      <th></th>\n",
       "      <th>Layer Type</th>\n",
       "      <th>Layer Name</th>\n",
       "      <th>Layer Trainable</th>\n",
       "    </tr>\n",
       "  </thead>\n",
       "  <tbody>\n",
       "    <tr>\n",
       "      <th>0</th>\n",
       "      <td>&lt;keras.layers.convolutional.conv1d.Conv1D obje...</td>\n",
       "      <td>conv1d_1</td>\n",
       "      <td>True</td>\n",
       "    </tr>\n",
       "    <tr>\n",
       "      <th>1</th>\n",
       "      <td>&lt;keras.layers.pooling.max_pooling1d.MaxPooling...</td>\n",
       "      <td>max_pooling1d_1</td>\n",
       "      <td>True</td>\n",
       "    </tr>\n",
       "    <tr>\n",
       "      <th>2</th>\n",
       "      <td>&lt;keras.layers.convolutional.conv1d.Conv1D obje...</td>\n",
       "      <td>conv1d_11</td>\n",
       "      <td>True</td>\n",
       "    </tr>\n",
       "    <tr>\n",
       "      <th>3</th>\n",
       "      <td>&lt;keras.layers.pooling.max_pooling1d.MaxPooling...</td>\n",
       "      <td>max_pooling1d_4</td>\n",
       "      <td>True</td>\n",
       "    </tr>\n",
       "    <tr>\n",
       "      <th>4</th>\n",
       "      <td>&lt;keras.layers.reshaping.flatten.Flatten object...</td>\n",
       "      <td>flatten_4</td>\n",
       "      <td>True</td>\n",
       "    </tr>\n",
       "    <tr>\n",
       "      <th>5</th>\n",
       "      <td>&lt;keras.layers.core.dense.Dense object at 0x000...</td>\n",
       "      <td>dense_8</td>\n",
       "      <td>True</td>\n",
       "    </tr>\n",
       "    <tr>\n",
       "      <th>6</th>\n",
       "      <td>&lt;keras.layers.core.dense.Dense object at 0x000...</td>\n",
       "      <td>dense_9</td>\n",
       "      <td>True</td>\n",
       "    </tr>\n",
       "  </tbody>\n",
       "</table>\n",
       "</div>"
      ],
      "text/plain": [
       "                                          Layer Type       Layer Name  \\\n",
       "0  <keras.layers.convolutional.conv1d.Conv1D obje...         conv1d_1   \n",
       "1  <keras.layers.pooling.max_pooling1d.MaxPooling...  max_pooling1d_1   \n",
       "2  <keras.layers.convolutional.conv1d.Conv1D obje...        conv1d_11   \n",
       "3  <keras.layers.pooling.max_pooling1d.MaxPooling...  max_pooling1d_4   \n",
       "4  <keras.layers.reshaping.flatten.Flatten object...        flatten_4   \n",
       "5  <keras.layers.core.dense.Dense object at 0x000...          dense_8   \n",
       "6  <keras.layers.core.dense.Dense object at 0x000...          dense_9   \n",
       "\n",
       "   Layer Trainable  \n",
       "0             True  \n",
       "1             True  \n",
       "2             True  \n",
       "3             True  \n",
       "4             True  \n",
       "5             True  \n",
       "6             True  "
      ]
     },
     "execution_count": 117,
     "metadata": {},
     "output_type": "execute_result"
    }
   ],
   "source": [
    "new_model.compile(optimizer='adam', metrics=['accuracy'], loss='sparse_categorical_crossentropy')\n",
    "import pandas as pd\n",
    "display_layers = [(layer, layer.name, layer.trainable) for layer in new_model.layers]\n",
    "pd.DataFrame(display_layers, columns=['Layer Type', 'Layer Name', 'Layer Trainable'])"
   ]
  },
  {
   "cell_type": "code",
   "execution_count": 118,
   "id": "b8475b26-2518-4ea9-8b38-fc648cffa106",
   "metadata": {},
   "outputs": [
    {
     "name": "stdout",
     "output_type": "stream",
     "text": [
      "Epoch 1/50\n",
      "105/105 [==============================] - 1s 6ms/step - loss: 0.4592 - accuracy: 0.8037 - val_loss: 0.5316 - val_accuracy: 0.8002\n",
      "Epoch 2/50\n",
      "105/105 [==============================] - 0s 4ms/step - loss: 0.4549 - accuracy: 0.8078 - val_loss: 0.5246 - val_accuracy: 0.8014\n",
      "Epoch 3/50\n",
      "105/105 [==============================] - 0s 4ms/step - loss: 0.4558 - accuracy: 0.8063 - val_loss: 0.5153 - val_accuracy: 0.7978\n",
      "Epoch 4/50\n",
      "105/105 [==============================] - 0s 4ms/step - loss: 0.4575 - accuracy: 0.8001 - val_loss: 0.5206 - val_accuracy: 0.7955\n",
      "Epoch 5/50\n",
      "105/105 [==============================] - 0s 4ms/step - loss: 0.4534 - accuracy: 0.8066 - val_loss: 0.5145 - val_accuracy: 0.7978\n",
      "Epoch 6/50\n",
      "105/105 [==============================] - 1s 5ms/step - loss: 0.4516 - accuracy: 0.8063 - val_loss: 0.5197 - val_accuracy: 0.8050\n",
      "Epoch 7/50\n",
      "105/105 [==============================] - 1s 6ms/step - loss: 0.4492 - accuracy: 0.8075 - val_loss: 0.5377 - val_accuracy: 0.8014\n",
      "Epoch 8/50\n",
      "105/105 [==============================] - 1s 5ms/step - loss: 0.4524 - accuracy: 0.8069 - val_loss: 0.5206 - val_accuracy: 0.7978\n",
      "Epoch 9/50\n",
      "105/105 [==============================] - 1s 5ms/step - loss: 0.4504 - accuracy: 0.8069 - val_loss: 0.5230 - val_accuracy: 0.7967\n",
      "Epoch 10/50\n",
      "105/105 [==============================] - 1s 5ms/step - loss: 0.4505 - accuracy: 0.8045 - val_loss: 0.5211 - val_accuracy: 0.7955\n",
      "Epoch 11/50\n",
      "105/105 [==============================] - 1s 5ms/step - loss: 0.4482 - accuracy: 0.8054 - val_loss: 0.5163 - val_accuracy: 0.8050\n",
      "Epoch 12/50\n",
      "105/105 [==============================] - 0s 4ms/step - loss: 0.4467 - accuracy: 0.8069 - val_loss: 0.5187 - val_accuracy: 0.8026\n",
      "Epoch 13/50\n",
      "105/105 [==============================] - 0s 5ms/step - loss: 0.4461 - accuracy: 0.8090 - val_loss: 0.5189 - val_accuracy: 0.8062\n",
      "Epoch 14/50\n",
      "105/105 [==============================] - 1s 5ms/step - loss: 0.4505 - accuracy: 0.8054 - val_loss: 0.5123 - val_accuracy: 0.8038\n",
      "Epoch 15/50\n",
      "105/105 [==============================] - 1s 6ms/step - loss: 0.4444 - accuracy: 0.8075 - val_loss: 0.5231 - val_accuracy: 0.7955\n",
      "Epoch 16/50\n",
      "105/105 [==============================] - 0s 5ms/step - loss: 0.4461 - accuracy: 0.8090 - val_loss: 0.5307 - val_accuracy: 0.7990\n",
      "Epoch 17/50\n",
      "105/105 [==============================] - 1s 6ms/step - loss: 0.4414 - accuracy: 0.8054 - val_loss: 0.5275 - val_accuracy: 0.8038\n",
      "Epoch 18/50\n",
      "105/105 [==============================] - 0s 4ms/step - loss: 0.4369 - accuracy: 0.8099 - val_loss: 0.5275 - val_accuracy: 0.7871\n",
      "Epoch 19/50\n",
      "105/105 [==============================] - 0s 4ms/step - loss: 0.4365 - accuracy: 0.8114 - val_loss: 0.5765 - val_accuracy: 0.7895\n",
      "Epoch 20/50\n",
      "105/105 [==============================] - 0s 4ms/step - loss: 0.4372 - accuracy: 0.8084 - val_loss: 0.5572 - val_accuracy: 0.7955\n",
      "Epoch 21/50\n",
      "105/105 [==============================] - 0s 4ms/step - loss: 0.4404 - accuracy: 0.8123 - val_loss: 0.5558 - val_accuracy: 0.7955\n",
      "Epoch 22/50\n",
      "105/105 [==============================] - 1s 6ms/step - loss: 0.4353 - accuracy: 0.8138 - val_loss: 0.5574 - val_accuracy: 0.7919\n",
      "Epoch 23/50\n",
      "105/105 [==============================] - 1s 5ms/step - loss: 0.4329 - accuracy: 0.8126 - val_loss: 0.5505 - val_accuracy: 0.7883\n",
      "Epoch 24/50\n",
      "105/105 [==============================] - 1s 5ms/step - loss: 0.4382 - accuracy: 0.8114 - val_loss: 0.5496 - val_accuracy: 0.7931\n",
      "Epoch 25/50\n",
      "105/105 [==============================] - 1s 6ms/step - loss: 0.4321 - accuracy: 0.8159 - val_loss: 0.5341 - val_accuracy: 0.8002\n",
      "Epoch 26/50\n",
      "105/105 [==============================] - 1s 5ms/step - loss: 0.4333 - accuracy: 0.8144 - val_loss: 0.5611 - val_accuracy: 0.7847\n",
      "Epoch 27/50\n",
      "105/105 [==============================] - 0s 5ms/step - loss: 0.4296 - accuracy: 0.8135 - val_loss: 0.5853 - val_accuracy: 0.7907\n",
      "Epoch 28/50\n",
      "105/105 [==============================] - 1s 6ms/step - loss: 0.4295 - accuracy: 0.8132 - val_loss: 0.5339 - val_accuracy: 0.7919\n",
      "Epoch 29/50\n",
      "105/105 [==============================] - 1s 6ms/step - loss: 0.4332 - accuracy: 0.8108 - val_loss: 0.5352 - val_accuracy: 0.8038\n",
      "Epoch 30/50\n",
      "105/105 [==============================] - 1s 5ms/step - loss: 0.4312 - accuracy: 0.8138 - val_loss: 0.5275 - val_accuracy: 0.7967\n",
      "Epoch 31/50\n",
      "105/105 [==============================] - 0s 4ms/step - loss: 0.4277 - accuracy: 0.8162 - val_loss: 0.5797 - val_accuracy: 0.7871\n",
      "Epoch 32/50\n",
      "105/105 [==============================] - 0s 4ms/step - loss: 0.4283 - accuracy: 0.8105 - val_loss: 0.5503 - val_accuracy: 0.7990\n",
      "Epoch 33/50\n",
      "105/105 [==============================] - 0s 4ms/step - loss: 0.4223 - accuracy: 0.8168 - val_loss: 0.5760 - val_accuracy: 0.7967\n",
      "Epoch 34/50\n",
      "105/105 [==============================] - 0s 4ms/step - loss: 0.4220 - accuracy: 0.8123 - val_loss: 0.5520 - val_accuracy: 0.7895\n",
      "Epoch 35/50\n",
      "105/105 [==============================] - 0s 4ms/step - loss: 0.4220 - accuracy: 0.8156 - val_loss: 0.5393 - val_accuracy: 0.7787\n",
      "Epoch 36/50\n",
      "105/105 [==============================] - 0s 4ms/step - loss: 0.4208 - accuracy: 0.8177 - val_loss: 0.5650 - val_accuracy: 0.7895\n",
      "Epoch 37/50\n",
      "105/105 [==============================] - 0s 5ms/step - loss: 0.4217 - accuracy: 0.8186 - val_loss: 0.5560 - val_accuracy: 0.7895\n",
      "Epoch 38/50\n",
      "105/105 [==============================] - 0s 4ms/step - loss: 0.4164 - accuracy: 0.8207 - val_loss: 0.5495 - val_accuracy: 0.7990\n",
      "Epoch 39/50\n",
      "105/105 [==============================] - 0s 4ms/step - loss: 0.4137 - accuracy: 0.8180 - val_loss: 0.5449 - val_accuracy: 0.7990\n",
      "Epoch 40/50\n",
      "105/105 [==============================] - 0s 4ms/step - loss: 0.4137 - accuracy: 0.8189 - val_loss: 0.5375 - val_accuracy: 0.7967\n",
      "Epoch 41/50\n",
      "105/105 [==============================] - 0s 4ms/step - loss: 0.4141 - accuracy: 0.8204 - val_loss: 0.5665 - val_accuracy: 0.7967\n",
      "Epoch 42/50\n",
      "105/105 [==============================] - 0s 4ms/step - loss: 0.4081 - accuracy: 0.8237 - val_loss: 0.5520 - val_accuracy: 0.7895\n",
      "Epoch 43/50\n",
      "105/105 [==============================] - 0s 4ms/step - loss: 0.4101 - accuracy: 0.8210 - val_loss: 0.5551 - val_accuracy: 0.7931\n",
      "Epoch 44/50\n",
      "105/105 [==============================] - 0s 4ms/step - loss: 0.4109 - accuracy: 0.8183 - val_loss: 0.5449 - val_accuracy: 0.7895\n",
      "Epoch 45/50\n",
      "105/105 [==============================] - 0s 4ms/step - loss: 0.4152 - accuracy: 0.8237 - val_loss: 0.5430 - val_accuracy: 0.7931\n",
      "Epoch 46/50\n",
      "105/105 [==============================] - 0s 5ms/step - loss: 0.4043 - accuracy: 0.8252 - val_loss: 0.5417 - val_accuracy: 0.7883\n",
      "Epoch 47/50\n",
      "105/105 [==============================] - 0s 4ms/step - loss: 0.4088 - accuracy: 0.8270 - val_loss: 0.5813 - val_accuracy: 0.7871\n",
      "Epoch 48/50\n",
      "105/105 [==============================] - 0s 4ms/step - loss: 0.4021 - accuracy: 0.8228 - val_loss: 0.5681 - val_accuracy: 0.7943\n",
      "Epoch 49/50\n",
      "105/105 [==============================] - 0s 4ms/step - loss: 0.4057 - accuracy: 0.8246 - val_loss: 0.5604 - val_accuracy: 0.7739\n",
      "Epoch 50/50\n",
      "105/105 [==============================] - 0s 4ms/step - loss: 0.4067 - accuracy: 0.8237 - val_loss: 0.5427 - val_accuracy: 0.7883\n"
     ]
    }
   ],
   "source": [
    "history3 = new_model.fit(x_train_scaled,y_train,epochs=50,validation_data=(x_test_scaled,y_test),shuffle=True)"
   ]
  },
  {
   "cell_type": "code",
   "execution_count": 119,
   "id": "8a843843-0646-4403-b1e7-220b692591dc",
   "metadata": {},
   "outputs": [
    {
     "name": "stdout",
     "output_type": "stream",
     "text": [
      "105/105 [==============================] - 0s 2ms/step - loss: 0.3896 - accuracy: 0.8357\n"
     ]
    },
    {
     "data": {
      "text/plain": [
       "[0.3896498382091522, 0.8356779217720032]"
      ]
     },
     "execution_count": 119,
     "metadata": {},
     "output_type": "execute_result"
    }
   ],
   "source": [
    "new_model.evaluate(x_train_scaled,y_train)"
   ]
  },
  {
   "cell_type": "code",
   "execution_count": 120,
   "id": "91ac0a5c-8e9c-4294-b75d-cfae938735e1",
   "metadata": {},
   "outputs": [
    {
     "name": "stdout",
     "output_type": "stream",
     "text": [
      "27/27 [==============================] - 0s 2ms/step - loss: 0.5427 - accuracy: 0.7883\n"
     ]
    },
    {
     "data": {
      "text/plain": [
       "[0.5426581501960754, 0.7882775068283081]"
      ]
     },
     "execution_count": 120,
     "metadata": {},
     "output_type": "execute_result"
    }
   ],
   "source": [
    "new_model.evaluate(x_test_scaled,y_test)"
   ]
  },
  {
   "cell_type": "markdown",
   "id": "dc80dea2-4148-4090-b751-145129ad7d2e",
   "metadata": {},
   "source": [
    "* **과대 적합-> 규제 적용**\n",
    "* **Dropout,BatchNormalization 추가**"
   ]
  },
  {
   "cell_type": "code",
   "execution_count": 97,
   "id": "a4a95f12-0efc-45ea-bd78-03fcd27b4ab6",
   "metadata": {},
   "outputs": [
    {
     "name": "stdout",
     "output_type": "stream",
     "text": [
      "(3341, 10, 1)\n",
      "(836, 10, 1)\n"
     ]
    }
   ],
   "source": [
    "print(x_train_scaled.shape)\n",
    "print(x_test_scaled.shape)"
   ]
  },
  {
   "cell_type": "code",
   "execution_count": 121,
   "id": "38887237-0a78-4b20-8bdc-4d0536fe572d",
   "metadata": {},
   "outputs": [
    {
     "name": "stdout",
     "output_type": "stream",
     "text": [
      "Model: \"sequential_12\"\n",
      "_________________________________________________________________\n",
      " Layer (type)                Output Shape              Param #   \n",
      "=================================================================\n",
      " conv1d_1 (Conv1D)           (None, 8, 32)             128       \n",
      "                                                                 \n",
      " max_pooling1d_1 (MaxPooling  (None, 4, 32)            0         \n",
      " 1D)                                                             \n",
      "                                                                 \n",
      " conv1d_11 (Conv1D)          (None, 2, 64)             6208      \n",
      "                                                                 \n",
      " max_pooling1d_4 (MaxPooling  (None, 1, 64)            0         \n",
      " 1D)                                                             \n",
      "                                                                 \n",
      " flatten_4 (Flatten)         (None, 64)                0         \n",
      "                                                                 \n",
      " dense_8 (Dense)             (None, 64)                4160      \n",
      "                                                                 \n",
      " dense_9 (Dense)             (None, 3)                 195       \n",
      "                                                                 \n",
      "=================================================================\n",
      "Total params: 10,691\n",
      "Trainable params: 10,691\n",
      "Non-trainable params: 0\n",
      "_________________________________________________________________\n"
     ]
    }
   ],
   "source": [
    "new_model.summary()"
   ]
  },
  {
   "cell_type": "code",
   "execution_count": 122,
   "id": "eb14d302-9067-4cae-a880-529357146239",
   "metadata": {},
   "outputs": [
    {
     "name": "stdout",
     "output_type": "stream",
     "text": [
      "Model: \"sequential_13\"\n",
      "_________________________________________________________________\n",
      " Layer (type)                Output Shape              Param #   \n",
      "=================================================================\n",
      " conv1d_1 (Conv1D)           (None, 8, 32)             128       \n",
      "                                                                 \n",
      " max_pooling1d_1 (MaxPooling  (None, 4, 32)            0         \n",
      " 1D)                                                             \n",
      "                                                                 \n",
      "=================================================================\n",
      "Total params: 128\n",
      "Trainable params: 128\n",
      "Non-trainable params: 0\n",
      "_________________________________________________________________\n"
     ]
    }
   ],
   "source": [
    "new_model = remove_last_layers(new_model, 5)\n",
    "new_model.summary()"
   ]
  },
  {
   "cell_type": "code",
   "execution_count": 123,
   "id": "bf7d6ce4-5e67-4d97-95a2-e25e09cc953a",
   "metadata": {},
   "outputs": [
    {
     "name": "stdout",
     "output_type": "stream",
     "text": [
      "Model: \"sequential_13\"\n",
      "_________________________________________________________________\n",
      " Layer (type)                Output Shape              Param #   \n",
      "=================================================================\n",
      " conv1d_1 (Conv1D)           (None, 8, 32)             128       \n",
      "                                                                 \n",
      " max_pooling1d_1 (MaxPooling  (None, 4, 32)            0         \n",
      " 1D)                                                             \n",
      "                                                                 \n",
      " dropout_7 (Dropout)         (None, 4, 32)             0         \n",
      "                                                                 \n",
      " conv1d_12 (Conv1D)          (None, 2, 64)             6208      \n",
      "                                                                 \n",
      " batch_normalization (BatchN  (None, 2, 64)            256       \n",
      " ormalization)                                                   \n",
      "                                                                 \n",
      " max_pooling1d_5 (MaxPooling  (None, 1, 64)            0         \n",
      " 1D)                                                             \n",
      "                                                                 \n",
      " dropout_8 (Dropout)         (None, 1, 64)             0         \n",
      "                                                                 \n",
      " flatten_5 (Flatten)         (None, 64)                0         \n",
      "                                                                 \n",
      " dense_10 (Dense)            (None, 64)                4160      \n",
      "                                                                 \n",
      " batch_normalization_1 (Batc  (None, 64)               256       \n",
      " hNormalization)                                                 \n",
      "                                                                 \n",
      " dropout_9 (Dropout)         (None, 64)                0         \n",
      "                                                                 \n",
      " dense_11 (Dense)            (None, 3)                 195       \n",
      "                                                                 \n",
      "=================================================================\n",
      "Total params: 11,203\n",
      "Trainable params: 10,947\n",
      "Non-trainable params: 256\n",
      "_________________________________________________________________\n"
     ]
    }
   ],
   "source": [
    "from tensorflow.keras.layers import Dropout, BatchNormalization\n",
    "\n",
    "new_model.add(Dropout(0.5))\n",
    "new_model.add(Conv1D(64,kernel_size=3,activation='relu'))\n",
    "new_model.add(BatchNormalization())\n",
    "new_model.add(MaxPooling1D(pool_size=2))\n",
    "new_model.add(Dropout(0.5))\n",
    "\n",
    "new_model.add(Flatten())\n",
    "new_model.add(Dense(64,activation='relu'))\n",
    "new_model.add(BatchNormalization())\n",
    "new_model.add(Dropout(0.5))\n",
    "new_model.add(Dense(3,activation='softmax'))\n",
    "\n",
    "new_model.summary()"
   ]
  },
  {
   "cell_type": "code",
   "execution_count": 124,
   "id": "b51fe158-c6c3-46c2-8afe-77f072a27206",
   "metadata": {},
   "outputs": [],
   "source": [
    "new_model.compile(optimizer='adam',loss='sparse_categorical_crossentropy',metrics=['accuracy'])\n"
   ]
  },
  {
   "cell_type": "code",
   "execution_count": 125,
   "id": "bec38d4e-f1d0-475d-857b-9cded3aed798",
   "metadata": {},
   "outputs": [
    {
     "name": "stdout",
     "output_type": "stream",
     "text": [
      "Epoch 1/100\n",
      "105/105 [==============================] - 3s 10ms/step - loss: 1.2473 - accuracy: 0.5064 - val_loss: 0.7400 - val_accuracy: 0.6938\n",
      "Epoch 2/100\n",
      "105/105 [==============================] - 1s 6ms/step - loss: 0.9148 - accuracy: 0.6295 - val_loss: 0.7233 - val_accuracy: 0.6830\n",
      "Epoch 3/100\n",
      "105/105 [==============================] - 1s 6ms/step - loss: 0.8399 - accuracy: 0.6579 - val_loss: 0.6778 - val_accuracy: 0.7093\n",
      "Epoch 4/100\n",
      "105/105 [==============================] - 0s 5ms/step - loss: 0.7699 - accuracy: 0.6797 - val_loss: 0.6583 - val_accuracy: 0.7141\n",
      "Epoch 5/100\n",
      "105/105 [==============================] - 1s 5ms/step - loss: 0.7575 - accuracy: 0.6776 - val_loss: 0.6491 - val_accuracy: 0.7177\n",
      "Epoch 6/100\n",
      "105/105 [==============================] - 1s 5ms/step - loss: 0.7295 - accuracy: 0.6986 - val_loss: 0.6428 - val_accuracy: 0.7225\n",
      "Epoch 7/100\n",
      "105/105 [==============================] - 1s 5ms/step - loss: 0.7052 - accuracy: 0.7055 - val_loss: 0.6515 - val_accuracy: 0.7117\n",
      "Epoch 8/100\n",
      "105/105 [==============================] - 0s 5ms/step - loss: 0.6925 - accuracy: 0.7100 - val_loss: 0.6336 - val_accuracy: 0.7165\n",
      "Epoch 9/100\n",
      "105/105 [==============================] - 1s 5ms/step - loss: 0.6931 - accuracy: 0.7049 - val_loss: 0.6367 - val_accuracy: 0.7189\n",
      "Epoch 10/100\n",
      "105/105 [==============================] - 1s 5ms/step - loss: 0.6764 - accuracy: 0.7163 - val_loss: 0.6316 - val_accuracy: 0.7153\n",
      "Epoch 11/100\n",
      "105/105 [==============================] - 1s 5ms/step - loss: 0.6743 - accuracy: 0.7213 - val_loss: 0.6244 - val_accuracy: 0.7237\n",
      "Epoch 12/100\n",
      "105/105 [==============================] - 1s 5ms/step - loss: 0.6630 - accuracy: 0.7258 - val_loss: 0.6139 - val_accuracy: 0.7321\n",
      "Epoch 13/100\n",
      "105/105 [==============================] - 1s 6ms/step - loss: 0.6606 - accuracy: 0.7270 - val_loss: 0.6056 - val_accuracy: 0.7344\n",
      "Epoch 14/100\n",
      "105/105 [==============================] - 1s 6ms/step - loss: 0.6626 - accuracy: 0.7186 - val_loss: 0.6068 - val_accuracy: 0.7237\n",
      "Epoch 15/100\n",
      "105/105 [==============================] - 1s 6ms/step - loss: 0.6494 - accuracy: 0.7273 - val_loss: 0.6046 - val_accuracy: 0.7333\n",
      "Epoch 16/100\n",
      "105/105 [==============================] - 1s 5ms/step - loss: 0.6425 - accuracy: 0.7252 - val_loss: 0.6084 - val_accuracy: 0.7321\n",
      "Epoch 17/100\n",
      "105/105 [==============================] - 1s 7ms/step - loss: 0.6387 - accuracy: 0.7270 - val_loss: 0.5987 - val_accuracy: 0.7333\n",
      "Epoch 18/100\n",
      "105/105 [==============================] - 1s 5ms/step - loss: 0.6348 - accuracy: 0.7198 - val_loss: 0.6036 - val_accuracy: 0.7225\n",
      "Epoch 19/100\n",
      "105/105 [==============================] - 1s 6ms/step - loss: 0.6257 - accuracy: 0.7339 - val_loss: 0.5914 - val_accuracy: 0.7333\n",
      "Epoch 20/100\n",
      "105/105 [==============================] - 1s 6ms/step - loss: 0.6345 - accuracy: 0.7291 - val_loss: 0.5837 - val_accuracy: 0.7428\n",
      "Epoch 21/100\n",
      "105/105 [==============================] - 1s 5ms/step - loss: 0.6285 - accuracy: 0.7297 - val_loss: 0.5851 - val_accuracy: 0.7368\n",
      "Epoch 22/100\n",
      "105/105 [==============================] - 1s 5ms/step - loss: 0.6280 - accuracy: 0.7303 - val_loss: 0.5730 - val_accuracy: 0.7512\n",
      "Epoch 23/100\n",
      "105/105 [==============================] - 1s 5ms/step - loss: 0.6267 - accuracy: 0.7258 - val_loss: 0.5789 - val_accuracy: 0.7452\n",
      "Epoch 24/100\n",
      "105/105 [==============================] - 1s 5ms/step - loss: 0.6267 - accuracy: 0.7279 - val_loss: 0.5885 - val_accuracy: 0.7344\n",
      "Epoch 25/100\n",
      "105/105 [==============================] - 1s 5ms/step - loss: 0.6147 - accuracy: 0.7402 - val_loss: 0.5822 - val_accuracy: 0.7416\n",
      "Epoch 26/100\n",
      "105/105 [==============================] - 1s 6ms/step - loss: 0.6139 - accuracy: 0.7402 - val_loss: 0.5786 - val_accuracy: 0.7500\n",
      "Epoch 27/100\n",
      "105/105 [==============================] - 1s 5ms/step - loss: 0.6115 - accuracy: 0.7357 - val_loss: 0.5788 - val_accuracy: 0.7440\n",
      "Epoch 28/100\n",
      "105/105 [==============================] - 1s 5ms/step - loss: 0.6134 - accuracy: 0.7309 - val_loss: 0.5734 - val_accuracy: 0.7464\n",
      "Epoch 29/100\n",
      "105/105 [==============================] - 1s 5ms/step - loss: 0.6137 - accuracy: 0.7348 - val_loss: 0.5759 - val_accuracy: 0.7464\n",
      "Epoch 30/100\n",
      "105/105 [==============================] - 1s 5ms/step - loss: 0.6114 - accuracy: 0.7435 - val_loss: 0.5658 - val_accuracy: 0.7488\n",
      "Epoch 31/100\n",
      "105/105 [==============================] - 1s 6ms/step - loss: 0.6125 - accuracy: 0.7318 - val_loss: 0.5703 - val_accuracy: 0.7476\n",
      "Epoch 32/100\n",
      "105/105 [==============================] - 1s 5ms/step - loss: 0.5997 - accuracy: 0.7483 - val_loss: 0.5620 - val_accuracy: 0.7584\n",
      "Epoch 33/100\n",
      "105/105 [==============================] - 1s 6ms/step - loss: 0.5957 - accuracy: 0.7462 - val_loss: 0.5655 - val_accuracy: 0.7548\n",
      "Epoch 34/100\n",
      "105/105 [==============================] - 1s 5ms/step - loss: 0.5997 - accuracy: 0.7429 - val_loss: 0.5639 - val_accuracy: 0.7536\n",
      "Epoch 35/100\n",
      "105/105 [==============================] - 1s 5ms/step - loss: 0.6054 - accuracy: 0.7495 - val_loss: 0.5642 - val_accuracy: 0.7560\n",
      "Epoch 36/100\n",
      "105/105 [==============================] - 1s 5ms/step - loss: 0.6065 - accuracy: 0.7429 - val_loss: 0.5571 - val_accuracy: 0.7584\n",
      "Epoch 37/100\n",
      "105/105 [==============================] - 1s 5ms/step - loss: 0.5993 - accuracy: 0.7453 - val_loss: 0.5645 - val_accuracy: 0.7560\n",
      "Epoch 38/100\n",
      "105/105 [==============================] - 1s 5ms/step - loss: 0.5954 - accuracy: 0.7429 - val_loss: 0.5644 - val_accuracy: 0.7560\n",
      "Epoch 39/100\n",
      "105/105 [==============================] - 1s 6ms/step - loss: 0.6005 - accuracy: 0.7423 - val_loss: 0.5589 - val_accuracy: 0.7584\n",
      "Epoch 40/100\n",
      "105/105 [==============================] - 1s 6ms/step - loss: 0.5750 - accuracy: 0.7540 - val_loss: 0.5525 - val_accuracy: 0.7679\n",
      "Epoch 41/100\n",
      "105/105 [==============================] - 1s 5ms/step - loss: 0.5961 - accuracy: 0.7501 - val_loss: 0.5611 - val_accuracy: 0.7584\n",
      "Epoch 42/100\n",
      "105/105 [==============================] - 1s 5ms/step - loss: 0.5923 - accuracy: 0.7534 - val_loss: 0.5632 - val_accuracy: 0.7572\n",
      "Epoch 43/100\n",
      "105/105 [==============================] - 1s 5ms/step - loss: 0.5960 - accuracy: 0.7444 - val_loss: 0.5547 - val_accuracy: 0.7679\n",
      "Epoch 44/100\n",
      "105/105 [==============================] - 1s 5ms/step - loss: 0.6022 - accuracy: 0.7423 - val_loss: 0.5456 - val_accuracy: 0.7667\n",
      "Epoch 45/100\n",
      "105/105 [==============================] - 1s 5ms/step - loss: 0.5917 - accuracy: 0.7540 - val_loss: 0.5526 - val_accuracy: 0.7691\n",
      "Epoch 46/100\n",
      "105/105 [==============================] - 1s 6ms/step - loss: 0.5900 - accuracy: 0.7486 - val_loss: 0.5456 - val_accuracy: 0.7775\n",
      "Epoch 47/100\n",
      "105/105 [==============================] - 1s 5ms/step - loss: 0.5937 - accuracy: 0.7546 - val_loss: 0.5569 - val_accuracy: 0.7572\n",
      "Epoch 48/100\n",
      "105/105 [==============================] - 1s 5ms/step - loss: 0.5994 - accuracy: 0.7513 - val_loss: 0.5603 - val_accuracy: 0.7560\n",
      "Epoch 49/100\n",
      "105/105 [==============================] - 1s 5ms/step - loss: 0.5903 - accuracy: 0.7441 - val_loss: 0.5512 - val_accuracy: 0.7656\n",
      "Epoch 50/100\n",
      "105/105 [==============================] - 0s 5ms/step - loss: 0.5829 - accuracy: 0.7510 - val_loss: 0.5498 - val_accuracy: 0.7679\n",
      "Epoch 51/100\n",
      "105/105 [==============================] - 0s 5ms/step - loss: 0.5820 - accuracy: 0.7585 - val_loss: 0.5468 - val_accuracy: 0.7691\n",
      "Epoch 52/100\n",
      "105/105 [==============================] - 1s 5ms/step - loss: 0.5922 - accuracy: 0.7525 - val_loss: 0.5629 - val_accuracy: 0.7596\n",
      "Epoch 53/100\n",
      "105/105 [==============================] - 1s 5ms/step - loss: 0.5786 - accuracy: 0.7483 - val_loss: 0.5422 - val_accuracy: 0.7656\n",
      "Epoch 54/100\n",
      "105/105 [==============================] - 1s 5ms/step - loss: 0.5811 - accuracy: 0.7507 - val_loss: 0.5519 - val_accuracy: 0.7691\n",
      "Epoch 55/100\n",
      "105/105 [==============================] - 1s 5ms/step - loss: 0.5911 - accuracy: 0.7474 - val_loss: 0.5556 - val_accuracy: 0.7632\n",
      "Epoch 56/100\n",
      "105/105 [==============================] - 1s 5ms/step - loss: 0.5873 - accuracy: 0.7483 - val_loss: 0.5489 - val_accuracy: 0.7667\n",
      "Epoch 57/100\n",
      "105/105 [==============================] - 1s 5ms/step - loss: 0.5746 - accuracy: 0.7534 - val_loss: 0.5529 - val_accuracy: 0.7691\n",
      "Epoch 58/100\n",
      "105/105 [==============================] - 1s 5ms/step - loss: 0.5707 - accuracy: 0.7567 - val_loss: 0.5500 - val_accuracy: 0.7644\n",
      "Epoch 59/100\n",
      "105/105 [==============================] - 1s 5ms/step - loss: 0.5819 - accuracy: 0.7531 - val_loss: 0.5488 - val_accuracy: 0.7715\n",
      "Epoch 60/100\n",
      "105/105 [==============================] - 1s 5ms/step - loss: 0.5920 - accuracy: 0.7447 - val_loss: 0.5496 - val_accuracy: 0.7656\n",
      "Epoch 61/100\n",
      "105/105 [==============================] - 1s 7ms/step - loss: 0.5755 - accuracy: 0.7471 - val_loss: 0.5467 - val_accuracy: 0.7656\n",
      "Epoch 62/100\n",
      "105/105 [==============================] - 0s 5ms/step - loss: 0.5890 - accuracy: 0.7531 - val_loss: 0.5459 - val_accuracy: 0.7608\n",
      "Epoch 63/100\n",
      "105/105 [==============================] - 1s 5ms/step - loss: 0.5799 - accuracy: 0.7549 - val_loss: 0.5638 - val_accuracy: 0.7524\n",
      "Epoch 64/100\n",
      "105/105 [==============================] - 1s 5ms/step - loss: 0.5807 - accuracy: 0.7528 - val_loss: 0.5499 - val_accuracy: 0.7656\n",
      "Epoch 65/100\n",
      "105/105 [==============================] - 1s 5ms/step - loss: 0.5780 - accuracy: 0.7576 - val_loss: 0.5483 - val_accuracy: 0.7751\n",
      "Epoch 66/100\n",
      "105/105 [==============================] - 1s 5ms/step - loss: 0.5853 - accuracy: 0.7546 - val_loss: 0.5503 - val_accuracy: 0.7632\n",
      "Epoch 67/100\n",
      "105/105 [==============================] - 1s 5ms/step - loss: 0.5753 - accuracy: 0.7579 - val_loss: 0.5547 - val_accuracy: 0.7560\n",
      "Epoch 68/100\n",
      "105/105 [==============================] - 1s 6ms/step - loss: 0.5953 - accuracy: 0.7465 - val_loss: 0.5557 - val_accuracy: 0.7644\n",
      "Epoch 69/100\n",
      "105/105 [==============================] - 1s 5ms/step - loss: 0.5781 - accuracy: 0.7474 - val_loss: 0.5477 - val_accuracy: 0.7667\n",
      "Epoch 70/100\n",
      "105/105 [==============================] - 1s 6ms/step - loss: 0.5816 - accuracy: 0.7516 - val_loss: 0.5508 - val_accuracy: 0.7632\n",
      "Epoch 71/100\n",
      "105/105 [==============================] - 1s 5ms/step - loss: 0.5789 - accuracy: 0.7579 - val_loss: 0.5490 - val_accuracy: 0.7667\n",
      "Epoch 72/100\n",
      "105/105 [==============================] - 1s 5ms/step - loss: 0.5809 - accuracy: 0.7486 - val_loss: 0.5473 - val_accuracy: 0.7703\n",
      "Epoch 73/100\n",
      "105/105 [==============================] - 1s 6ms/step - loss: 0.5757 - accuracy: 0.7591 - val_loss: 0.5427 - val_accuracy: 0.7847\n",
      "Epoch 74/100\n",
      "105/105 [==============================] - 1s 6ms/step - loss: 0.5748 - accuracy: 0.7600 - val_loss: 0.5470 - val_accuracy: 0.7679\n",
      "Epoch 75/100\n",
      "105/105 [==============================] - 1s 5ms/step - loss: 0.5847 - accuracy: 0.7549 - val_loss: 0.5403 - val_accuracy: 0.7691\n",
      "Epoch 76/100\n",
      "105/105 [==============================] - 1s 5ms/step - loss: 0.5733 - accuracy: 0.7588 - val_loss: 0.5462 - val_accuracy: 0.7691\n",
      "Epoch 77/100\n",
      "105/105 [==============================] - 1s 5ms/step - loss: 0.5676 - accuracy: 0.7689 - val_loss: 0.5516 - val_accuracy: 0.7691\n",
      "Epoch 78/100\n",
      "105/105 [==============================] - 0s 5ms/step - loss: 0.5779 - accuracy: 0.7534 - val_loss: 0.5476 - val_accuracy: 0.7679\n",
      "Epoch 79/100\n",
      "105/105 [==============================] - 1s 5ms/step - loss: 0.5731 - accuracy: 0.7495 - val_loss: 0.5419 - val_accuracy: 0.7703\n",
      "Epoch 80/100\n",
      "105/105 [==============================] - 1s 5ms/step - loss: 0.5653 - accuracy: 0.7576 - val_loss: 0.5430 - val_accuracy: 0.7703\n",
      "Epoch 81/100\n",
      "105/105 [==============================] - 1s 7ms/step - loss: 0.5790 - accuracy: 0.7576 - val_loss: 0.5529 - val_accuracy: 0.7608\n",
      "Epoch 82/100\n",
      "105/105 [==============================] - 1s 5ms/step - loss: 0.5731 - accuracy: 0.7576 - val_loss: 0.5503 - val_accuracy: 0.7608\n",
      "Epoch 83/100\n",
      "105/105 [==============================] - 1s 5ms/step - loss: 0.5760 - accuracy: 0.7564 - val_loss: 0.5419 - val_accuracy: 0.7679\n",
      "Epoch 84/100\n",
      "105/105 [==============================] - 1s 5ms/step - loss: 0.5864 - accuracy: 0.7597 - val_loss: 0.5512 - val_accuracy: 0.7656\n",
      "Epoch 85/100\n",
      "105/105 [==============================] - 1s 5ms/step - loss: 0.5678 - accuracy: 0.7546 - val_loss: 0.5435 - val_accuracy: 0.7715\n",
      "Epoch 86/100\n",
      "105/105 [==============================] - 1s 5ms/step - loss: 0.5672 - accuracy: 0.7579 - val_loss: 0.5485 - val_accuracy: 0.7703\n",
      "Epoch 87/100\n",
      "105/105 [==============================] - 1s 5ms/step - loss: 0.5664 - accuracy: 0.7638 - val_loss: 0.5521 - val_accuracy: 0.7560\n",
      "Epoch 88/100\n",
      "105/105 [==============================] - 1s 5ms/step - loss: 0.5734 - accuracy: 0.7573 - val_loss: 0.5502 - val_accuracy: 0.7596\n",
      "Epoch 89/100\n",
      "105/105 [==============================] - 1s 5ms/step - loss: 0.5681 - accuracy: 0.7513 - val_loss: 0.5515 - val_accuracy: 0.7679\n",
      "Epoch 90/100\n",
      "105/105 [==============================] - 1s 5ms/step - loss: 0.5754 - accuracy: 0.7525 - val_loss: 0.5514 - val_accuracy: 0.7679\n",
      "Epoch 91/100\n",
      "105/105 [==============================] - 1s 5ms/step - loss: 0.5730 - accuracy: 0.7564 - val_loss: 0.5479 - val_accuracy: 0.7679\n",
      "Epoch 92/100\n",
      "105/105 [==============================] - 1s 5ms/step - loss: 0.5742 - accuracy: 0.7561 - val_loss: 0.5503 - val_accuracy: 0.7751\n",
      "Epoch 93/100\n",
      "105/105 [==============================] - 1s 5ms/step - loss: 0.5602 - accuracy: 0.7623 - val_loss: 0.5413 - val_accuracy: 0.7775\n",
      "Epoch 94/100\n",
      "105/105 [==============================] - 1s 5ms/step - loss: 0.5782 - accuracy: 0.7558 - val_loss: 0.5492 - val_accuracy: 0.7632\n",
      "Epoch 95/100\n",
      "105/105 [==============================] - 1s 5ms/step - loss: 0.5625 - accuracy: 0.7516 - val_loss: 0.5393 - val_accuracy: 0.7739\n",
      "Epoch 96/100\n",
      "105/105 [==============================] - 1s 5ms/step - loss: 0.5664 - accuracy: 0.7597 - val_loss: 0.5399 - val_accuracy: 0.7775\n",
      "Epoch 97/100\n",
      "105/105 [==============================] - 1s 5ms/step - loss: 0.5684 - accuracy: 0.7522 - val_loss: 0.5467 - val_accuracy: 0.7727\n",
      "Epoch 98/100\n",
      "105/105 [==============================] - 1s 5ms/step - loss: 0.5634 - accuracy: 0.7644 - val_loss: 0.5440 - val_accuracy: 0.7751\n",
      "Epoch 99/100\n",
      "105/105 [==============================] - 1s 5ms/step - loss: 0.5767 - accuracy: 0.7552 - val_loss: 0.5457 - val_accuracy: 0.7656\n",
      "Epoch 100/100\n",
      "105/105 [==============================] - 1s 8ms/step - loss: 0.5693 - accuracy: 0.7552 - val_loss: 0.5490 - val_accuracy: 0.7584\n"
     ]
    }
   ],
   "source": [
    "history4 = new_model.fit(x_train_scaled,y_train,epochs=100,validation_data=(x_test_scaled,y_test),shuffle=True)\n"
   ]
  },
  {
   "cell_type": "code",
   "execution_count": 126,
   "id": "3efa27f6-cc74-4f78-9151-b218ed7a2919",
   "metadata": {},
   "outputs": [
    {
     "name": "stdout",
     "output_type": "stream",
     "text": [
      "Model: \"sequential_13\"\n",
      "_________________________________________________________________\n",
      " Layer (type)                Output Shape              Param #   \n",
      "=================================================================\n",
      " conv1d_1 (Conv1D)           (None, 8, 32)             128       \n",
      "                                                                 \n",
      " max_pooling1d_1 (MaxPooling  (None, 4, 32)            0         \n",
      " 1D)                                                             \n",
      "                                                                 \n",
      " dropout_7 (Dropout)         (None, 4, 32)             0         \n",
      "                                                                 \n",
      " conv1d_12 (Conv1D)          (None, 2, 64)             6208      \n",
      "                                                                 \n",
      " batch_normalization (BatchN  (None, 2, 64)            256       \n",
      " ormalization)                                                   \n",
      "                                                                 \n",
      " max_pooling1d_5 (MaxPooling  (None, 1, 64)            0         \n",
      " 1D)                                                             \n",
      "                                                                 \n",
      " dropout_8 (Dropout)         (None, 1, 64)             0         \n",
      "                                                                 \n",
      " flatten_5 (Flatten)         (None, 64)                0         \n",
      "                                                                 \n",
      " dense_10 (Dense)            (None, 64)                4160      \n",
      "                                                                 \n",
      " batch_normalization_1 (Batc  (None, 64)               256       \n",
      " hNormalization)                                                 \n",
      "                                                                 \n",
      " dropout_9 (Dropout)         (None, 64)                0         \n",
      "                                                                 \n",
      " dense_11 (Dense)            (None, 3)                 195       \n",
      "                                                                 \n",
      "=================================================================\n",
      "Total params: 11,203\n",
      "Trainable params: 10,947\n",
      "Non-trainable params: 256\n",
      "_________________________________________________________________\n"
     ]
    }
   ],
   "source": [
    "new_model.summary()"
   ]
  },
  {
   "cell_type": "code",
   "execution_count": 127,
   "id": "793b4868-d55f-4929-b599-48d58dee97e3",
   "metadata": {},
   "outputs": [
    {
     "name": "stdout",
     "output_type": "stream",
     "text": [
      "105/105 [==============================] - 0s 2ms/step - loss: 0.5189 - accuracy: 0.7731\n"
     ]
    },
    {
     "data": {
      "text/plain": [
       "[0.5188549757003784, 0.7731218338012695]"
      ]
     },
     "execution_count": 127,
     "metadata": {},
     "output_type": "execute_result"
    }
   ],
   "source": [
    "new_model.evaluate(x_train_scaled,y_train)"
   ]
  },
  {
   "cell_type": "code",
   "execution_count": 128,
   "id": "6d7b0ce4-74e8-4192-bf28-f7501526a6f4",
   "metadata": {},
   "outputs": [
    {
     "name": "stdout",
     "output_type": "stream",
     "text": [
      "27/27 [==============================] - 0s 2ms/step - loss: 0.5490 - accuracy: 0.7584\n"
     ]
    },
    {
     "data": {
      "text/plain": [
       "[0.5490124225616455, 0.7583732008934021]"
      ]
     },
     "execution_count": 128,
     "metadata": {},
     "output_type": "execute_result"
    }
   ],
   "source": [
    "new_model.evaluate(x_test_scaled,y_test)"
   ]
  },
  {
   "cell_type": "code",
   "execution_count": 129,
   "id": "2c97f5a9-1917-4c9d-a5c5-1030acc51d05",
   "metadata": {},
   "outputs": [
    {
     "data": {
      "text/plain": [
       "<matplotlib.legend.Legend at 0x26017eb1ca0>"
      ]
     },
     "execution_count": 129,
     "metadata": {},
     "output_type": "execute_result"
    },
    {
     "data": {
      "image/png": "[encoded data removed]",
      "text/plain": [
       "<Figure size 640x480 with 1 Axes>"
      ]
     },
     "metadata": {},
     "output_type": "display_data"
    }
   ],
   "source": [
    "plt.plot(history4.history[\"loss\"], label = \"train\")\n",
    "plt.plot(history4.history[\"val_loss\"], label = \"test\")\n",
    "plt.legend()"
   ]
  },
  {
   "cell_type": "code",
   "execution_count": 130,
   "id": "f73ffffa-d4fa-4595-8a30-6d9316964d3d",
   "metadata": {},
   "outputs": [
    {
     "data": {
      "text/plain": [
       "<matplotlib.legend.Legend at 0x26017dfdc70>"
      ]
     },
     "execution_count": 130,
     "metadata": {},
     "output_type": "execute_result"
    },
    {
     "data": {
      "image/png": "[encoded data removed]",
      "text/plain": [
       "<Figure size 640x480 with 1 Axes>"
      ]
     },
     "metadata": {},
     "output_type": "display_data"
    }
   ],
   "source": [
    "plt.plot(history4.history[\"accuracy\"],label=\"train\")\n",
    "plt.plot(history4.history[\"val_accuracy\"],label=\"test\")\n",
    "plt.legend()"
   ]
  },
  {
   "cell_type": "markdown",
   "id": "31ead40a-8a11-42f4-a92c-15bc356e1b77",
   "metadata": {},
   "source": [
    "1. 미세조정(드롭아웃,배치정규화)으로 과대적합은 해소되었지만 여전히 정확도가 낮음\n",
    "2. 데이터의 불균형이 원인으로 보임\n"
   ]
  },
  {
   "cell_type": "code",
   "execution_count": null,
   "id": "78b060a6-6d26-49e3-b090-6056c3bf8b7c",
   "metadata": {},
   "outputs": [],
   "source": []
  }
 ],
 "metadata": {
  "kernelspec": {
   "display_name": "Python 3 (ipykernel)",
   "language": "python",
   "name": "python3"
  },
  "language_info": {
   "codemirror_mode": {
    "name": "ipython",
    "version": 3
   },
   "file_extension": ".py",
   "mimetype": "text/x-python",
   "name": "python",
   "nbconvert_exporter": "python",
   "pygments_lexer": "ipython3",
   "version": "3.9.18"
  }
 },
 "nbformat": 4,
 "nbformat_minor": 5
}
